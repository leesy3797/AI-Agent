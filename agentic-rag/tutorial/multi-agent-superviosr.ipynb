{
 "cells": [
  {
   "cell_type": "code",
   "execution_count": 6,
   "metadata": {},
   "outputs": [],
   "source": [
    "from dotenv import load_dotenv\n",
    "# from google import genai\n",
    "# from google.genai import types\n",
    "import google.generativeai as genai\n",
    "from langsmith import traceable\n",
    "import os\n",
    "\n",
    "load_dotenv()\n",
    "\n",
    "google_api_key = os.environ['GOOGLE_API_KEY']\n",
    "\n",
    "genai.configure(\n",
    "    api_key=google_api_key\n",
    ")\n",
    "# client = genai.Client(\n",
    "#     api_key = google_api_key,\n",
    "#     http_options = types.HttpOptions(api_version='v1alpha')\n",
    "# )\n",
    "\n",
    "# http_options = types.HttpOptions(\n",
    "#     async_client_args\n",
    "# )\n",
    "\n",
    "# contents = types.Content(\n",
    "#   role='user',\n",
    "#   parts=[types.Part.from_text(text='Why is the sky blue?')]\n",
    "# )"
   ]
  },
  {
   "cell_type": "code",
   "execution_count": 11,
   "metadata": {},
   "outputs": [],
   "source": [
    "model = genai.GenerativeModel(\n",
    "    model_name= 'gemini-2.0-flash-lite'\n",
    ")\n",
    "\n",
    "@traceable\n",
    "def generate_with_gemini(prompt:str):\n",
    "    response = model.generate_content(prompt)\n",
    "    return response\n",
    "\n",
    "res = generate_with_gemini('When is the Independant Day in USA?')"
   ]
  },
  {
   "cell_type": "code",
   "execution_count": 28,
   "metadata": {},
   "outputs": [
    {
     "name": "stdout",
     "output_type": "stream",
     "text": [
      "DuckDuckGo 검색 결과: It's certainly an unusual New York City mayor's race. Spurred by a historic indictment of the sitting mayor, a long list of prominent Democrats started fundraising to see if they can topple incumbent Mayor Eric Adams in the June 24 Democratic primary. But in a stunning turn of events, Adams is ... The New York City mayoral race was already shaping up to be a campaign like no other — and then the incumbent ditched his party. The move came just after a federal judge dismissed Mayor Eric Adams' corruption case at the behest of the Trump administration, making Adams' most significant legal troubles disappear.. The next day, Adams declared that he would not be running as a Democrat for ... New York City, NYC Mayor Election Polls 2025: Incumbent Mayor Eric Adams is facing challenges, and with Andrew Cuomo officially entering the NYC mayoral race, his chances of reelection have weakened.Cuomo is currently leading in the polls and holds a higher favorability rating. The 2025 New York City mayoral election, scheduled for November 4, 2025, will see incumbent Democratic Mayor Eric ... Statistically, there are more than 7.4 million registered voters in New York City. Based on the borough populations, 31% of the city's voters are in Brooklyn, 26% in Queens, nearly 21% in ... Former Gov. Andrew Cuomo is trying to make his political comeback by becoming New York City's next mayor. ... Brooklyn State Sen. Zellnor Myrie at the New York Post office on May 15, 2025.\n"
     ]
    }
   ],
   "source": [
    "from langchain_community.tools import DuckDuckGoSearchRun\n",
    "\n",
    "# DuckDuckGoSearchRun 인스턴스 생성\n",
    "web_search = DuckDuckGoSearchRun()\n",
    "\n",
    "query = \"who is the mayor of NYC in 2025?\"\n",
    "search_result = web_search.invoke(query)\n",
    "\n",
    "print(\"DuckDuckGo 검색 결과:\", search_result)"
   ]
  },
  {
   "cell_type": "code",
   "execution_count": 29,
   "metadata": {},
   "outputs": [
    {
     "name": "stdout",
     "output_type": "stream",
     "text": [
      "(\"It's certainly an unusual New York City mayor's race. Spurred by a historic \"\n",
      " 'indictment of the sitting mayor, a long list of prominent Democrats started '\n",
      " 'fundraising to see if they can topple incumbent Mayor Eric Adams in the June '\n",
      " '24 Democratic primary. But in a stunning turn of events, Adams is ... The '\n",
      " 'New York City mayoral race was already shaping up to be a campaign like no '\n",
      " 'other — and then the incumbent ditched his party. The move came just after a '\n",
      " \"federal judge dismissed Mayor Eric Adams' corruption case at the behest of \"\n",
      " \"the Trump administration, making Adams' most significant legal troubles \"\n",
      " 'disappear.. The next day, Adams declared that he would not be running as a '\n",
      " 'Democrat for ... New York City, NYC Mayor Election Polls 2025: Incumbent '\n",
      " 'Mayor Eric Adams is facing challenges, and with Andrew Cuomo officially '\n",
      " 'entering the NYC mayoral race, his chances of reelection have weakened.Cuomo '\n",
      " 'is currently leading in the polls and holds a higher favorability rating. '\n",
      " 'The 2025 New York City mayoral election, scheduled for November 4, 2025, '\n",
      " 'will see incumbent Democratic Mayor Eric ... Statistically, there are more '\n",
      " 'than 7.4 million registered voters in New York City. Based on the borough '\n",
      " \"populations, 31% of the city's voters are in Brooklyn, 26% in Queens, nearly \"\n",
      " '21% in ... Former Gov. Andrew Cuomo is trying to make his political comeback '\n",
      " \"by becoming New York City's next mayor. ... Brooklyn State Sen. Zellnor \"\n",
      " 'Myrie at the New York Post office on May 15, 2025.')\n"
     ]
    }
   ],
   "source": [
    "from pprint import pprint\n",
    "pprint(search_result)"
   ]
  },
  {
   "cell_type": "code",
   "execution_count": 78,
   "metadata": {},
   "outputs": [],
   "source": [
    "from langgraph.prebuilt import create_react_agent\n",
    "\n",
    "research_agent = create_react_agent(\n",
    "    model = 'google_genai:gemini-2.0-flash-lite',\n",
    "    tools = [web_search],\n",
    "    prompt=(\n",
    "        \"You are a research agent.\\n\\n\"\n",
    "        \"INSTRUCTIONS:\\n\"\n",
    "        \"- Assist ONLY with research-related tasks, DO NOT do any math\\n\"\n",
    "        \"- After you're done with your tasks, respond to the supervisor directly\\n\"\n",
    "        \"- Respond ONLY with the results of your work, do NOT include ANY other text.\"\n",
    "    ),\n",
    "    name=\"research_agent\",\n",
    ")"
   ]
  },
  {
   "cell_type": "code",
   "execution_count": 79,
   "metadata": {},
   "outputs": [],
   "source": [
    "from langchain_core.messages import convert_to_messages\n",
    "\n",
    "\n",
    "def pretty_print_message(message, indent=False):\n",
    "    pretty_message = message.pretty_repr(html=True)\n",
    "    if not indent:\n",
    "        print(pretty_message)\n",
    "        return\n",
    "\n",
    "    indented = \"\\n\".join(\"\\t\" + c for c in pretty_message.split(\"\\n\"))\n",
    "    print(indented)\n",
    "\n",
    "\n",
    "def pretty_print_messages(update, last_message=False):\n",
    "    is_subgraph = False\n",
    "    if isinstance(update, tuple):\n",
    "        ns, update = update\n",
    "        # skip parent graph updates in the printouts\n",
    "        if len(ns) == 0:\n",
    "            return\n",
    "\n",
    "        graph_id = ns[-1].split(\":\")[0]\n",
    "        print(f\"Update from subgraph {graph_id}:\")\n",
    "        print(\"\\n\")\n",
    "        is_subgraph = True\n",
    "\n",
    "    for node_name, node_update in update.items():\n",
    "        update_label = f\"Update from node {node_name}:\"\n",
    "        if is_subgraph:\n",
    "            update_label = \"\\t\" + update_label\n",
    "\n",
    "        print(update_label)\n",
    "        print(\"\\n\")\n",
    "\n",
    "        messages = convert_to_messages(node_update[\"messages\"])\n",
    "        if last_message:\n",
    "            messages = messages[-1:]\n",
    "\n",
    "        for m in messages:\n",
    "            pretty_print_message(m, indent=is_subgraph)\n",
    "        print(\"\\n\")"
   ]
  },
  {
   "cell_type": "code",
   "execution_count": 80,
   "metadata": {},
   "outputs": [
    {
     "name": "stdout",
     "output_type": "stream",
     "text": [
      "Update from node agent:\n",
      "\n",
      "\n",
      "==================================\u001b[1m Ai Message \u001b[0m==================================\n",
      "Name: research_agent\n",
      "Tool Calls:\n",
      "  duckduckgo_search (56035f4f-6ffc-4ec2-b571-7e7909300b6e)\n",
      " Call ID: 56035f4f-6ffc-4ec2-b571-7e7909300b6e\n",
      "  Args:\n",
      "    query: who is the mayor of NYC?\n",
      "\n",
      "\n",
      "Update from node tools:\n",
      "\n",
      "\n",
      "=================================\u001b[1m Tool Message \u001b[0m=================================\n",
      "Name: duckduckgo_search\n",
      "\n",
      "Four years ago, New Yorkers for the first time voted for the next mayor of the city using ranked choice. But soon after releasing preliminary results, the elections board announced that it had incorrectly included in those results 135,000 test ballots. The debacle threw the mayor's race into limbo. The New York City primary election is June 24, with early voting open until June 22. Eleven Democrats are running for mayor, including Adrienne E. Adams and Andrew M. Cuomo. Unofficial, first ... New York City Public Advocate Jumaane Williams is next in the line of succession and would become acting mayor. He previously served on the NYC Council representing the 45th District neighborhoods ... New York City, NYC Mayor Election Polls 2025: Incumbent Mayor Eric Adams is facing challenges, and with Andrew Cuomo officially entering the NYC mayoral race, his chances of reelection have weakened.Cuomo is currently leading in the polls and holds a higher favorability rating. The 2025 New York City mayoral election, scheduled for November 4, 2025, will see incumbent Democratic Mayor Eric ... These are the latest polls of the New York City mayoral primary including simulated ranked-choice results for the first and final rounds of voting. Polls from \"select pollsters\" meet certain ...\n",
      "\n",
      "\n",
      "Update from node agent:\n",
      "\n",
      "\n",
      "==================================\u001b[1m Ai Message \u001b[0m==================================\n",
      "Name: research_agent\n",
      "\n",
      "The current mayor of New York City is Eric Adams.\n",
      "\n",
      "\n"
     ]
    }
   ],
   "source": [
    "for chunk in research_agent.stream(\n",
    "    {\"messages\": [{\"role\": \"user\", \"content\": \"who is the mayor of NYC?\"}]}\n",
    "):\n",
    "    pretty_print_messages(chunk)"
   ]
  },
  {
   "cell_type": "code",
   "execution_count": 81,
   "metadata": {},
   "outputs": [],
   "source": [
    "def add(a: float, b: float):\n",
    "    \"\"\"Add two numbers.\"\"\"\n",
    "    return a + b\n",
    "\n",
    "\n",
    "def multiply(a: float, b: float):\n",
    "    \"\"\"Multiply two numbers.\"\"\"\n",
    "    return a * b\n",
    "\n",
    "\n",
    "def divide(a: float, b: float):\n",
    "    \"\"\"Divide two numbers.\"\"\"\n",
    "    return a / b"
   ]
  },
  {
   "cell_type": "code",
   "execution_count": 82,
   "metadata": {},
   "outputs": [],
   "source": [
    "math_agent = create_react_agent(\n",
    "    model = 'google_genai:gemini-2.0-flash',\n",
    "    tools = [add, multiply, divide],\n",
    "    prompt = (\n",
    "        \"You are a math agent.\\n\\n\"\n",
    "        \"INSTRUCTIONS:\\n\"\n",
    "        \"- Assist ONLY with math-related tasks\\n\"\n",
    "        \"- After you're done with your tasks, respond to the supervisor directly\\n\"\n",
    "        \"- Respond ONLY with the results of your work, do NOT include ANY other text.\"\n",
    "    ),\n",
    "    name = 'math_agent'\n",
    ")"
   ]
  },
  {
   "cell_type": "code",
   "execution_count": 83,
   "metadata": {},
   "outputs": [
    {
     "name": "stdout",
     "output_type": "stream",
     "text": [
      "Update from node agent:\n",
      "\n",
      "\n",
      "==================================\u001b[1m Ai Message \u001b[0m==================================\n",
      "Name: math_agent\n",
      "Tool Calls:\n",
      "  add (2237f61b-f4fa-49ce-ad74-bbfb01ea465a)\n",
      " Call ID: 2237f61b-f4fa-49ce-ad74-bbfb01ea465a\n",
      "  Args:\n",
      "    a: 3.0\n",
      "    b: 5.0\n",
      "\n",
      "\n",
      "Update from node tools:\n",
      "\n",
      "\n",
      "=================================\u001b[1m Tool Message \u001b[0m=================================\n",
      "Name: add\n",
      "\n",
      "8.0\n",
      "\n",
      "\n",
      "Update from node agent:\n",
      "\n",
      "\n",
      "==================================\u001b[1m Ai Message \u001b[0m==================================\n",
      "Name: math_agent\n",
      "Tool Calls:\n",
      "  multiply (022f19e8-ec9e-47d7-bdef-22e45cf10268)\n",
      " Call ID: 022f19e8-ec9e-47d7-bdef-22e45cf10268\n",
      "  Args:\n",
      "    a: 8.0\n",
      "    b: 7.0\n",
      "\n",
      "\n",
      "Update from node tools:\n",
      "\n",
      "\n",
      "=================================\u001b[1m Tool Message \u001b[0m=================================\n",
      "Name: multiply\n",
      "\n",
      "56.0\n",
      "\n",
      "\n",
      "Update from node agent:\n",
      "\n",
      "\n",
      "==================================\u001b[1m Ai Message \u001b[0m==================================\n",
      "Name: math_agent\n",
      "\n",
      "56\n",
      "\n",
      "\n"
     ]
    }
   ],
   "source": [
    "for chunk in math_agent.stream(\n",
    "    {\"messages\": [{\"role\": \"user\", \"content\": \"what's (3 + 5) x 7\"}]}\n",
    "):\n",
    "    pretty_print_messages(chunk)"
   ]
  },
  {
   "cell_type": "code",
   "execution_count": 84,
   "metadata": {},
   "outputs": [
    {
     "data": {
      "image/png": "[encoded data removed]",
      "text/plain": [
       "<IPython.core.display.Image object>"
      ]
     },
     "execution_count": 84,
     "metadata": {},
     "output_type": "execute_result"
    }
   ],
   "source": [
    "from IPython.display import Image, display\n",
    "\n",
    "\n",
    "Image(math_agent.get_graph().draw_mermaid_png())"
   ]
  },
  {
   "cell_type": "code",
   "execution_count": 85,
   "metadata": {},
   "outputs": [],
   "source": [
    "from langgraph_supervisor import create_supervisor\n",
    "from langchain.chat_models import init_chat_model\n",
    "\n",
    "supervisor = create_supervisor(\n",
    "    model = init_chat_model('google_genai:gemini-2.0-flash'),\n",
    "    agents = [research_agent, math_agent],\n",
    "    prompt = (\n",
    "        \"You are a supervisor managing two agents:\\n\"\n",
    "        \"- a research agent. Assign research-related tasks to this agent\\n\"\n",
    "        \"- a math agent. Assign math-related tasks to this agent\\n\"\n",
    "        \"Assign work to one agent at a time, do not call agents in parallel.\\n\"\n",
    "        \"Do not do any work yourself.\"\n",
    "    ),\n",
    "    add_handoff_back_messages = True,\n",
    "    output_mode = 'full_history'\n",
    ").compile()"
   ]
  },
  {
   "cell_type": "code",
   "execution_count": 86,
   "metadata": {},
   "outputs": [
    {
     "data": {
      "image/png": "[encoded data removed]",
      "text/plain": [
       "<IPython.core.display.Image object>"
      ]
     },
     "metadata": {},
     "output_type": "display_data"
    }
   ],
   "source": [
    "from IPython.display import display, Image\n",
    "\n",
    "display(Image(supervisor.get_graph().draw_mermaid_png()))"
   ]
  },
  {
   "cell_type": "code",
   "execution_count": 88,
   "metadata": {},
   "outputs": [
    {
     "name": "stdout",
     "output_type": "stream",
     "text": [
      "Update from node supervisor:\n",
      "\n",
      "\n",
      "=================================\u001b[1m Tool Message \u001b[0m=================================\n",
      "Name: transfer_to_research_agent\n",
      "\n",
      "Successfully transferred to research_agent\n",
      "\n",
      "\n",
      "Update from node research_agent:\n",
      "\n",
      "\n",
      "=================================\u001b[1m Tool Message \u001b[0m=================================\n",
      "Name: transfer_back_to_supervisor\n",
      "\n",
      "Successfully transferred back to supervisor\n",
      "\n",
      "\n",
      "Update from node supervisor:\n",
      "\n",
      "\n",
      "==================================\u001b[1m Ai Message \u001b[0m==================================\n",
      "Name: supervisor\n",
      "\n",
      "I couldn't find the exact GDP for New York City in 2024. However, I can estimate the percentage if you provide me with an estimate for New York City's 2024 GDP. Would you like me to proceed with an estimation if you can find a number?\n",
      "\n",
      "\n"
     ]
    }
   ],
   "source": [
    "for chunk in supervisor.stream(\n",
    "    {\n",
    "        \"messages\": [\n",
    "            {\n",
    "                \"role\": \"user\",\n",
    "                \"content\": \"2024년 미국의 GDP와 뉴욕시의 GDP가 어떻게 되고, 뉴욕시 GDP는 미국 GDP의 몇 퍼센트를 차지하고 있어?\",\n",
    "            }\n",
    "        ]\n",
    "    },\n",
    "):\n",
    "    pretty_print_messages(chunk, last_message=True)"
   ]
  },
  {
   "cell_type": "code",
   "execution_count": 89,
   "metadata": {},
   "outputs": [],
   "source": [
    "final_message_history = chunk[\"supervisor\"][\"messages\"]"
   ]
  },
  {
   "cell_type": "code",
   "execution_count": 90,
   "metadata": {},
   "outputs": [
    {
     "data": {
      "text/plain": [
       "[HumanMessage(content='2024년 미국의 GDP와 뉴욕시의 GDP가 어떻게 되고, 뉴욕시 GDP는 미국 GDP의 몇 퍼센트를 차지하고 있어?', additional_kwargs={}, response_metadata={}, id='ce0796bb-d172-44f3-a8f8-03096224132e'), AIMessage(content='', additional_kwargs={'function_call': {'name': 'transfer_to_research_agent', 'arguments': '{}'}}, response_metadata={'prompt_feedback': {'block_reason': 0, 'safety_ratings': []}, 'finish_reason': 'STOP', 'model_name': 'gemini-2.0-flash', 'safety_ratings': []}, name='supervisor', id='run--ed4d7241-de53-4d62-8e1e-cd564b875678-0', tool_calls=[{'name': 'transfer_to_research_agent', 'args': {}, 'id': 'e48d2bd8-9c69-475e-8429-7938ffde64d5', 'type': 'tool_call'}], usage_metadata={'input_tokens': 134, 'output_tokens': 7, 'total_tokens': 141, 'input_token_details': {'cache_read': 0}}), ToolMessage(content='Successfully transferred to research_agent', name='transfer_to_research_agent', id='393a9a19-4d69-4051-a0e6-0398558baf79', tool_call_id='e48d2bd8-9c69-475e-8429-7938ffde64d5'), AIMessage(content='', additional_kwargs={'function_call': {'name': 'duckduckgo_search', 'arguments': '{\"query\": \"2024 New York City GDP\"}'}}, response_metadata={'prompt_feedback': {'block_reason': 0, 'safety_ratings': []}, 'finish_reason': 'STOP', 'model_name': 'gemini-2.0-flash-lite', 'safety_ratings': []}, name='research_agent', id='run--2853ea5f-921a-4056-9928-adb4353c9096-0', tool_calls=[{'name': 'duckduckgo_search', 'args': {'query': '2024 US GDP'}, 'id': '79d17836-e2ae-456e-ad4f-6717735b281f', 'type': 'tool_call'}, {'name': 'duckduckgo_search', 'args': {'query': '2024 New York City GDP'}, 'id': 'b2d68cda-7c01-41a3-a19e-db051742a447', 'type': 'tool_call'}], usage_metadata={'input_tokens': 161, 'output_tokens': 26, 'total_tokens': 187, 'input_token_details': {'cache_read': 0}}), ToolMessage(content='Real gross domestic product (GDP) increased at an annual rate of 2.4 percent in the fourth quarter of 2024 (October, November, and December), according to the third estimate released by the U.S. Bureau of Economic Analysis. In the third quarter, real GDP increased 3.1 percent. ... An official website of the United States government. Toggle ... Q3 2024: 29,374.914 : Q2 2024: 29,016.714 : Q1 2024: 28,624.069 : View All: Units: ... Gross domestic product (GDP), the featured measure of U.S. output, is the market value of the goods and services produced by labor and property located in the United States.For more information, ... This graph shows a forecast of the gross domestic product of the United States of America for fiscal years 2024 to 2034. ... U.S. value added to GDP 2024, by industry; U.S. gross domestic product ... The components of US Gross Domestic Product (GDP) for the year 2024 Table: US GDP measured by components of demand for the year 2024 Component Amount (trillions of $) Percent Pie chart percent Consumption 19.928167 67.89% 52.90% Investment 5.347692 18.22% 14.20% Government 5.032578 17.14% 13.36% Exports 3.204134 10.92% 8.51% Imports 4.15825 -14.17% 11.04% Total GDP 29. Gross domestic product in the second quarter was expected to show a 2.1% annualized increase.', name='duckduckgo_search', id='8160a288-8b89-4885-87a5-4d3548038ba4', tool_call_id='79d17836-e2ae-456e-ad4f-6717735b281f'), ToolMessage(content='I. Executive Summary The state of New York City\\'s economy and finances is stronger than many would have predicted four years ago when the city was approaching the first holiday season of the COVID-19 pandemic and the last presidential transition. ... In 2024, employment growth in New York City was stagnant in all but two private industry ... Graph and download economic data for Gross Domestic Product: All Industry Total in New York (NYNGSP) from 1997 to 2024 about GSP, NY, industry, GDP, and USA. As of 2025, the New York metropolitan area is the world\\'s principal fintech and financial center [1] [2] and the largest metropolitan economy in the world, with a nominal gross metropolitan product of over US$2.5 trillion. [3]This is a list of cities in the world by nominal gross domestic product (GDP).The United Nations uses three definitions for what constitutes a city, as not all cities ... \"New York City\\'s economy is strong and benefitting from a bold and diverse set of industries in finance, media, culture, life sciences, ... The report is primarily focused on 2024 data for New York City. In general, 2024 data is compared to 2023 for annual growth, 2020 is used for pandemic comparisons, and 2019 is used for pre-pandemic ... Discover all statistics and data on New York City now on statista.com! ... New York metro area GDP 2001-2023. ... Premium Statistic Number of felonies committed in New York City 2000-2024', name='duckduckgo_search', id='f75c4b99-75d0-4807-8181-35946138203d', tool_call_id='b2d68cda-7c01-41a3-a19e-db051742a447'), AIMessage(content='2024년 미국의 GDP는 분기별로 2.4% 증가했습니다. 2024년 뉴욕시 GDP에 대한 구체적인 수치는 검색 결과에 나타나지 않았습니다. 그러나 뉴욕시의 경제가 강하며 금융, 미디어, 문화, 생명 과학 등 다양한 산업 분야에서 이익을 얻고 있다는 정보가 있습니다. 또한 뉴욕시의 2024년 고용 성장률은 두 개를 제외한 모든 민간 산업에서 정체되어 있었습니다. 뉴욕 대도시권은 2025년 현재 2조 5천억 달러 이상의 명목 대도시 제품으로 세계 최대의 대도시 경제입니다.\\n\\n뉴욕시 GDP가 미국 GDP의 몇 퍼센트를 차지하는지에 대한 정확한 정보는 검색 결과에서 찾을 수 없었습니다.', additional_kwargs={}, response_metadata={'prompt_feedback': {'block_reason': 0, 'safety_ratings': []}, 'finish_reason': 'STOP', 'model_name': 'gemini-2.0-flash-lite', 'safety_ratings': []}, name='research_agent', id='run--d5ff2e2b-eb11-4bcd-8e91-eb1476018904-0', usage_metadata={'input_tokens': 988, 'output_tokens': 209, 'total_tokens': 1197, 'input_token_details': {'cache_read': 0}}), AIMessage(content='Transferring back to supervisor', additional_kwargs={}, response_metadata={'__is_handoff_back': True}, name='research_agent', id='802bbd63-f1e1-4edf-b699-204524fbe75f', tool_calls=[{'name': 'transfer_back_to_supervisor', 'args': {}, 'id': '186dac38-aa6b-49f5-9e55-651c5853ba06', 'type': 'tool_call'}]), ToolMessage(content='Successfully transferred back to supervisor', name='transfer_back_to_supervisor', id='1592f330-5aab-4a97-b548-740855c42253', tool_call_id='186dac38-aa6b-49f5-9e55-651c5853ba06'), AIMessage(content=\"I couldn't find the exact GDP for New York City in 2024. However, I can estimate the percentage if you provide me with an estimate for New York City's 2024 GDP. Would you like me to proceed with an estimation if you can find a number?\", additional_kwargs={}, response_metadata={'prompt_feedback': {'block_reason': 0, 'safety_ratings': []}, 'finish_reason': 'STOP', 'model_name': 'gemini-2.0-flash', 'safety_ratings': []}, name='supervisor', id='run--548ac082-70f8-4aa8-b613-7fff85071ddf-0', usage_metadata={'input_tokens': 1210, 'output_tokens': 63, 'total_tokens': 1273, 'input_token_details': {'cache_read': 0}})]"
      ]
     },
     "execution_count": 90,
     "metadata": {},
     "output_type": "execute_result"
    }
   ],
   "source": [
    "final_message_history"
   ]
  },
  {
   "cell_type": "code",
   "execution_count": 91,
   "metadata": {},
   "outputs": [
    {
     "name": "stdout",
     "output_type": "stream",
     "text": [
      "================================\u001b[1m Human Message \u001b[0m=================================\n",
      "\n",
      "2024년 미국의 GDP와 뉴욕시의 GDP가 어떻게 되고, 뉴욕시 GDP는 미국 GDP의 몇 퍼센트를 차지하고 있어?\n",
      "==================================\u001b[1m Ai Message \u001b[0m==================================\n",
      "Name: supervisor\n",
      "Tool Calls:\n",
      "  transfer_to_research_agent (e48d2bd8-9c69-475e-8429-7938ffde64d5)\n",
      " Call ID: e48d2bd8-9c69-475e-8429-7938ffde64d5\n",
      "  Args:\n",
      "=================================\u001b[1m Tool Message \u001b[0m=================================\n",
      "Name: transfer_to_research_agent\n",
      "\n",
      "Successfully transferred to research_agent\n",
      "==================================\u001b[1m Ai Message \u001b[0m==================================\n",
      "Name: research_agent\n",
      "Tool Calls:\n",
      "  duckduckgo_search (79d17836-e2ae-456e-ad4f-6717735b281f)\n",
      " Call ID: 79d17836-e2ae-456e-ad4f-6717735b281f\n",
      "  Args:\n",
      "    query: 2024 US GDP\n",
      "  duckduckgo_search (b2d68cda-7c01-41a3-a19e-db051742a447)\n",
      " Call ID: b2d68cda-7c01-41a3-a19e-db051742a447\n",
      "  Args:\n",
      "    query: 2024 New York City GDP\n",
      "=================================\u001b[1m Tool Message \u001b[0m=================================\n",
      "Name: duckduckgo_search\n",
      "\n",
      "Real gross domestic product (GDP) increased at an annual rate of 2.4 percent in the fourth quarter of 2024 (October, November, and December), according to the third estimate released by the U.S. Bureau of Economic Analysis. In the third quarter, real GDP increased 3.1 percent. ... An official website of the United States government. Toggle ... Q3 2024: 29,374.914 : Q2 2024: 29,016.714 : Q1 2024: 28,624.069 : View All: Units: ... Gross domestic product (GDP), the featured measure of U.S. output, is the market value of the goods and services produced by labor and property located in the United States.For more information, ... This graph shows a forecast of the gross domestic product of the United States of America for fiscal years 2024 to 2034. ... U.S. value added to GDP 2024, by industry; U.S. gross domestic product ... The components of US Gross Domestic Product (GDP) for the year 2024 Table: US GDP measured by components of demand for the year 2024 Component Amount (trillions of $) Percent Pie chart percent Consumption 19.928167 67.89% 52.90% Investment 5.347692 18.22% 14.20% Government 5.032578 17.14% 13.36% Exports 3.204134 10.92% 8.51% Imports 4.15825 -14.17% 11.04% Total GDP 29. Gross domestic product in the second quarter was expected to show a 2.1% annualized increase.\n",
      "=================================\u001b[1m Tool Message \u001b[0m=================================\n",
      "Name: duckduckgo_search\n",
      "\n",
      "I. Executive Summary The state of New York City's economy and finances is stronger than many would have predicted four years ago when the city was approaching the first holiday season of the COVID-19 pandemic and the last presidential transition. ... In 2024, employment growth in New York City was stagnant in all but two private industry ... Graph and download economic data for Gross Domestic Product: All Industry Total in New York (NYNGSP) from 1997 to 2024 about GSP, NY, industry, GDP, and USA. As of 2025, the New York metropolitan area is the world's principal fintech and financial center [1] [2] and the largest metropolitan economy in the world, with a nominal gross metropolitan product of over US$2.5 trillion. [3]This is a list of cities in the world by nominal gross domestic product (GDP).The United Nations uses three definitions for what constitutes a city, as not all cities ... \"New York City's economy is strong and benefitting from a bold and diverse set of industries in finance, media, culture, life sciences, ... The report is primarily focused on 2024 data for New York City. In general, 2024 data is compared to 2023 for annual growth, 2020 is used for pandemic comparisons, and 2019 is used for pre-pandemic ... Discover all statistics and data on New York City now on statista.com! ... New York metro area GDP 2001-2023. ... Premium Statistic Number of felonies committed in New York City 2000-2024\n",
      "==================================\u001b[1m Ai Message \u001b[0m==================================\n",
      "Name: research_agent\n",
      "\n",
      "2024년 미국의 GDP는 분기별로 2.4% 증가했습니다. 2024년 뉴욕시 GDP에 대한 구체적인 수치는 검색 결과에 나타나지 않았습니다. 그러나 뉴욕시의 경제가 강하며 금융, 미디어, 문화, 생명 과학 등 다양한 산업 분야에서 이익을 얻고 있다는 정보가 있습니다. 또한 뉴욕시의 2024년 고용 성장률은 두 개를 제외한 모든 민간 산업에서 정체되어 있었습니다. 뉴욕 대도시권은 2025년 현재 2조 5천억 달러 이상의 명목 대도시 제품으로 세계 최대의 대도시 경제입니다.\n",
      "\n",
      "뉴욕시 GDP가 미국 GDP의 몇 퍼센트를 차지하는지에 대한 정확한 정보는 검색 결과에서 찾을 수 없었습니다.\n",
      "==================================\u001b[1m Ai Message \u001b[0m==================================\n",
      "Name: research_agent\n",
      "\n",
      "Transferring back to supervisor\n",
      "Tool Calls:\n",
      "  transfer_back_to_supervisor (186dac38-aa6b-49f5-9e55-651c5853ba06)\n",
      " Call ID: 186dac38-aa6b-49f5-9e55-651c5853ba06\n",
      "  Args:\n",
      "=================================\u001b[1m Tool Message \u001b[0m=================================\n",
      "Name: transfer_back_to_supervisor\n",
      "\n",
      "Successfully transferred back to supervisor\n",
      "==================================\u001b[1m Ai Message \u001b[0m==================================\n",
      "Name: supervisor\n",
      "\n",
      "I couldn't find the exact GDP for New York City in 2024. However, I can estimate the percentage if you provide me with an estimate for New York City's 2024 GDP. Would you like me to proceed with an estimation if you can find a number?\n"
     ]
    }
   ],
   "source": [
    "for m in final_message_history:\n",
    "    pretty_print_message(m)"
   ]
  },
  {
   "cell_type": "code",
   "execution_count": 95,
   "metadata": {},
   "outputs": [],
   "source": [
    "from typing import Annotated\n",
    "from langchain_core.tools import tool, InjectedToolCallId\n",
    "from langgraph.prebuilt import InjectedState\n",
    "from langgraph.graph import StateGraph, START, MessagesState\n",
    "from langgraph.types import Command"
   ]
  },
  {
   "cell_type": "code",
   "execution_count": 96,
   "metadata": {},
   "outputs": [],
   "source": [
    "def create_handoff_tool(*, agent_name:str, description:str | None = None):\n",
    "    name = f\"transfer_to_{agent_name}\"\n",
    "    description = description or f\"Ask {agent_name} fro help.\"\n",
    "\n",
    "    @tool(name, description=description)\n",
    "    def handoff_tool(\n",
    "        state : Annotated[MessagesState, InjectedState],\n",
    "        tool_call_id : Annotated[str, InjectedToolCallId]\n",
    "    ) -> Command:\n",
    "        tool_message = {\n",
    "            \"role\" : \"tool\",\n",
    "            \"content\" : f\"Successfully transferred to {agent_name}\",\n",
    "            \"name\" : name,\n",
    "            \"tool_call_id\" : tool_call_id,\n",
    "        }\n",
    "        return Command(\n",
    "            goto = agent_name,\n",
    "            update = {**state, \"messages\" : state[\"messages\"] + [tool_message]},\n",
    "            graph=Command.PARENT\n",
    "        )\n",
    "\n",
    "    return handoff_tool\n",
    "\n",
    "assign_to_research_agent = create_handoff_tool(\n",
    "    agent_name = \"research_agent\",\n",
    "    description=\"Assign task to a researcher agent.\"\n",
    ")\n",
    "\n",
    "assign_to_math_agent = create_handoff_tool(\n",
    "    agent_name = \"math_agent\",\n",
    "    description = \"Assign task to a math agent\"\n",
    ")"
   ]
  },
  {
   "cell_type": "code",
   "execution_count": 97,
   "metadata": {},
   "outputs": [],
   "source": [
    "supervisor_agent = create_react_agent(\n",
    "    model='google_genai:gemini-2.0-flash',\n",
    "    tools = [assign_to_research_agent, assign_to_math_agent],\n",
    "    prompt = (\n",
    "        \"You are a supervisor managing two agents:\\n\"\n",
    "        \"- a research agent. Assign research-related tasks to this agent\\n\"\n",
    "        \"- a math agent. Assign math-related tasks to this agent\\n\"\n",
    "        \"Assign work to one agent at a time, do not call agents in parallel.\\n\"\n",
    "        \"Do not do any work yourself.\"\n",
    "    ),\n",
    "    name = \"supervisor\",\n",
    ")"
   ]
  },
  {
   "cell_type": "code",
   "execution_count": 105,
   "metadata": {},
   "outputs": [],
   "source": [
    "from langgraph.graph import END\n",
    "\n",
    "workflow = StateGraph(MessagesState)\n",
    "workflow.add_node(supervisor_agent, destinations=[\"research_agent\", \"math_agent\"])\n",
    "workflow.add_node(research_agent)\n",
    "workflow.add_node(math_agent)\n",
    "workflow.add_edge(START, 'supervisor')\n",
    "workflow.add_edge('research_agent', 'supervisor')\n",
    "workflow.add_edge('math_agent', 'supervisor')\n",
    "supervisor = workflow.compile()"
   ]
  },
  {
   "cell_type": "code",
   "execution_count": 108,
   "metadata": {},
   "outputs": [
    {
     "data": {
      "image/png": "[encoded data removed]",
      "text/plain": [
       "<IPython.core.display.Image object>"
      ]
     },
     "execution_count": 108,
     "metadata": {},
     "output_type": "execute_result"
    }
   ],
   "source": [
    "Image(supervisor.get_graph().draw_mermaid_png())"
   ]
  },
  {
   "cell_type": "code",
   "execution_count": 109,
   "metadata": {},
   "outputs": [
    {
     "name": "stdout",
     "output_type": "stream",
     "text": [
      "Update from node supervisor:\n",
      "\n",
      "\n",
      "=================================\u001b[1m Tool Message \u001b[0m=================================\n",
      "Name: transfer_to_research_agent\n",
      "\n",
      "Successfully transferred to research_agent\n",
      "\n",
      "\n",
      "Update from node research_agent:\n",
      "\n",
      "\n",
      "==================================\u001b[1m Ai Message \u001b[0m==================================\n",
      "Name: research_agent\n",
      "\n",
      "I am sorry, I cannot provide the exact GDP for the US and New York state for 2024. The search results provide the US GDP growth rate for the fourth quarter of 2024 and mention the New York state GDP, but do not provide the specific values needed to calculate the percentage.\n",
      "\n",
      "\n",
      "Update from node supervisor:\n",
      "\n",
      "\n",
      "=================================\u001b[1m Tool Message \u001b[0m=================================\n",
      "Name: transfer_to_math_agent\n",
      "\n",
      "Successfully transferred to math_agent\n",
      "\n",
      "\n",
      "Update from node math_agent:\n",
      "\n",
      "\n",
      "==================================\u001b[1m Ai Message \u001b[0m==================================\n",
      "Name: math_agent\n",
      "\n",
      "I am designed to assist with math-related tasks only.\n",
      "\n",
      "\n",
      "Update from node supervisor:\n",
      "\n",
      "\n",
      "==================================\u001b[1m Ai Message \u001b[0m==================================\n",
      "Name: supervisor\n",
      "\n",
      " I cannot proceed without specific numerical values for the US and New York state GDP in 2024.\n",
      "\n",
      "\n"
     ]
    }
   ],
   "source": [
    "for chunk in supervisor.stream(\n",
    "    {\n",
    "        \"messages\" : [\n",
    "            {\n",
    "                \"role\" : \"user\",\n",
    "                \"content\" : \"find US and New York state GDP in 2024. what % of US GDP was New York state?\"\n",
    "            }\n",
    "        ]\n",
    "    }\n",
    "):\n",
    "    pretty_print_messages(chunk, last_message = True)"
   ]
  },
  {
   "cell_type": "code",
   "execution_count": 117,
   "metadata": {},
   "outputs": [],
   "source": [
    "final_message_history = chunk['supervisor']['messages']"
   ]
  },
  {
   "cell_type": "code",
   "execution_count": 118,
   "metadata": {},
   "outputs": [
    {
     "name": "stdout",
     "output_type": "stream",
     "text": [
      "================================\u001b[1m Human Message \u001b[0m=================================\n",
      "\n",
      "find US and New York state GDP in 2024. what % of US GDP was New York state?\n",
      "==================================\u001b[1m Ai Message \u001b[0m==================================\n",
      "Name: supervisor\n",
      "Tool Calls:\n",
      "  transfer_to_research_agent (668aeae4-c378-461f-a75b-cb9b2af3262e)\n",
      " Call ID: 668aeae4-c378-461f-a75b-cb9b2af3262e\n",
      "  Args:\n",
      "=================================\u001b[1m Tool Message \u001b[0m=================================\n",
      "Name: transfer_to_research_agent\n",
      "\n",
      "Successfully transferred to research_agent\n",
      "==================================\u001b[1m Ai Message \u001b[0m==================================\n",
      "Name: research_agent\n",
      "Tool Calls:\n",
      "  duckduckgo_search (98a7a6e2-8a75-4214-83bd-a5e663bae3db)\n",
      " Call ID: 98a7a6e2-8a75-4214-83bd-a5e663bae3db\n",
      "  Args:\n",
      "    query: US GDP 2024\n",
      "  duckduckgo_search (db8c0479-07e2-481e-a8e6-8819fd015976)\n",
      " Call ID: db8c0479-07e2-481e-a8e6-8819fd015976\n",
      "  Args:\n",
      "    query: New York state GDP 2024\n",
      "=================================\u001b[1m Tool Message \u001b[0m=================================\n",
      "Name: duckduckgo_search\n",
      "\n",
      "Real gross domestic product (GDP) increased at an annual rate of 2.4 percent in the fourth quarter of 2024 (October, November, and December), according to the third estimate released by the U.S. Bureau of Economic Analysis. In the third quarter, real GDP increased 3.1 percent. ... An official website of the United States government. Toggle ... Q3 2024: 29,374.914 : Q2 2024: 29,016.714 : Q1 2024: 28,624.069 : View All: Units: ... Gross domestic product (GDP), the featured measure of U.S. output, is the market value of the goods and services produced by labor and property located in the United States.For more information, ... This graph shows a forecast of the gross domestic product of the United States of America for fiscal years 2024 to 2034. ... U.S. value added to GDP 2024, by industry; U.S. gross domestic product ... Real U.S. Gross Domestic Product in the fourth quarter 2024 rose at an annual rate of 2.3%, according to the Commerce Department's Bureau of Economic analysis second estimate Thursday. The US economy concluded 2024 on a positive note, with the gross domestic product (GDP) expanding at a 2.3% annual rate in the fourth quarter. This growth was largely fueled by robust consumer spending, which increased at a 4.2% pace, the fastest since the first quarter of 2023. However, this positive trend was somewhat offset by weak business ...\n",
      "=================================\u001b[1m Tool Message \u001b[0m=================================\n",
      "Name: duckduckgo_search\n",
      "\n",
      "Real gross domestic product increased in 48 states and the District of Columbia in the fourth quarter of 2024, with the percent change ranging from 5.1 percent at an annual rate in Arkansas to 0.6 percent in Vermont and remaining unchanged in Idaho and South Dakota. Personal income, in current dollars, increased in all 50 states and the District of Columbia in the fourth quarter of 2024, with ... Graph and download economic data for Gross Domestic Product: State and Local in New York (NYGOVSLNGSP) from 1997 to 2024 about state & local, GSP, NY, government, industry, GDP, and USA. The Southeast leads all U.S. regions in GDP, reaching $6.5 trillion in Q3 2024, driven by Florida ($1.7 trillion) and Georgia ($888 billion). The Far West follows closely at $5.8 trillion, with California alone contributing $4.1 trillion, while the Mideast ranks third at $5.0 trillion, powered by New York ($2.3 trillion) and Pennsylvania ($1.0 trillion). California has the largest economy out ... The release featured new and updated quarterly and annual statistics on state personal income and gross domestic product (GDP) by state followed by annual statistics on personal consumption expenditures (PCE) by state released on October 3, 2024. County-level personal income and GDP statistics were also released later in the year. I. Executive Summary The state of New York City's economy and finances is stronger than many would have predicted four years ago when the city was approaching the first holiday season of the COVID-19 pandemic and the last presidential transition. Over the last several years, New York City has climbed out from the economic downturn and disruption caused by the pandemic. The city's labor ...\n",
      "==================================\u001b[1m Ai Message \u001b[0m==================================\n",
      "Name: research_agent\n",
      "\n",
      "I am sorry, I cannot provide the exact GDP for the US and New York state for 2024. The search results provide the US GDP growth rate for the fourth quarter of 2024 and mention the New York state GDP, but do not provide the specific values needed to calculate the percentage.\n",
      "==================================\u001b[1m Ai Message \u001b[0m==================================\n",
      "Name: supervisor\n",
      "Tool Calls:\n",
      "  transfer_to_math_agent (0b881b5e-82b1-4306-be85-436c3cf58ac1)\n",
      " Call ID: 0b881b5e-82b1-4306-be85-436c3cf58ac1\n",
      "  Args:\n",
      "=================================\u001b[1m Tool Message \u001b[0m=================================\n",
      "Name: transfer_to_math_agent\n",
      "\n",
      "Successfully transferred to math_agent\n",
      "==================================\u001b[1m Ai Message \u001b[0m==================================\n",
      "Name: math_agent\n",
      "\n",
      "I am designed to assist with math-related tasks only.\n",
      "==================================\u001b[1m Ai Message \u001b[0m==================================\n",
      "Name: supervisor\n",
      "\n",
      " I cannot proceed without specific numerical values for the US and New York state GDP in 2024.\n"
     ]
    }
   ],
   "source": [
    "for message in final_message_history:\n",
    "    message.pretty_print()"
   ]
  },
  {
   "cell_type": "code",
   "execution_count": 121,
   "metadata": {},
   "outputs": [],
   "source": [
    "from langgraph.types import Send\n",
    "\n",
    "\n",
    "def create_task_description_handoff_tool(\n",
    "    *, agent_name: str, description: str | None = None\n",
    "):\n",
    "    name = f\"transfer_to_{agent_name}\"\n",
    "    description = description or f\"Ask {agent_name} for help.\"\n",
    "\n",
    "    @tool(name, description=description)\n",
    "    def handoff_tool(\n",
    "        # this is populated by the supervisor LLM\n",
    "        task_description: Annotated[\n",
    "            str,\n",
    "            \"Description of what the next agent should do, including all of the relevant context.\",\n",
    "        ],\n",
    "        # these parameters are ignored by the LLM\n",
    "        state: Annotated[MessagesState, InjectedState],\n",
    "    ) -> Command:\n",
    "        task_description_message = {\"role\": \"user\", \"content\": task_description}\n",
    "        agent_input = {**state, \"messages\": [task_description_message]}\n",
    "        return Command(\n",
    "            goto=[Send(agent_name, agent_input)],\n",
    "            graph=Command.PARENT,\n",
    "        )\n",
    "\n",
    "    return handoff_tool"
   ]
  },
  {
   "cell_type": "code",
   "execution_count": 135,
   "metadata": {},
   "outputs": [],
   "source": [
    "assign_to_research_agent_with_description = create_task_description_handoff_tool(\n",
    "    agent_name=\"research_agent\",\n",
    "    description=\"Assign task to a researcher agent.\",\n",
    ")\n",
    "\n",
    "assign_to_math_agent_with_description = create_task_description_handoff_tool(\n",
    "    agent_name=\"math_agent\",\n",
    "    description=\"Assign task to a math agent.\",\n",
    ")"
   ]
  },
  {
   "cell_type": "code",
   "execution_count": 140,
   "metadata": {},
   "outputs": [
    {
     "ename": "ValidationError",
     "evalue": "2 validation errors for transfer_to_research_agent\ntask_description\n  Field required [type=missing, input_value={'task_descripton': 'Search USA GDP in Internet'}, input_type=dict]\n    For further information visit https://errors.pydantic.dev/2.11/v/missing\nstate\n  Field required [type=missing, input_value={'task_descripton': 'Search USA GDP in Internet'}, input_type=dict]\n    For further information visit https://errors.pydantic.dev/2.11/v/missing",
     "output_type": "error",
     "traceback": [
      "\u001b[31m---------------------------------------------------------------------------\u001b[39m",
      "\u001b[31mValidationError\u001b[39m                           Traceback (most recent call last)",
      "\u001b[36mCell\u001b[39m\u001b[36m \u001b[39m\u001b[32mIn[140]\u001b[39m\u001b[32m, line 1\u001b[39m\n\u001b[32m----> \u001b[39m\u001b[32m1\u001b[39m \u001b[43massign_to_research_agent_with_description\u001b[49m\u001b[43m(\u001b[49m\n\u001b[32m      2\u001b[39m \u001b[43m    \u001b[49m\u001b[43m{\u001b[49m\u001b[33;43m\"\u001b[39;49m\u001b[33;43mtask_descripton\u001b[39;49m\u001b[33;43m\"\u001b[39;49m\u001b[43m \u001b[49m\u001b[43m:\u001b[49m\u001b[43m \u001b[49m\u001b[33;43m\"\u001b[39;49m\u001b[33;43mSearch USA GDP in Internet\u001b[39;49m\u001b[33;43m\"\u001b[39;49m\u001b[43m}\u001b[49m\n\u001b[32m      3\u001b[39m \u001b[43m)\u001b[49m\n",
      "\u001b[36mFile \u001b[39m\u001b[32mc:\\Users\\LeeSeungYong\\myproject\\ai-agent\\agentic-rag\\.venv\\Lib\\site-packages\\langchain_core\\_api\\deprecation.py:191\u001b[39m, in \u001b[36mdeprecated.<locals>.deprecate.<locals>.warning_emitting_wrapper\u001b[39m\u001b[34m(*args, **kwargs)\u001b[39m\n\u001b[32m    189\u001b[39m     warned = \u001b[38;5;28;01mTrue\u001b[39;00m\n\u001b[32m    190\u001b[39m     emit_warning()\n\u001b[32m--> \u001b[39m\u001b[32m191\u001b[39m \u001b[38;5;28;01mreturn\u001b[39;00m \u001b[43mwrapped\u001b[49m\u001b[43m(\u001b[49m\u001b[43m*\u001b[49m\u001b[43margs\u001b[49m\u001b[43m,\u001b[49m\u001b[43m \u001b[49m\u001b[43m*\u001b[49m\u001b[43m*\u001b[49m\u001b[43mkwargs\u001b[49m\u001b[43m)\u001b[49m\n",
      "\u001b[36mFile \u001b[39m\u001b[32mc:\\Users\\LeeSeungYong\\myproject\\ai-agent\\agentic-rag\\.venv\\Lib\\site-packages\\langchain_core\\tools\\base.py:893\u001b[39m, in \u001b[36mBaseTool.__call__\u001b[39m\u001b[34m(self, tool_input, callbacks)\u001b[39m\n\u001b[32m    890\u001b[39m \u001b[38;5;129m@deprecated\u001b[39m(\u001b[33m\"\u001b[39m\u001b[33m0.1.47\u001b[39m\u001b[33m\"\u001b[39m, alternative=\u001b[33m\"\u001b[39m\u001b[33minvoke\u001b[39m\u001b[33m\"\u001b[39m, removal=\u001b[33m\"\u001b[39m\u001b[33m1.0\u001b[39m\u001b[33m\"\u001b[39m)\n\u001b[32m    891\u001b[39m \u001b[38;5;28;01mdef\u001b[39;00m\u001b[38;5;250m \u001b[39m\u001b[34m__call__\u001b[39m(\u001b[38;5;28mself\u001b[39m, tool_input: \u001b[38;5;28mstr\u001b[39m, callbacks: Callbacks = \u001b[38;5;28;01mNone\u001b[39;00m) -> \u001b[38;5;28mstr\u001b[39m:\n\u001b[32m    892\u001b[39m \u001b[38;5;250m    \u001b[39m\u001b[33;03m\"\"\"Make tool callable.\"\"\"\u001b[39;00m\n\u001b[32m--> \u001b[39m\u001b[32m893\u001b[39m     \u001b[38;5;28;01mreturn\u001b[39;00m \u001b[38;5;28;43mself\u001b[39;49m\u001b[43m.\u001b[49m\u001b[43mrun\u001b[49m\u001b[43m(\u001b[49m\u001b[43mtool_input\u001b[49m\u001b[43m,\u001b[49m\u001b[43m \u001b[49m\u001b[43mcallbacks\u001b[49m\u001b[43m=\u001b[49m\u001b[43mcallbacks\u001b[49m\u001b[43m)\u001b[49m\n",
      "\u001b[36mFile \u001b[39m\u001b[32mc:\\Users\\LeeSeungYong\\myproject\\ai-agent\\agentic-rag\\.venv\\Lib\\site-packages\\langchain_core\\tools\\base.py:771\u001b[39m, in \u001b[36mBaseTool.run\u001b[39m\u001b[34m(self, tool_input, verbose, start_color, color, callbacks, tags, metadata, run_name, run_id, config, tool_call_id, **kwargs)\u001b[39m\n\u001b[32m    769\u001b[39m \u001b[38;5;28;01mif\u001b[39;00m error_to_raise:\n\u001b[32m    770\u001b[39m     run_manager.on_tool_error(error_to_raise)\n\u001b[32m--> \u001b[39m\u001b[32m771\u001b[39m     \u001b[38;5;28;01mraise\u001b[39;00m error_to_raise\n\u001b[32m    772\u001b[39m output = _format_output(content, artifact, tool_call_id, \u001b[38;5;28mself\u001b[39m.name, status)\n\u001b[32m    773\u001b[39m run_manager.on_tool_end(output, color=color, name=\u001b[38;5;28mself\u001b[39m.name, **kwargs)\n",
      "\u001b[36mFile \u001b[39m\u001b[32mc:\\Users\\LeeSeungYong\\myproject\\ai-agent\\agentic-rag\\.venv\\Lib\\site-packages\\langchain_core\\tools\\base.py:733\u001b[39m, in \u001b[36mBaseTool.run\u001b[39m\u001b[34m(self, tool_input, verbose, start_color, color, callbacks, tags, metadata, run_name, run_id, config, tool_call_id, **kwargs)\u001b[39m\n\u001b[32m    731\u001b[39m child_config = patch_config(config, callbacks=run_manager.get_child())\n\u001b[32m    732\u001b[39m \u001b[38;5;28;01mwith\u001b[39;00m set_config_context(child_config) \u001b[38;5;28;01mas\u001b[39;00m context:\n\u001b[32m--> \u001b[39m\u001b[32m733\u001b[39m     tool_args, tool_kwargs = \u001b[38;5;28;43mself\u001b[39;49m\u001b[43m.\u001b[49m\u001b[43m_to_args_and_kwargs\u001b[49m\u001b[43m(\u001b[49m\n\u001b[32m    734\u001b[39m \u001b[43m        \u001b[49m\u001b[43mtool_input\u001b[49m\u001b[43m,\u001b[49m\u001b[43m \u001b[49m\u001b[43mtool_call_id\u001b[49m\n\u001b[32m    735\u001b[39m \u001b[43m    \u001b[49m\u001b[43m)\u001b[49m\n\u001b[32m    736\u001b[39m     \u001b[38;5;28;01mif\u001b[39;00m signature(\u001b[38;5;28mself\u001b[39m._run).parameters.get(\u001b[33m\"\u001b[39m\u001b[33mrun_manager\u001b[39m\u001b[33m\"\u001b[39m):\n\u001b[32m    737\u001b[39m         tool_kwargs = tool_kwargs | {\u001b[33m\"\u001b[39m\u001b[33mrun_manager\u001b[39m\u001b[33m\"\u001b[39m: run_manager}\n",
      "\u001b[36mFile \u001b[39m\u001b[32mc:\\Users\\LeeSeungYong\\myproject\\ai-agent\\agentic-rag\\.venv\\Lib\\site-packages\\langchain_core\\tools\\base.py:648\u001b[39m, in \u001b[36mBaseTool._to_args_and_kwargs\u001b[39m\u001b[34m(self, tool_input, tool_call_id)\u001b[39m\n\u001b[32m    640\u001b[39m \u001b[38;5;28;01mif\u001b[39;00m (\n\u001b[32m    641\u001b[39m     \u001b[38;5;28mself\u001b[39m.args_schema \u001b[38;5;129;01mis\u001b[39;00m \u001b[38;5;129;01mnot\u001b[39;00m \u001b[38;5;28;01mNone\u001b[39;00m\n\u001b[32m    642\u001b[39m     \u001b[38;5;129;01mand\u001b[39;00m \u001b[38;5;28misinstance\u001b[39m(\u001b[38;5;28mself\u001b[39m.args_schema, \u001b[38;5;28mtype\u001b[39m)\n\u001b[32m   (...)\u001b[39m\u001b[32m    645\u001b[39m ):\n\u001b[32m    646\u001b[39m     \u001b[38;5;66;03m# StructuredTool with no args\u001b[39;00m\n\u001b[32m    647\u001b[39m     \u001b[38;5;28;01mreturn\u001b[39;00m (), {}\n\u001b[32m--> \u001b[39m\u001b[32m648\u001b[39m tool_input = \u001b[38;5;28;43mself\u001b[39;49m\u001b[43m.\u001b[49m\u001b[43m_parse_input\u001b[49m\u001b[43m(\u001b[49m\u001b[43mtool_input\u001b[49m\u001b[43m,\u001b[49m\u001b[43m \u001b[49m\u001b[43mtool_call_id\u001b[49m\u001b[43m)\u001b[49m\n\u001b[32m    649\u001b[39m \u001b[38;5;66;03m# For backwards compatibility, if run_input is a string,\u001b[39;00m\n\u001b[32m    650\u001b[39m \u001b[38;5;66;03m# pass as a positional argument.\u001b[39;00m\n\u001b[32m    651\u001b[39m \u001b[38;5;28;01mif\u001b[39;00m \u001b[38;5;28misinstance\u001b[39m(tool_input, \u001b[38;5;28mstr\u001b[39m):\n",
      "\u001b[36mFile \u001b[39m\u001b[32mc:\\Users\\LeeSeungYong\\myproject\\ai-agent\\agentic-rag\\.venv\\Lib\\site-packages\\langchain_core\\tools\\base.py:567\u001b[39m, in \u001b[36mBaseTool._parse_input\u001b[39m\u001b[34m(self, tool_input, tool_call_id)\u001b[39m\n\u001b[32m    565\u001b[39m                 \u001b[38;5;28;01mraise\u001b[39;00m \u001b[38;5;167;01mValueError\u001b[39;00m(msg)\n\u001b[32m    566\u001b[39m             tool_input[k] = tool_call_id\n\u001b[32m--> \u001b[39m\u001b[32m567\u001b[39m     result = \u001b[43minput_args\u001b[49m\u001b[43m.\u001b[49m\u001b[43mmodel_validate\u001b[49m\u001b[43m(\u001b[49m\u001b[43mtool_input\u001b[49m\u001b[43m)\u001b[49m\n\u001b[32m    568\u001b[39m     result_dict = result.model_dump()\n\u001b[32m    569\u001b[39m \u001b[38;5;28;01melif\u001b[39;00m \u001b[38;5;28missubclass\u001b[39m(input_args, BaseModelV1):\n",
      "\u001b[36mFile \u001b[39m\u001b[32mc:\\Users\\LeeSeungYong\\myproject\\ai-agent\\agentic-rag\\.venv\\Lib\\site-packages\\pydantic\\main.py:705\u001b[39m, in \u001b[36mBaseModel.model_validate\u001b[39m\u001b[34m(cls, obj, strict, from_attributes, context, by_alias, by_name)\u001b[39m\n\u001b[32m    699\u001b[39m \u001b[38;5;28;01mif\u001b[39;00m by_alias \u001b[38;5;129;01mis\u001b[39;00m \u001b[38;5;28;01mFalse\u001b[39;00m \u001b[38;5;129;01mand\u001b[39;00m by_name \u001b[38;5;129;01mis\u001b[39;00m \u001b[38;5;129;01mnot\u001b[39;00m \u001b[38;5;28;01mTrue\u001b[39;00m:\n\u001b[32m    700\u001b[39m     \u001b[38;5;28;01mraise\u001b[39;00m PydanticUserError(\n\u001b[32m    701\u001b[39m         \u001b[33m'\u001b[39m\u001b[33mAt least one of `by_alias` or `by_name` must be set to True.\u001b[39m\u001b[33m'\u001b[39m,\n\u001b[32m    702\u001b[39m         code=\u001b[33m'\u001b[39m\u001b[33mvalidate-by-alias-and-name-false\u001b[39m\u001b[33m'\u001b[39m,\n\u001b[32m    703\u001b[39m     )\n\u001b[32m--> \u001b[39m\u001b[32m705\u001b[39m \u001b[38;5;28;01mreturn\u001b[39;00m \u001b[38;5;28;43mcls\u001b[39;49m\u001b[43m.\u001b[49m\u001b[43m__pydantic_validator__\u001b[49m\u001b[43m.\u001b[49m\u001b[43mvalidate_python\u001b[49m\u001b[43m(\u001b[49m\n\u001b[32m    706\u001b[39m \u001b[43m    \u001b[49m\u001b[43mobj\u001b[49m\u001b[43m,\u001b[49m\u001b[43m \u001b[49m\u001b[43mstrict\u001b[49m\u001b[43m=\u001b[49m\u001b[43mstrict\u001b[49m\u001b[43m,\u001b[49m\u001b[43m \u001b[49m\u001b[43mfrom_attributes\u001b[49m\u001b[43m=\u001b[49m\u001b[43mfrom_attributes\u001b[49m\u001b[43m,\u001b[49m\u001b[43m \u001b[49m\u001b[43mcontext\u001b[49m\u001b[43m=\u001b[49m\u001b[43mcontext\u001b[49m\u001b[43m,\u001b[49m\u001b[43m \u001b[49m\u001b[43mby_alias\u001b[49m\u001b[43m=\u001b[49m\u001b[43mby_alias\u001b[49m\u001b[43m,\u001b[49m\u001b[43m \u001b[49m\u001b[43mby_name\u001b[49m\u001b[43m=\u001b[49m\u001b[43mby_name\u001b[49m\n\u001b[32m    707\u001b[39m \u001b[43m\u001b[49m\u001b[43m)\u001b[49m\n",
      "\u001b[31mValidationError\u001b[39m: 2 validation errors for transfer_to_research_agent\ntask_description\n  Field required [type=missing, input_value={'task_descripton': 'Search USA GDP in Internet'}, input_type=dict]\n    For further information visit https://errors.pydantic.dev/2.11/v/missing\nstate\n  Field required [type=missing, input_value={'task_descripton': 'Search USA GDP in Internet'}, input_type=dict]\n    For further information visit https://errors.pydantic.dev/2.11/v/missing"
     ]
    }
   ],
   "source": [
    "assign_to_research_agent_with_description(\n",
    "    {\"task_descripton\" : \"Search USA GDP in Internet\"}\n",
    ")"
   ]
  },
  {
   "cell_type": "code",
   "execution_count": 124,
   "metadata": {},
   "outputs": [],
   "source": [
    "supervisor_agent_with_description = create_react_agent(\n",
    "    model=\"google_genai:gemini-2.0-flash\",\n",
    "    tools=[\n",
    "        assign_to_research_agent_with_description,\n",
    "        assign_to_math_agent_with_description,\n",
    "    ],\n",
    "    prompt=(\n",
    "        \"You are a supervisor managing two agents:\\n\"\n",
    "        \"- a research agent. Assign research-related tasks to this assistant\\n\"\n",
    "        \"- a math agent. Assign math-related tasks to this assistant\\n\"\n",
    "        \"Assign work to one agent at a time, do not call agents in parallel.\\n\"\n",
    "        \"Do not do any work yourself.\"\n",
    "    ),\n",
    "    name=\"supervisor\",\n",
    ")"
   ]
  },
  {
   "cell_type": "code",
   "execution_count": 126,
   "metadata": {},
   "outputs": [],
   "source": [
    "supervisor_with_description = (\n",
    "    StateGraph(MessagesState)\n",
    "    .add_node(\n",
    "        supervisor_agent_with_description, destinations=(\"research_agent\", \"math_agent\")\n",
    "    )\n",
    "    .add_node(research_agent)\n",
    "    .add_node(math_agent)\n",
    "    .add_edge(START, \"supervisor\")\n",
    "    .add_edge(\"research_agent\", \"supervisor\")\n",
    "    .add_edge(\"math_agent\", \"supervisor\")\n",
    "    .compile()\n",
    ")"
   ]
  },
  {
   "cell_type": "code",
   "execution_count": 127,
   "metadata": {},
   "outputs": [
    {
     "name": "stdout",
     "output_type": "stream",
     "text": [
      "Update from subgraph supervisor:\n",
      "\n",
      "\n",
      "\tUpdate from node agent:\n",
      "\n",
      "\n",
      "\t==================================\u001b[1m Ai Message \u001b[0m==================================\n",
      "\tName: supervisor\n",
      "\tTool Calls:\n",
      "\t  transfer_to_research_agent (d7ecc139-2e65-4dc8-9b63-c9d4c9948f34)\n",
      "\t Call ID: d7ecc139-2e65-4dc8-9b63-c9d4c9948f34\n",
      "\t  Args:\n",
      "\n",
      "\n",
      "Update from subgraph research_agent:\n",
      "\n",
      "\n",
      "\tUpdate from node agent:\n",
      "\n",
      "\n",
      "\t==================================\u001b[1m Ai Message \u001b[0m==================================\n",
      "\tName: research_agent\n",
      "\tTool Calls:\n",
      "\t  duckduckgo_search (ceb7d862-fbbc-40b7-b84e-2828e243b9bc)\n",
      "\t Call ID: ceb7d862-fbbc-40b7-b84e-2828e243b9bc\n",
      "\t  Args:\n",
      "\t    query: US GDP 2024\n",
      "\t  duckduckgo_search (1528134a-7f3c-46af-bfc7-248606f065db)\n",
      "\t Call ID: 1528134a-7f3c-46af-bfc7-248606f065db\n",
      "\t  Args:\n",
      "\t    query: New York state GDP 2024\n",
      "\n",
      "\n",
      "Update from subgraph research_agent:\n",
      "\n",
      "\n",
      "\tUpdate from node tools:\n",
      "\n",
      "\n",
      "\t=================================\u001b[1m Tool Message \u001b[0m=================================\n",
      "\tName: duckduckgo_search\n",
      "\t\n",
      "\tReal gross domestic product (GDP) increased at an annual rate of 2.4 percent in the fourth quarter of 2024 (October, November, and December), according to the third estimate released by the U.S. Bureau of Economic Analysis. In the third quarter, real GDP increased 3.1 percent. BEA Account Code: A191RC Gross domestic product (GDP), the featured measure of U.S. output, is the market value of the goods and services produced by labor and property located in the United States.For more information, see the Guide to the National Income and Product Accounts of the United States (NIPA) and the Bureau of Economic Analysis. This graph shows a forecast of the gross domestic product of the United States of America for fiscal years 2024 to 2034. The U.S. economy posted another solid though slightly disappointing period of growth in the third quarter, propelled higher by strong consumer spending and federal government outlays. The GDP release comes with the Fed poised to lower interest rates further despite the seemingly strong economy and inflation that remains above target. Real U.S. Gross Domestic Product in the fourth quarter 2024 rose at an annual rate of 2.3%, according to the Commerce Department's Bureau of Economic analysis second estimate Thursday.\n",
      "\n",
      "\n",
      "Update from subgraph research_agent:\n",
      "\n",
      "\n",
      "\tUpdate from node tools:\n",
      "\n",
      "\n",
      "\t=================================\u001b[1m Tool Message \u001b[0m=================================\n",
      "\tName: duckduckgo_search\n",
      "\t\n",
      "\tGross Domestic Product by State and Personal Income by State, 4th Quarter 2024 and Preliminary 2024 Real gross domestic product increased in 48 states and the District of Columbia in the fourth quarter of 2024, with the percent change ranging from 5.1 percent at an annual rate in Arkansas to 0.6 percent in Vermont and remaining unchanged in ... Graph and download economic data for Gross Domestic Product: All Industry Total in New York (NYNGSP) from 1997 to 2024 about GSP, NY, industry, GDP, and USA. ... Release: Gross Domestic Product by State Units: Millions of Dollars, Not Seasonally Adjusted Frequency: ... Graph and download economic data for Gross Domestic Product: State and Local in New York (NYGOVSLNGSP) from 1997 to 2024 about state & local, GSP, NY, government, industry, GDP, and USA. Basic Statistic U.S. real gross domestic product 2023, by state; Basic Statistic ... 2024). Real gross domestic product of New York in the United States from 2000 to 2023 (in billion U.S. dollars ... The U.S. Bureau of Economic Analysis (BEA) confirmed second quarter 2024 GDP growth of 3.0% and made a large upward revision to Gross Domestic Income (GDI) to 3.4% (from original 1.3% estimate). ... In the past 18 months, passenger trip growth for the two commuter rail systems in New York State (the LIRR and Metro-North) has outpaced passenger ...\n",
      "\n",
      "\n",
      "Update from subgraph research_agent:\n",
      "\n",
      "\n",
      "\tUpdate from node agent:\n",
      "\n",
      "\n",
      "\t==================================\u001b[1m Ai Message \u001b[0m==================================\n",
      "\tName: research_agent\n",
      "\t\n",
      "\tI am sorry, I cannot provide the exact GDP figures for the US and New York for 2024, nor calculate the percentage. The search results provide some information on GDP growth rates and mention that the data is available from the Bureau of Economic Analysis, but the specific figures are not directly available.\n",
      "\n",
      "\n",
      "Update from subgraph supervisor:\n",
      "\n",
      "\n",
      "\tUpdate from node agent:\n",
      "\n",
      "\n",
      "\t==================================\u001b[1m Ai Message \u001b[0m==================================\n",
      "\tName: supervisor\n",
      "\t\n",
      "\t I can transfer this to a math agent if you would like me to calculate the percentage, assuming you can provide the two GDP numbers.\n",
      "\n",
      "\n"
     ]
    }
   ],
   "source": [
    "for chunk in supervisor.stream(\n",
    "    {\n",
    "        \"messages\": [\n",
    "            {\n",
    "                \"role\": \"user\",\n",
    "                \"content\": \"find US and New York state GDP in 2024. what % of US GDP was New York state?\",\n",
    "            }\n",
    "        ]\n",
    "    },\n",
    "    subgraphs=True,\n",
    "):\n",
    "    pretty_print_messages(chunk, last_message=True)"
   ]
  },
  {
   "cell_type": "code",
   "execution_count": 131,
   "metadata": {},
   "outputs": [],
   "source": [
    "_, real_chunk = chunk"
   ]
  },
  {
   "cell_type": "code",
   "execution_count": 133,
   "metadata": {},
   "outputs": [
    {
     "name": "stdout",
     "output_type": "stream",
     "text": [
      "================================\u001b[1m Human Message \u001b[0m=================================\n",
      "\n",
      "find US and New York state GDP in 2024. what % of US GDP was New York state?\n",
      "==================================\u001b[1m Ai Message \u001b[0m==================================\n",
      "Name: supervisor\n",
      "Tool Calls:\n",
      "  transfer_to_research_agent (d7ecc139-2e65-4dc8-9b63-c9d4c9948f34)\n",
      " Call ID: d7ecc139-2e65-4dc8-9b63-c9d4c9948f34\n",
      "  Args:\n",
      "=================================\u001b[1m Tool Message \u001b[0m=================================\n",
      "Name: transfer_to_research_agent\n",
      "\n",
      "Successfully transferred to research_agent\n",
      "==================================\u001b[1m Ai Message \u001b[0m==================================\n",
      "Name: research_agent\n",
      "Tool Calls:\n",
      "  duckduckgo_search (ceb7d862-fbbc-40b7-b84e-2828e243b9bc)\n",
      " Call ID: ceb7d862-fbbc-40b7-b84e-2828e243b9bc\n",
      "  Args:\n",
      "    query: US GDP 2024\n",
      "  duckduckgo_search (1528134a-7f3c-46af-bfc7-248606f065db)\n",
      " Call ID: 1528134a-7f3c-46af-bfc7-248606f065db\n",
      "  Args:\n",
      "    query: New York state GDP 2024\n",
      "=================================\u001b[1m Tool Message \u001b[0m=================================\n",
      "Name: duckduckgo_search\n",
      "\n",
      "Real gross domestic product (GDP) increased at an annual rate of 2.4 percent in the fourth quarter of 2024 (October, November, and December), according to the third estimate released by the U.S. Bureau of Economic Analysis. In the third quarter, real GDP increased 3.1 percent. BEA Account Code: A191RC Gross domestic product (GDP), the featured measure of U.S. output, is the market value of the goods and services produced by labor and property located in the United States.For more information, see the Guide to the National Income and Product Accounts of the United States (NIPA) and the Bureau of Economic Analysis. This graph shows a forecast of the gross domestic product of the United States of America for fiscal years 2024 to 2034. The U.S. economy posted another solid though slightly disappointing period of growth in the third quarter, propelled higher by strong consumer spending and federal government outlays. The GDP release comes with the Fed poised to lower interest rates further despite the seemingly strong economy and inflation that remains above target. Real U.S. Gross Domestic Product in the fourth quarter 2024 rose at an annual rate of 2.3%, according to the Commerce Department's Bureau of Economic analysis second estimate Thursday.\n",
      "=================================\u001b[1m Tool Message \u001b[0m=================================\n",
      "Name: duckduckgo_search\n",
      "\n",
      "Gross Domestic Product by State and Personal Income by State, 4th Quarter 2024 and Preliminary 2024 Real gross domestic product increased in 48 states and the District of Columbia in the fourth quarter of 2024, with the percent change ranging from 5.1 percent at an annual rate in Arkansas to 0.6 percent in Vermont and remaining unchanged in ... Graph and download economic data for Gross Domestic Product: All Industry Total in New York (NYNGSP) from 1997 to 2024 about GSP, NY, industry, GDP, and USA. ... Release: Gross Domestic Product by State Units: Millions of Dollars, Not Seasonally Adjusted Frequency: ... Graph and download economic data for Gross Domestic Product: State and Local in New York (NYGOVSLNGSP) from 1997 to 2024 about state & local, GSP, NY, government, industry, GDP, and USA. Basic Statistic U.S. real gross domestic product 2023, by state; Basic Statistic ... 2024). Real gross domestic product of New York in the United States from 2000 to 2023 (in billion U.S. dollars ... The U.S. Bureau of Economic Analysis (BEA) confirmed second quarter 2024 GDP growth of 3.0% and made a large upward revision to Gross Domestic Income (GDI) to 3.4% (from original 1.3% estimate). ... In the past 18 months, passenger trip growth for the two commuter rail systems in New York State (the LIRR and Metro-North) has outpaced passenger ...\n",
      "==================================\u001b[1m Ai Message \u001b[0m==================================\n",
      "Name: research_agent\n",
      "\n",
      "I am sorry, I cannot provide the exact GDP figures for the US and New York for 2024, nor calculate the percentage. The search results provide some information on GDP growth rates and mention that the data is available from the Bureau of Economic Analysis, but the specific figures are not directly available.\n",
      "==================================\u001b[1m Ai Message \u001b[0m==================================\n",
      "Name: supervisor\n",
      "\n",
      " I can transfer this to a math agent if you would like me to calculate the percentage, assuming you can provide the two GDP numbers.\n"
     ]
    }
   ],
   "source": [
    "final_message_history = real_chunk['supervisor']['messages']\n",
    "\n",
    "for message in final_message_history:\n",
    "    message.pretty_print()"
   ]
  },
  {
   "cell_type": "code",
   "execution_count": 146,
   "metadata": {},
   "outputs": [
    {
     "name": "stdout",
     "output_type": "stream",
     "text": [
      "사용 가능한 툴:\n",
      "- transfer_to_research_agent(task_description: str): Description of what the next agent should do, including all of the relevant context.\n",
      "\n",
      "사용자 질문: \"2024년 미국과 뉴욕주 GDP를 찾아서 비율을 계산해줘.\"\n",
      "...\n"
     ]
    }
   ],
   "source": [
    "p = \"\"\"사용 가능한 툴:\n",
    "- transfer_to_research_agent(task_description: str): Description of what the next agent should do, including all of the relevant context.\n",
    "\n",
    "사용자 질문: \"2024년 미국과 뉴욕주 GDP를 찾아서 비율을 계산해줘.\"\n",
    "...\"\"\"\n",
    "\n",
    "print(p)"
   ]
  }
 ],
 "metadata": {
  "kernelspec": {
   "display_name": ".venv",
   "language": "python",
   "name": "python3"
  },
  "language_info": {
   "codemirror_mode": {
    "name": "ipython",
    "version": 3
   },
   "file_extension": ".py",
   "mimetype": "text/x-python",
   "name": "python",
   "nbconvert_exporter": "python",
   "pygments_lexer": "ipython3",
   "version": "3.12.4"
  }
 },
 "nbformat": 4,
 "nbformat_minor": 2
}
