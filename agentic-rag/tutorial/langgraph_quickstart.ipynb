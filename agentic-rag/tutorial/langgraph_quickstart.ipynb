{
 "cells": [
  {
   "cell_type": "code",
   "execution_count": 3,
   "metadata": {},
   "outputs": [
    {
     "data": {
      "text/plain": [
       "{'messages': [HumanMessage(content='what is the weather in sf', additional_kwargs={}, response_metadata={}, id='958769bf-6fcd-446d-a44f-f6c20ce17406'),\n",
       "  AIMessage(content='Could you please spell out SF?', additional_kwargs={}, response_metadata={'prompt_feedback': {'block_reason': 0, 'safety_ratings': []}, 'finish_reason': 'STOP', 'model_name': 'gemini-2.0-flash', 'safety_ratings': []}, id='run--c7ab5a70-3b15-4c39-ac23-52ac78d1e385-0', usage_metadata={'input_tokens': 26, 'output_tokens': 8, 'total_tokens': 34, 'input_token_details': {'cache_read': 0}})]}"
      ]
     },
     "execution_count": 3,
     "metadata": {},
     "output_type": "execute_result"
    }
   ],
   "source": [
    "from langgraph.prebuilt import create_react_agent\n",
    "\n",
    "def get_weather(city:str) -> str:\n",
    "    \"\"\"Get weather for a given city.\"\"\"\n",
    "    return f\"It's always sunny in {city}!\"\n",
    "\n",
    "agent = create_react_agent(\n",
    "    model = \"google_genai:gemini-2.0-flash\",\n",
    "    tools = [get_weather],\n",
    "    prompt = \"You are a helpful asssistant\"\n",
    ")\n",
    "\n",
    "agent.invoke(\n",
    "    {\n",
    "        \"messages\" : [{\n",
    "            \"role\" : \"user\",\n",
    "            \"content\" : \"what is the weather in sf\"\n",
    "    }]\n",
    "    }\n",
    ")"
   ]
  },
  {
   "cell_type": "code",
   "execution_count": 4,
   "metadata": {},
   "outputs": [],
   "source": [
    "from langchain.chat_models import init_chat_model\n",
    "from langgraph.prebuilt import create_react_agent\n",
    "\n",
    "model = init_chat_model(\n",
    "    model = \"google_genai:gemini-2.0-flash\",\n",
    "    temperature = 0\n",
    ")\n",
    "\n",
    "agent = create_react_agent(\n",
    "    model = model,\n",
    "    tools = [get_weather]\n",
    ")"
   ]
  },
  {
   "cell_type": "code",
   "execution_count": 8,
   "metadata": {},
   "outputs": [
    {
     "data": {
      "text/plain": [
       "{'messages': [HumanMessage(content='what is the weather in Sanfrancisco', additional_kwargs={}, response_metadata={}, id='ea393962-3dc3-48d4-9f23-7d3c9d171eff'),\n",
       "  AIMessage(content='I am sorry, I cannot fulfill this request. The available tools lack the desired functionality.', additional_kwargs={}, response_metadata={'prompt_feedback': {'block_reason': 0, 'safety_ratings': []}, 'finish_reason': 'STOP', 'model_name': 'gemini-2.0-flash', 'safety_ratings': []}, id='run--51d73e2d-97c6-40ac-98cb-808555bfe5cc-0', usage_metadata={'input_tokens': 28, 'output_tokens': 19, 'total_tokens': 47, 'input_token_details': {'cache_read': 0}})]}"
      ]
     },
     "execution_count": 8,
     "metadata": {},
     "output_type": "execute_result"
    }
   ],
   "source": [
    "from langgraph.prebuilt import create_react_agent\n",
    "\n",
    "gemini_model = 'google_genai:gemini-2.0-flash'\n",
    "\n",
    "agent = create_react_agent(\n",
    "    model = gemini_model,\n",
    "    tools = [get_weather],\n",
    "    prompt = 'Never answer questions about the weather'\n",
    ")\n",
    "\n",
    "agent.invoke(\n",
    "    {'messages':[{\n",
    "        \"role\" : \"user\",\n",
    "        \"content\": \"what is the weather in Sanfrancisco\" }]}\n",
    ")"
   ]
  },
  {
   "cell_type": "code",
   "execution_count": 21,
   "metadata": {},
   "outputs": [
    {
     "data": {
      "text/plain": [
       "{'messages': [HumanMessage(content='what is the weather in Sanfrancisco', additional_kwargs={}, response_metadata={}, id='98dbaeaa-a6df-44aa-add6-dc0a5e27e49d'),\n",
       "  AIMessage(content='', additional_kwargs={'function_call': {'name': 'get_weather', 'arguments': '{\"city\": \"Sanfrancisco\"}'}}, response_metadata={'prompt_feedback': {'block_reason': 0, 'safety_ratings': []}, 'finish_reason': 'STOP', 'model_name': 'gemini-2.0-flash', 'safety_ratings': []}, id='run--903a4f29-2750-4142-8a8a-4d06b7ec2836-0', tool_calls=[{'name': 'get_weather', 'args': {'city': 'Sanfrancisco'}, 'id': '02227f6e-c710-4cb1-8713-6ca8186716dd', 'type': 'tool_call'}], usage_metadata={'input_tokens': 35, 'output_tokens': 7, 'total_tokens': 42, 'input_token_details': {'cache_read': 0}}),\n",
       "  ToolMessage(content=\"It's always sunny in Sanfrancisco!\", name='get_weather', id='0332d0a3-edd9-45e0-a85c-94f55d6fe0bb', tool_call_id='02227f6e-c710-4cb1-8713-6ca8186716dd'),\n",
       "  AIMessage(content='Hello John Smith, the weather in Sanfrancisco is always sunny!', additional_kwargs={}, response_metadata={'prompt_feedback': {'block_reason': 0, 'safety_ratings': []}, 'finish_reason': 'STOP', 'model_name': 'gemini-2.0-flash', 'safety_ratings': []}, id='run--d0d53ac3-029e-4891-972b-5b15cfdc6d6f-0', usage_metadata={'input_tokens': 56, 'output_tokens': 15, 'total_tokens': 71, 'input_token_details': {'cache_read': 0}})]}"
      ]
     },
     "execution_count": 21,
     "metadata": {},
     "output_type": "execute_result"
    }
   ],
   "source": [
    "from langchain_core.messages import AnyMessage\n",
    "from langchain_core.runnables import RunnableConfig\n",
    "from langgraph.prebuilt.chat_agent_executor import AgentState\n",
    "from langgraph.prebuilt import create_react_agent\n",
    "\n",
    "def prompt(state : AgentState, config : RunnableConfig) -> list[AnyMessage]:\n",
    "    user_name = config['configurable'].get('user_name')\n",
    "    system_msg = f\"You are a helpful assistant. Address the user as {user_name}.\"\n",
    "    return [{\"role\" : \"system\", \"content\" : system_msg}] + state['messages']\n",
    "\n",
    "agent = create_react_agent(\n",
    "    model = gemini_model,\n",
    "    tools = [get_weather],\n",
    "    prompt = prompt\n",
    ")\n",
    "\n",
    "agent.invoke(\n",
    "    {'messages':[\n",
    "        {\n",
    "            \"role\" : \"user\",\n",
    "            \"content\" : \"what is the weather in Sanfrancisco\"}\n",
    "    ]},\n",
    "    config={\"configurable\" : {\"user_name\" : \"John Smith\"}}\n",
    ")"
   ]
  },
  {
   "cell_type": "code",
   "execution_count": 28,
   "metadata": {},
   "outputs": [],
   "source": [
    "from langgraph.prebuilt import create_react_agent\n",
    "from langgraph.checkpoint.memory import InMemorySaver\n",
    "\n",
    "checkpointer = InMemorySaver()\n",
    "\n",
    "agent = create_react_agent(\n",
    "    model = gemini_model,\n",
    "    tools = [get_weather],\n",
    "    checkpointer = checkpointer\n",
    ")\n",
    "\n",
    "config = {'configurable' : {\"thread_id\":\"1\"}}\n",
    "sf_response = agent.invoke(\n",
    "    {\"messages\": [{\"role\": \"user\", \"content\": \"what is the weather in sanfrancisco\"}]},\n",
    "    config  \n",
    ")\n",
    "ny_response = agent.invoke(\n",
    "    {\"messages\": [{\"role\": \"user\", \"content\": \"what about new york?\"}]},\n",
    "    {'configurable' : {\"thread_id\":\"2\"}}\n",
    ")"
   ]
  },
  {
   "cell_type": "code",
   "execution_count": 29,
   "metadata": {},
   "outputs": [
    {
     "data": {
      "text/plain": [
       "{'messages': [HumanMessage(content='what is the weather in sanfrancisco', additional_kwargs={}, response_metadata={}, id='53b272cc-e6ec-485e-a7c0-ba831501b093'),\n",
       "  AIMessage(content='', additional_kwargs={'function_call': {'name': 'get_weather', 'arguments': '{\"city\": \"sanfrancisco\"}'}}, response_metadata={'prompt_feedback': {'block_reason': 0, 'safety_ratings': []}, 'finish_reason': 'STOP', 'model_name': 'gemini-2.0-flash', 'safety_ratings': []}, id='run--d35784ee-4514-4c9e-a64c-f2bb5a1cc87f-0', tool_calls=[{'name': 'get_weather', 'args': {'city': 'sanfrancisco'}, 'id': 'd20c1603-f282-468b-b5a0-3ff8d7dd6424', 'type': 'tool_call'}], usage_metadata={'input_tokens': 22, 'output_tokens': 7, 'total_tokens': 29, 'input_token_details': {'cache_read': 0}}),\n",
       "  ToolMessage(content=\"It's always sunny in sanfrancisco!\", name='get_weather', id='0c98d986-95f6-4748-9920-c4cc5914d040', tool_call_id='d20c1603-f282-468b-b5a0-3ff8d7dd6424'),\n",
       "  AIMessage(content=\"It's always sunny in sanfrancisco!\", additional_kwargs={}, response_metadata={'prompt_feedback': {'block_reason': 0, 'safety_ratings': []}, 'finish_reason': 'STOP', 'model_name': 'gemini-2.0-flash', 'safety_ratings': []}, id='run--65456489-49d7-4684-b878-db17456362ba-0', usage_metadata={'input_tokens': 43, 'output_tokens': 11, 'total_tokens': 54, 'input_token_details': {'cache_read': 0}})]}"
      ]
     },
     "execution_count": 29,
     "metadata": {},
     "output_type": "execute_result"
    }
   ],
   "source": [
    "sf_response"
   ]
  },
  {
   "cell_type": "code",
   "execution_count": 27,
   "metadata": {},
   "outputs": [
    {
     "data": {
      "text/plain": [
       "{'messages': [HumanMessage(content='what about new york?', additional_kwargs={}, response_metadata={}, id='719c3d28-fb7f-4bb4-951d-4ae52fb710fb'),\n",
       "  AIMessage(content='', additional_kwargs={'function_call': {'name': 'get_weather', 'arguments': '{\"city\": \"new york\"}'}}, response_metadata={'prompt_feedback': {'block_reason': 0, 'safety_ratings': []}, 'finish_reason': 'STOP', 'model_name': 'gemini-2.0-flash', 'safety_ratings': []}, id='run--6f0b3558-baeb-49fb-ad08-7967f98be4d1-0', tool_calls=[{'name': 'get_weather', 'args': {'city': 'new york'}, 'id': 'f0d3db8c-3005-462f-880b-092cb7b04e1b', 'type': 'tool_call'}], usage_metadata={'input_tokens': 19, 'output_tokens': 6, 'total_tokens': 25, 'input_token_details': {'cache_read': 0}}),\n",
       "  ToolMessage(content=\"It's always sunny in new york!\", name='get_weather', id='95a8b0d2-d979-4271-9f80-520083067501', tool_call_id='f0d3db8c-3005-462f-880b-092cb7b04e1b'),\n",
       "  AIMessage(content=\"It's always sunny in new york!\", additional_kwargs={}, response_metadata={'prompt_feedback': {'block_reason': 0, 'safety_ratings': []}, 'finish_reason': 'STOP', 'model_name': 'gemini-2.0-flash', 'safety_ratings': []}, id='run--56b5d63f-322f-4981-8dcc-89304d7a9128-0', usage_metadata={'input_tokens': 38, 'output_tokens': 10, 'total_tokens': 48, 'input_token_details': {'cache_read': 0}})]}"
      ]
     },
     "execution_count": 27,
     "metadata": {},
     "output_type": "execute_result"
    }
   ],
   "source": [
    "ny_response"
   ]
  },
  {
   "cell_type": "code",
   "execution_count": 32,
   "metadata": {},
   "outputs": [
    {
     "data": {
      "text/plain": [
       "WeatherResponse(conditions='sunny')"
      ]
     },
     "execution_count": 32,
     "metadata": {},
     "output_type": "execute_result"
    }
   ],
   "source": [
    "from pydantic import BaseModel\n",
    "from langgraph.prebuilt import create_react_agent\n",
    "\n",
    "class WeatherResponse(BaseModel):\n",
    "    conditions : str\n",
    "\n",
    "agent = create_react_agent(\n",
    "    model = gemini_model,\n",
    "    tools = [get_weather],\n",
    "    response_format = WeatherResponse\n",
    ")\n",
    "\n",
    "response = agent.invoke(\n",
    "    {\"messages\": [{\"role\": \"user\", \"content\": \"what is the weather in Boston\"}]}\n",
    ")\n",
    "\n",
    "response[\"structured_response\"]"
   ]
  },
  {
   "cell_type": "code",
   "execution_count": 33,
   "metadata": {},
   "outputs": [
    {
     "data": {
      "text/plain": [
       "{'messages': [HumanMessage(content='what is the weather in Boston', additional_kwargs={}, response_metadata={}, id='10a884b5-e431-4f69-9e88-8984f7d9fd5b'),\n",
       "  AIMessage(content='', additional_kwargs={'function_call': {'name': 'get_weather', 'arguments': '{\"city\": \"Boston\"}'}}, response_metadata={'prompt_feedback': {'block_reason': 0, 'safety_ratings': []}, 'finish_reason': 'STOP', 'model_name': 'gemini-2.0-flash', 'safety_ratings': []}, id='run--2687db83-b033-4829-982a-c23d5d867aec-0', tool_calls=[{'name': 'get_weather', 'args': {'city': 'Boston'}, 'id': 'bbce3159-c200-458a-ba6c-f7fc3e94b992', 'type': 'tool_call'}], usage_metadata={'input_tokens': 20, 'output_tokens': 5, 'total_tokens': 25, 'input_token_details': {'cache_read': 0}}),\n",
       "  ToolMessage(content=\"It's always sunny in Boston!\", name='get_weather', id='acd14d8b-2d39-4e0d-84ed-817c9080e8eb', tool_call_id='bbce3159-c200-458a-ba6c-f7fc3e94b992'),\n",
       "  AIMessage(content=\"It's always sunny in Boston!\", additional_kwargs={}, response_metadata={'prompt_feedback': {'block_reason': 0, 'safety_ratings': []}, 'finish_reason': 'STOP', 'model_name': 'gemini-2.0-flash', 'safety_ratings': []}, id='run--bb074509-9082-4c6f-842e-9447bc2040ae-0', usage_metadata={'input_tokens': 37, 'output_tokens': 9, 'total_tokens': 46, 'input_token_details': {'cache_read': 0}})],\n",
       " 'structured_response': WeatherResponse(conditions='sunny')}"
      ]
     },
     "execution_count": 33,
     "metadata": {},
     "output_type": "execute_result"
    }
   ],
   "source": [
    "response"
   ]
  },
  {
   "cell_type": "code",
   "execution_count": 36,
   "metadata": {},
   "outputs": [
    {
     "data": {
      "text/plain": [
       "'sunny'"
      ]
     },
     "execution_count": 36,
     "metadata": {},
     "output_type": "execute_result"
    }
   ],
   "source": [
    "response[\"structured_response\"].conditions"
   ]
  }
 ],
 "metadata": {
  "kernelspec": {
   "display_name": ".venv",
   "language": "python",
   "name": "python3"
  },
  "language_info": {
   "codemirror_mode": {
    "name": "ipython",
    "version": 3
   },
   "file_extension": ".py",
   "mimetype": "text/x-python",
   "name": "python",
   "nbconvert_exporter": "python",
   "pygments_lexer": "ipython3",
   "version": "3.12.4"
  }
 },
 "nbformat": 4,
 "nbformat_minor": 2
}
