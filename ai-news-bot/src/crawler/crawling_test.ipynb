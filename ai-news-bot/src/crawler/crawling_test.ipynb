{
 "cells": [
  {
   "cell_type": "code",
   "execution_count": 1,
   "id": "0ff7a701",
   "metadata": {},
   "outputs": [
    {
     "name": "stdout",
     "output_type": "stream",
     "text": [
      "[크롤러] 기사 링크 개수: 20\n",
      "[크롤러] 기사 링크: https://www.aitimes.com/news/articleView.html?idxno=200484\n",
      "[크롤러] 기사 링크: https://www.aitimes.com/news/articleView.html?idxno=200462\n",
      "[크롤러] 기사 링크: https://www.aitimes.com/news/articleView.html?idxno=200477\n",
      "[크롤러] 기사 링크: https://www.aitimes.com/news/articleView.html?idxno=200476\n",
      "[크롤러] 기사 링크: https://www.aitimes.com/news/articleView.html?idxno=200472\n",
      "[크롤러] 기사 링크: https://www.aitimes.com/news/articleView.html?idxno=200469\n",
      "[크롤러] 기사 링크: https://www.aitimes.com/news/articleView.html?idxno=200470\n",
      "[크롤러] 기사 링크: https://www.aitimes.com/news/articleView.html?idxno=200468\n",
      "[크롤러] 기사 링크: https://www.aitimes.com/news/articleView.html?idxno=200465\n",
      "[크롤러] 기사 링크: https://www.aitimes.com/news/articleView.html?idxno=200464\n"
     ]
    }
   ],
   "source": [
    "import requests\n",
    "from bs4 import BeautifulSoup\n",
    "from urllib.parse import urljoin\n",
    "\n",
    "BASE_URL = \"https://www.aitimes.com\"\n",
    "NEWS_LIST_URL = f\"{BASE_URL}/news/articleList.html?view_type=sm\"\n",
    "\n",
    "def get_soup(url: str) -> BeautifulSoup:\n",
    "    \"\"\"URL에서 BeautifulSoup 객체를 가져옵니다.\"\"\"\n",
    "    headers = {\n",
    "        \"User-Agent\": \"Mozilla/5.0 (Windows NT 10.0; Win64; x64) AppleWebKit/537.36 (KHTML, like Gecko) Chrome/91.0.4472.124 Safari/537.36\",\n",
    "        \"Referer\": BASE_URL,\n",
    "        \"Accept-Language\": \"ko-KR,ko;q=0.9,en-US;q=0.8,en;q=0.7\"\n",
    "    }\n",
    "    resp = requests.get(url, headers=headers, timeout=10)\n",
    "    resp.raise_for_status()\n",
    "    return BeautifulSoup(resp.text, \"html.parser\")\n",
    "\n",
    "max_articles=10\n",
    "\"\"\"기사 리스트 페이지에서 기사 링크를 추출합니다.\"\"\"\n",
    "soup = get_soup(NEWS_LIST_URL)\n",
    "article_links = soup.select('#section-list > ul > li > a')\n",
    "print(f\"[크롤러] 기사 링크 개수: {len(article_links)}\")\n",
    "for link in article_links[:max_articles]:\n",
    "    article_url = urljoin(BASE_URL, link.get('href'))\n",
    "    print(f\"[크롤러] 기사 링크: {article_url}\")"
   ]
  },
  {
   "cell_type": "code",
   "execution_count": 7,
   "id": "fd1a592a",
   "metadata": {},
   "outputs": [],
   "source": [
    "link = article_links[0].get('href')\n",
    "soup = get_soup(link)"
   ]
  },
  {
   "cell_type": "code",
   "execution_count": 14,
   "id": "194b557f",
   "metadata": {},
   "outputs": [
    {
     "name": "stdout",
     "output_type": "stream",
     "text": [
      "[AI의 역사] 59 보상과 처벌을 통해 학습하는 강화학습의 발전 과정 - 머신러닝의 분류 (하)\n"
     ]
    }
   ],
   "source": [
    "title = soup.select_one('#article-view > div > div > header > h1') # 바뀐 HTML (250709)\n",
    "print(title.text)"
   ]
  },
  {
   "cell_type": "code",
   "execution_count": 31,
   "id": "b8014139",
   "metadata": {},
   "outputs": [
    {
     "name": "stdout",
     "output_type": "stream",
     "text": [
      "2025.07.09 13:56\n"
     ]
    }
   ],
   "source": [
    "import re\n",
    "\n",
    "# ul 태그 전체 텍스트 예시: \"박수빈 기자 입력 2025.07.09 13:15 댓글 0\"\n",
    "date_text = soup.select_one('#article-view > div > div > header > div > article > ul').text\n",
    "\n",
    "# 정규식: '입력'과 '댓글' 사이의 날짜(공백 포함)만 추출\n",
    "m = re.search(r'입력\\s*([0-9.\\s:]+)\\s*댓글', date_text)\n",
    "if m:\n",
    "    date_str = m.group(1).strip()\n",
    "    print(date_str)\n",
    "else:\n",
    "    print(\"날짜를 찾을 수 없습니다.\")"
   ]
  },
  {
   "cell_type": "code",
   "execution_count": null,
   "id": "07357cce",
   "metadata": {},
   "outputs": [],
   "source": []
  }
 ],
 "metadata": {
  "kernelspec": {
   "display_name": "ainews",
   "language": "python",
   "name": "python3"
  },
  "language_info": {
   "codemirror_mode": {
    "name": "ipython",
    "version": 3
   },
   "file_extension": ".py",
   "mimetype": "text/x-python",
   "name": "python",
   "nbconvert_exporter": "python",
   "pygments_lexer": "ipython3",
   "version": "3.12.4"
  }
 },
 "nbformat": 4,
 "nbformat_minor": 5
}
