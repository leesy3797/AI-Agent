{
 "cells": [
  {
   "cell_type": "code",
   "execution_count": 2,
   "metadata": {},
   "outputs": [],
   "source": [
    "import os\n",
    "from dotenv import load_dotenv\n",
    "import google.generativeai as genai\n",
    "from langsmith import traceable\n",
    "\n",
    "# 환경 변수 로드\n",
    "load_dotenv()\n",
    "\n",
    "# Gemini API 키 설정\n",
    "GOOGLE_API_KEY = os.getenv('GOOGLE_API_KEY')\n",
    "genai.configure(api_key=GOOGLE_API_KEY)"
   ]
  },
  {
   "cell_type": "code",
   "execution_count": 3,
   "metadata": {},
   "outputs": [],
   "source": [
    "# Gemini 모델 초기화\n",
    "model = genai.GenerativeModel('models/gemini-2.0-flash')\n",
    "\n",
    "# 트레이싱이 가능한 wrapper 함수 생성\n",
    "@traceable\n",
    "def generate_with_gemini(prompt: str):\n",
    "    response = model.generate_content(prompt)\n",
    "    return response.text\n",
    "\n",
    "# 테스트 실행\n",
    "# result = generate_with_gemini('계란찜 만드는 방법을 알려줘')\n",
    "# print(result)"
   ]
  },
  {
   "cell_type": "code",
   "execution_count": 4,
   "metadata": {},
   "outputs": [],
   "source": [
    "# from IPython.display import Markdown\n",
    "\n",
    "# Markdown(result)"
   ]
  },
  {
   "cell_type": "code",
   "execution_count": 5,
   "metadata": {},
   "outputs": [],
   "source": [
    "from langchain_community.document_loaders import PyMuPDFLoader\n",
    "# 환경 변수 로드\n",
    "load_dotenv()\n",
    "\n",
    "# @traceable\n",
    "def load_pdf(pdf_path: str):\n",
    "    \"\"\"\n",
    "    PDF 파일을 로드하는 함수\n",
    "    \n",
    "    Args:\n",
    "        pdf_path (str): PDF 파일의 경로\n",
    "        \n",
    "    Returns:\n",
    "        list: Document 객체 리스트\n",
    "    \"\"\"\n",
    "    try:\n",
    "        # PDF 로더 초기화\n",
    "        loader = PyMuPDFLoader(pdf_path)\n",
    "        \n",
    "        # PDF 로드\n",
    "        documents = loader.load()\n",
    "        \n",
    "        print(f\"PDF 로드 완료: {len(documents)} 페이지\")\n",
    "        return documents\n",
    "    \n",
    "    except Exception as e:\n",
    "        print(f\"PDF 로드 중 오류 발생: {str(e)}\")\n",
    "        return None"
   ]
  },
  {
   "cell_type": "code",
   "execution_count": 6,
   "metadata": {},
   "outputs": [],
   "source": [
    "from glob import glob\n",
    "\n",
    "current_dir = os.getcwd()\n",
    "\n",
    "pdf_paths = glob(os.path.join(current_dir, \"document\", \"*.pdf\"))"
   ]
  },
  {
   "cell_type": "code",
   "execution_count": 7,
   "metadata": {},
   "outputs": [
    {
     "name": "stdout",
     "output_type": "stream",
     "text": [
      "PDF 로드 시작: 20250603_더불어민주당_정당정책.pdf\n",
      "PDF 로드 완료: 20 페이지\n"
     ]
    }
   ],
   "source": [
    "import json\n",
    "\n",
    "docs = []\n",
    "for pdf_path in pdf_paths[-1:]:\n",
    "    title = pdf_path.split('\\\\')[-1]\n",
    "    print(f\"PDF 로드 시작: {title}\")\n",
    "    documents = load_pdf(pdf_path)\n",
    "    for document in documents:\n",
    "        document.metadata['title'] = title\n",
    "        docs.append(document)"
   ]
  },
  {
   "cell_type": "code",
   "execution_count": 8,
   "metadata": {},
   "outputs": [
    {
     "name": "stdout",
     "output_type": "stream",
     "text": [
      "20\n"
     ]
    },
    {
     "data": {
      "text/plain": [
       "[Document(metadata={'producer': 'Hancom PDF 1.3.0.538', 'creator': 'Hwp 2018 11.0.0.2129', 'creationdate': '2025-05-10T16:18:26+09:00', 'source': 'c:\\\\Users\\\\LeeSeungYong\\\\myproject\\\\ai-agent\\\\agentic-rag\\\\document\\\\20250603_더불어민주당_정당정책.pdf', 'file_path': 'c:\\\\Users\\\\LeeSeungYong\\\\myproject\\\\ai-agent\\\\agentic-rag\\\\document\\\\20250603_더불어민주당_정당정책.pdf', 'total_pages': 20, 'format': 'PDF 1.4', 'title': '20250603_더불어민주당_정당정책.pdf', 'author': 'USER', 'subject': '', 'keywords': '', 'moddate': '2025-05-10T16:18:26+09:00', 'trapped': '', 'modDate': \"D:20250510161826+09'00'\", 'creationDate': \"D:20250510161826+09'00'\", 'page': 0}, page_content='- 1 -\\n선거명\\n제21대 대통령선거\\n정당명\\n더불어민주당\\n정책순위 : 1\\n세계를 선도하는 경제 강국을 만들겠습니다.\\n분   야경제·산업\\n□목 표 \\n○AI 등 신산업 집중육성을 통해 새로운 성장기반 구축 \\n○K-콘텐츠 지원강화로 글로벌 빅5 문화강국 실현\\n□이행방법\\n○인공지능 대전환(AX)을 통해 AI 3강으로 도약\\n- AI 예산 비중 선진국 수준 이상 증액과 민간 투자 100조원 시대 개막\\n- AI 데이터센터 건설을 통한 ‘AI 고속도로’ 구축 및 국가 혁신거점 육성\\n- 고성능 GPU 5만개 이상 확보와 국가 AI데이터 집적 클러스터 조성 \\n- ‘모두의 AI’ 프로젝트 추진 및 규제 특례를 통한 AI 융복합 산업 활성화\\n- AI 시대를 주도할 미래인재 양성 교육 강화\\n○대한민국의 미래성장을 위한 글로벌 소프트파워 Big5 문화강국을 실현\\n- K컬쳐 글로벌 브랜드화를 통한 K-이니셔티브 실현 및 문화수출 50조원 달성\\n- K-콘텐츠 창작 전 과정에 대한 국가 지원 강화 및 OTT 등 K-컬처 플랫폼 육성\\n- 문화예술인의 촘촘한 복지 환경 구축 및 창작권 보장\\n○K-방산을 국가대표산업으로 육성\\n- K방산 수출 증대를 위한 컨트롤타워 신설 및 방위사업청 역량 강화\\n- 국방 AI 등 R&D 국가 투자 확대 및 방산수출기업 R&D 세제 지원 추진\\n○국가첨단전략산업에 대한 대규모 집중투자방안 마련\\n- 국민·기업·정부·연기금 등 모든 경제주체들이 참여할 수 있는 국민펀드 조성\\n- 일반국민·기업의 투자금에 대해 소득세·법인세 감면 등 과감한 세제혜택 부여\\n- 산업생태계 뒷받침을 위한 기금을 설치하여 맞춤형 자금공급 지원\\n○안정적 R&D 예산 확대 및 국가연구개발 지속성 담보\\n- 정부 R&D성과가 전체 산업으로 확산되는 혁신성장 체계 구축\\n- 기초 원천분야 R&D의 안정적 투자\\n- 혁신성장을 견인할 미래형 창의인재 양성\\n○벤처투자시장 육성으로 글로벌 4대 벤처강국 실현'),\n",
       " Document(metadata={'producer': 'Hancom PDF 1.3.0.538', 'creator': 'Hwp 2018 11.0.0.2129', 'creationdate': '2025-05-10T16:18:26+09:00', 'source': 'c:\\\\Users\\\\LeeSeungYong\\\\myproject\\\\ai-agent\\\\agentic-rag\\\\document\\\\20250603_더불어민주당_정당정책.pdf', 'file_path': 'c:\\\\Users\\\\LeeSeungYong\\\\myproject\\\\ai-agent\\\\agentic-rag\\\\document\\\\20250603_더불어민주당_정당정책.pdf', 'total_pages': 20, 'format': 'PDF 1.4', 'title': '20250603_더불어민주당_정당정책.pdf', 'author': 'USER', 'subject': '', 'keywords': '', 'moddate': '2025-05-10T16:18:26+09:00', 'trapped': '', 'modDate': \"D:20250510161826+09'00'\", 'creationDate': \"D:20250510161826+09'00'\", 'page': 1}, page_content='- 2 -\\n- 모태펀드 예산 및 벤처·스타트업 R&D 예산 대폭 확대\\n- M&A 촉진 등을 통한 벤처투자의 회수시장 활성화\\n- 지역여건을 고려한 스타트업파크 조성, 대학·지식산업센터 등 지역거점으로 육성\\n○스마트 데이터농업 확산, 푸드테크·그린바이오 산업 육성, K-푸드 수출 확대, R&D\\n강화, 농생명용지 조기 개발로 농업을 미래농산업으로 전환·육성\\n□이행기간\\n○법률 제·개정 사항은 2025년 6월부터 준비하여 단계적으로 추진\\n○재정사업은 2025년 추경과 2026년도 예산 수립부터 단계적으로 추진 \\n□재원조달방안 등\\n○정부재정 지출구조 조정분, 2025~2030 연간 총수입증가분(전망) 등으로 충당'),\n",
       " Document(metadata={'producer': 'Hancom PDF 1.3.0.538', 'creator': 'Hwp 2018 11.0.0.2129', 'creationdate': '2025-05-10T16:18:26+09:00', 'source': 'c:\\\\Users\\\\LeeSeungYong\\\\myproject\\\\ai-agent\\\\agentic-rag\\\\document\\\\20250603_더불어민주당_정당정책.pdf', 'file_path': 'c:\\\\Users\\\\LeeSeungYong\\\\myproject\\\\ai-agent\\\\agentic-rag\\\\document\\\\20250603_더불어민주당_정당정책.pdf', 'total_pages': 20, 'format': 'PDF 1.4', 'title': '20250603_더불어민주당_정당정책.pdf', 'author': 'USER', 'subject': '', 'keywords': '', 'moddate': '2025-05-10T16:18:26+09:00', 'trapped': '', 'modDate': \"D:20250510161826+09'00'\", 'creationDate': \"D:20250510161826+09'00'\", 'page': 2}, page_content='- 3 -\\n선거명\\n제21대 대통령선거\\n정당명\\n더불어민주당\\n정책순위 : 2\\n내란극복과 K-민주주의 위상 회복으로 \\n민주주의 강국을 만들겠습니다.\\n분    야\\n정치·사법\\n□목 표 \\n○내란극복\\n○국민통합\\n○민주주의 회복\\n□이행방법\\n○대통령 계엄권한에 대한 민주적 통제 강화\\n- 계엄선포시 국회의 계엄해제권 행사에 대한 제도적 보장 강화\\n○정치보복 관행 근절 등 국민통합 추진\\n○직접민주주의 강화 등을 통한 책임정치 구현\\n- 국회의원에 대한 국민소환제 도입\\n○국민에 봉사하는 군으로 체질 개선\\n- 국방문민화 및 군정보기관 개혁\\n- 3군 참모총장에 대한 인사청문회 도입 및 각 군 이기주의 극복\\n○반인권적으로 운영되고 있는 국가인권위원회의 정상화 추진\\n- 인권위원장 등 선출시 국민적 후보추천위원회 구성\\n- 인권위원장과 인권위원의 의무 및 징계규칙 신설\\n○감사원의 정치적 중립성 및 독립성 강화\\n- 감사개시, 고발여부 결정시 감사위원회 의결 필수화\\n- 감사원 내부를 감찰하는 감찰관에 감사원 외부인사 임명 의무화\\n○검찰 개혁 완성\\n- 수사・기소 분리 및 기소권 남용에 대한 사법통제 강화\\n- 검사 징계 파면 제도 도입 \\n○사법 개혁 완수\\n- 온라인재판 제도 도입, 대법관 정원 확대 등 신속한 재판받을 권리 실질적 보장\\n- 국민참여재판 확대 등 국민의 사법참여 확대\\n- 판결문 공개 범위 확대 등 국민의 사법서비스 접근성 제고'),\n",
       " Document(metadata={'producer': 'Hancom PDF 1.3.0.538', 'creator': 'Hwp 2018 11.0.0.2129', 'creationdate': '2025-05-10T16:18:26+09:00', 'source': 'c:\\\\Users\\\\LeeSeungYong\\\\myproject\\\\ai-agent\\\\agentic-rag\\\\document\\\\20250603_더불어민주당_정당정책.pdf', 'file_path': 'c:\\\\Users\\\\LeeSeungYong\\\\myproject\\\\ai-agent\\\\agentic-rag\\\\document\\\\20250603_더불어민주당_정당정책.pdf', 'total_pages': 20, 'format': 'PDF 1.4', 'title': '20250603_더불어민주당_정당정책.pdf', 'author': 'USER', 'subject': '', 'keywords': '', 'moddate': '2025-05-10T16:18:26+09:00', 'trapped': '', 'modDate': \"D:20250510161826+09'00'\", 'creationDate': \"D:20250510161826+09'00'\", 'page': 3}, page_content='- 4 -\\n○반부패 개혁으로 청렴한 공직문화 조성\\n- 공직자 이해충돌방지 제도 강화\\n- 고위공직자의 부동산・주식 등 거래내역신고제 도입\\n○주요 공공기관 기관장 등의 임기를 대통령 임기와 일치시켜 공공기관 경영 및 정책 \\n추진의 일관성과 책임성 강화\\n○민생・인권친화적 제도 개선\\n- 국선변호인 조력 범위의 단계적 확대\\n- 한국형 디스커버리제도(증거개시제도) 도입, 피해자 진술권 강화 등 사법절차 공정성 \\n확대\\n○변호사의 공공성 강화\\n- 별도 위원회에 변호사 징계권한 부여 및 변호사 비밀유지권 법제화\\n○방송통신위원회의 정파성 극복을 위한 방송영상미디어 관련 법제 정비 \\n○방송의 공공성 회복과 공적책무 이행으로 국민의 방송 실현\\n- 공영방송의 정치적 독립성 보장을 위한 법제 정비\\n- 방송의 보도・제작・편성의 자율성 보장\\n○건강하고 신뢰할 수 있는 미디어 이용환경 조성\\n- 반헌법적・반사회적 콘텐츠에 대한 플랫폼 책임성 강화\\n- 방송통신심의위원회의 독립성 및 정치적 중립성 강화\\n○제3기 진실화해위원회의 신속 출범 \\n○학교 역사교육 강화 및 역사연구기관 운영의 정상화 \\n□이행기간\\n○법률 제·개정 사항은 2025년 6월부터 준비하여 단계적으로 추진\\n○재정사업은 2025년 추경과 2026년도 예산 수립부터 단계적으로 추진\\n□재원조달방안 등\\n○정부재정 지출구조 조정분, 2025~2030 연간 총수입증가분(전망) 등으로 충당'),\n",
       " Document(metadata={'producer': 'Hancom PDF 1.3.0.538', 'creator': 'Hwp 2018 11.0.0.2129', 'creationdate': '2025-05-10T16:18:26+09:00', 'source': 'c:\\\\Users\\\\LeeSeungYong\\\\myproject\\\\ai-agent\\\\agentic-rag\\\\document\\\\20250603_더불어민주당_정당정책.pdf', 'file_path': 'c:\\\\Users\\\\LeeSeungYong\\\\myproject\\\\ai-agent\\\\agentic-rag\\\\document\\\\20250603_더불어민주당_정당정책.pdf', 'total_pages': 20, 'format': 'PDF 1.4', 'title': '20250603_더불어민주당_정당정책.pdf', 'author': 'USER', 'subject': '', 'keywords': '', 'moddate': '2025-05-10T16:18:26+09:00', 'trapped': '', 'modDate': \"D:20250510161826+09'00'\", 'creationDate': \"D:20250510161826+09'00'\", 'page': 4}, page_content='- 5 -\\n선거명\\n제21대 대통령선거\\n정당명\\n더불어민주당\\n정책순위 : 3\\n가계·소상공인의 활력을 증진하고, 공정\\n경제를 실현하겠습니다.\\n분    야\\n경제·산업\\n□목 표\\n○가계와 소상공인의 활력을 제고 \\n○공정한 경제구조 실현\\n□이행방법\\n○코로나 정책자금 대출에 대한 채무조정부터 탕감까지 종합방안 마련\\n○12.3 비상계엄으로 인한 피해 소상공인 지원방안 마련\\n○소상공인 금융과 경영부담 완화\\n- 저금리 대환대출 등 정책자금 확대 및 키오스크 등 각종 수수료 부담 완화\\n- 건물관리비 내역 공개로 임대료 꼼수 인상 방지\\n- 디지털 전환 적극 추진 및 글로벌 소상공인 집중 육성\\n○소비촉진으로 소상공인·자영업자 활기 도모\\n- 지역사랑상품권 및 온누리상품권 발행 규모 확대 \\n- 지역별 대표상권 및 소규모 골목상권 육성을 통한 상권르네상스 2.0 추진  \\n○공정하고 지속가능하며 실패해도 재기할 수 있는 소상공인 경제 구축\\n- ‘소상공인 내일채움공제’ 도입으로 목돈 마련 기회 제공\\n- 폐업지원금 현실화 및 폐업시 대출금 일시상환 유예 요건 완화\\n○소상공인·자영업자 사회안전망 확대\\n- 경찰청 연계 안심콜 의무화로 여성 소상공인 안전 강화 \\n- 소상공인·자영업자 육아휴직수당 확대\\n- 자영업자의 ‘아프면 쉴 권리’를 위한 상병수당 확대 \\n○가맹점주·대리점주·수탁사업자·온라인플랫폼 입점사업자 등 협상력 강화 \\n○플랫폼 중개수수료율 차별금지 및 수수료 상한제 도입으로 공정한 배달문화 구축\\n○대환대출 활성화 및 중도상환수수료 단계적 감면 등 대출상환 부담 완화 \\n○취약계층에 대한 중금리대출 전문 인터넷은행 추진\\n○가산금리 산정 시 법적비용의 금융소비자 부당전가 방지로 원리금상환부담 경감\\n○채무자 중심의 보호체계 구축 및 사각지대 해소'),\n",
       " Document(metadata={'producer': 'Hancom PDF 1.3.0.538', 'creator': 'Hwp 2018 11.0.0.2129', 'creationdate': '2025-05-10T16:18:26+09:00', 'source': 'c:\\\\Users\\\\LeeSeungYong\\\\myproject\\\\ai-agent\\\\agentic-rag\\\\document\\\\20250603_더불어민주당_정당정책.pdf', 'file_path': 'c:\\\\Users\\\\LeeSeungYong\\\\myproject\\\\ai-agent\\\\agentic-rag\\\\document\\\\20250603_더불어민주당_정당정책.pdf', 'total_pages': 20, 'format': 'PDF 1.4', 'title': '20250603_더불어민주당_정당정책.pdf', 'author': 'USER', 'subject': '', 'keywords': '', 'moddate': '2025-05-10T16:18:26+09:00', 'trapped': '', 'modDate': \"D:20250510161826+09'00'\", 'creationDate': \"D:20250510161826+09'00'\", 'page': 5}, page_content='- 6 -\\n- 장기소액연체채권 소각 등을 위한 배드뱅크 설치\\n- 특별감면제·상환유예제 등 청산형 채무조정 적용 확대\\n○고품질 공공임대주택 및 공공임대 비율 단계적 확대\\n○전세사기 걱정 없는 사회, 부담없는 전월세로 서민의 주거사다리 복원\\n- 전세사기 걱정 없고 임차인에게 책임이 전가되지 않는 보증제도 개선\\n- 월세 세액공제 대상자 및 대상주택 범위 확대 등 월세 부담 완화\\n○주식시장 수급여건 개선 및 유동성 확충\\n- 상장기업 특성에 따른 주식시장 재편 및 주주환원 강화\\n- 외국인 투자자 유입 확대를 위한 제도 정비 및 MSCI 선진국지수 편입 적극 추진\\n○디지털자산 생태계 정비를 통한 산업육성기반 마련\\n○중소기업협동조합 등 단체협상권 부여로 제값받는 공정한 경제 창출 \\n○중소기업 복지플랫폼 예산 확대 및 중소기업 상생금융지수 도입 추진\\n○한국형 디스커버리제도 도입 등 기술탈취 행위 강력 근절\\n○상법상 주주충실 의무 도입 등 기업지배구조 개선 통한 일반주주의 권익 보호 \\n○자본·손익거래 등을 악용한 지배주주의 사익편취 행위 근절\\n○먹튀·시세조종 근절로 공정한 시장질서 창출 \\n□이행기간\\n○법률 제·개정 사항은 2025년 6월부터 준비하여 단계적으로 추진\\n○재정사업은 2025년 추경과 2026년도 예산 수립부터 단계적으로 추진\\n□재원조달방안 등\\n○정부재정 지출구조 조정분, 2025~2030 연간 총수입증가분(전망) 등으로 충당'),\n",
       " Document(metadata={'producer': 'Hancom PDF 1.3.0.538', 'creator': 'Hwp 2018 11.0.0.2129', 'creationdate': '2025-05-10T16:18:26+09:00', 'source': 'c:\\\\Users\\\\LeeSeungYong\\\\myproject\\\\ai-agent\\\\agentic-rag\\\\document\\\\20250603_더불어민주당_정당정책.pdf', 'file_path': 'c:\\\\Users\\\\LeeSeungYong\\\\myproject\\\\ai-agent\\\\agentic-rag\\\\document\\\\20250603_더불어민주당_정당정책.pdf', 'total_pages': 20, 'format': 'PDF 1.4', 'title': '20250603_더불어민주당_정당정책.pdf', 'author': 'USER', 'subject': '', 'keywords': '', 'moddate': '2025-05-10T16:18:26+09:00', 'trapped': '', 'modDate': \"D:20250510161826+09'00'\", 'creationDate': \"D:20250510161826+09'00'\", 'page': 6}, page_content='- 7 -\\n선거명\\n제21대 대통령선거\\n정당명\\n더불어민주당\\n정책순위 : 4\\n세계질서 변화에 실용적으로 대처하는 \\n외교안보 강국을 만들겠습니다.\\n분    야\\n외교·통상\\n□목 표  \\n○튼튼한 경제안보 구축\\n○지속가능한 한반도 평화 실현\\n□이행방법\\n○국제적 통상환경 변화에 적극 대응하는 경제외교 추진\\n- G20, G7 등을 통한 글로벌 현안 적극 참여 \\n- 성공적인 2025 경주 APEC 개최를 통한 외교역량 강화 및 국제위상 제고\\n- 경제안보 증진을 위한 주요국과의 연대 강화\\n○우리의 외교영역을 확대하고 다변화\\n- 신아시아 전략 및 글로벌사우스 협력 추진\\n- 통상·공급망·방산·인프라 등 분야에 있어 EU 및 유럽과의 실질협력 강화\\n○통상환경 변화 대응을 위한 무역구조 혁신\\n- 국익을 최우선할 수 있도록 산업경쟁력 제고 및 전략적 통상정책 추진\\n- 수출시장·품목 다변화 추진 및 기후위기발 글로벌 환경무역 대응역량 강화\\n- 핵심소재·연료광물의 공급망 안정화를 위한 통상협력 강화\\n○국익과 실용의 기반 하에 주변 4국과의 외교관계 발전\\n○북한 핵 위협의 단계적 감축 및 비핵·평화체제를 향한 실질적 진전 달성\\n○한반도 군사적 긴장 완화, 평화 분위기 조성\\n- 한반도 비핵화 목표 아래 남북관계 복원 및 화해·협력으로의 전환 추진\\n- 우발적 충돌방지 및 군사적 긴장완화, 신뢰구축 조치 추진\\n○굳건한 한미동맹에 기반한 전방위적 억제능력 확보\\n- 한국형 탄도미사일 성능 고도화 및 한국형 미사일방어체계 고도화\\n- 한미동맹 기반 하 전시작전권 환수 추진\\n○국제사회에서의 공헌과 국격에 걸맞은 외교 추진\\n- UN 등 국제기구에서의 적극적 역할 확대, 글로벌 기후위기 대응외교 강화\\n- 국제개발협력 및 적극적 공공외교 추진'),\n",
       " Document(metadata={'producer': 'Hancom PDF 1.3.0.538', 'creator': 'Hwp 2018 11.0.0.2129', 'creationdate': '2025-05-10T16:18:26+09:00', 'source': 'c:\\\\Users\\\\LeeSeungYong\\\\myproject\\\\ai-agent\\\\agentic-rag\\\\document\\\\20250603_더불어민주당_정당정책.pdf', 'file_path': 'c:\\\\Users\\\\LeeSeungYong\\\\myproject\\\\ai-agent\\\\agentic-rag\\\\document\\\\20250603_더불어민주당_정당정책.pdf', 'total_pages': 20, 'format': 'PDF 1.4', 'title': '20250603_더불어민주당_정당정책.pdf', 'author': 'USER', 'subject': '', 'keywords': '', 'moddate': '2025-05-10T16:18:26+09:00', 'trapped': '', 'modDate': \"D:20250510161826+09'00'\", 'creationDate': \"D:20250510161826+09'00'\", 'page': 7}, page_content='- 8 -\\n○이산가족 상봉 등 남북 인도주의협력, 교류협력 모색·추진\\n○재외국민에 대한 적극적인 지원을 통한 권익과 안전 보호\\n○주력 제조업 경쟁력 강화를 위한 ‘전략산업 국내생산 촉진세제’ 도입\\n○수출산업 보호를 위한 무역안보 단속체계 확립 \\n- 국산 둔갑 우회수출, 국가 핵심기술 유출 단속 강화\\n- 공급망 위기를 선제적으로 포착할 수 있는 공급망 조기경보시스템 고도화\\n○전략물자 국적선박 확보를 통한 물류 안보 실현\\n○식량안보 차원에서 쌀 등 주요농산물의 안정적 공급기반 구축 \\n○어업협정 이행 강화 및 ‘불법 중국어선 강력 대응’을 통한 해양 주권 수호\\n□이행기간\\n○법률 제·개정 사항은 2025년 6월부터 준비하여 단계적으로 추진\\n○재정사업은 2025년 추경과 2026년도 예산 수립부터 단계적으로 추진 \\n□재원조달방안 등\\n○정부재정 지출구조 조정분, 2025~2030 연간 총수입증가분(전망) 등으로 충당'),\n",
       " Document(metadata={'producer': 'Hancom PDF 1.3.0.538', 'creator': 'Hwp 2018 11.0.0.2129', 'creationdate': '2025-05-10T16:18:26+09:00', 'source': 'c:\\\\Users\\\\LeeSeungYong\\\\myproject\\\\ai-agent\\\\agentic-rag\\\\document\\\\20250603_더불어민주당_정당정책.pdf', 'file_path': 'c:\\\\Users\\\\LeeSeungYong\\\\myproject\\\\ai-agent\\\\agentic-rag\\\\document\\\\20250603_더불어민주당_정당정책.pdf', 'total_pages': 20, 'format': 'PDF 1.4', 'title': '20250603_더불어민주당_정당정책.pdf', 'author': 'USER', 'subject': '', 'keywords': '', 'moddate': '2025-05-10T16:18:26+09:00', 'trapped': '', 'modDate': \"D:20250510161826+09'00'\", 'creationDate': \"D:20250510161826+09'00'\", 'page': 8}, page_content='- 9 -\\n선거명\\n제21대 대통령선거\\n정당명\\n더불어민주당\\n정책순위 : 5\\n국민의 생명과 안전을 지키는 나라를 \\n만들겠습니다.\\n분    야\\n사법·행정·보건\\n의료\\n□목 표  \\n○국민 생활안전 및 재난 대응 강화\\n○의료 대란 해결 및 의료 개혁 추진\\n□이행방법\\n○범죄로부터 안전한 사회 구축\\n- 흉악범죄·묻지마범죄(이상동기범죄) 예방을 위해 범죄경력자 관리 감독 강화\\n- 교제폭력 범죄 처벌 강화 및 피해자 보호명령제도 도입\\n- 청소년 범죄 대응체계 강화\\n○민생침해 금융범죄 처벌 및 금융소비자 보호를 위한 제도 개선 추진\\n- 민생파괴 금융범죄에 대한 처벌 대폭 강화\\n- 보이스피싱·다중사기범죄 등 서민 다중피해범죄에 대한 범죄이익 몰수\\n- 금융사고 책임자 엄정처벌 및 금융보안 의무위반 징벌적 과징금 부과\\n○사회적 재난에 대한 신속하고 효율적인 대응체계 구축\\n- 재난현장지휘권 강화로 대규모 재난 신속대응 및 부처별 협업체계 구축\\n- 사회재난 발생 시 사고조사위원회 즉시 설치\\n- 재난안전 산업 육성 및 소방·화재 안전 장비 확충\\n- 산불‧호우·땅꺼짐 사고를 포함한 통합 기후재난 예측·감시시스템 도입\\n- 생명안전기본법 제정 추진\\n○교통사고 예방과 건설안전 환경조성으로 생활안전 체계 강화\\n- 보행자 안전 우선의 교통체계 구축으로 교통취약계층 우선보호 \\n- 오토바이 전후방 번호판제 도입 및 고령운전자 운전 안전 대책 마련 \\n- 전기차 배터리 인증제 활성화 및 전기차 화재예방·진압장비 도입 확대  \\n- 공유형 전동킥보드 안전관리 강화 및 효율적 이용을 위한 관련법 제정\\n- 항공사고 예방을 위한 항공사·공항시설 안전관련 투자·정비 점검 강화 \\n- 건설공사 발주ㆍ설계ㆍ시공ㆍ감리 등 전 과정에 대한 안전대책 강화\\n○지역·필수·공공의료 강화로 제대로 치료받을 권리 확보'),\n",
       " Document(metadata={'producer': 'Hancom PDF 1.3.0.538', 'creator': 'Hwp 2018 11.0.0.2129', 'creationdate': '2025-05-10T16:18:26+09:00', 'source': 'c:\\\\Users\\\\LeeSeungYong\\\\myproject\\\\ai-agent\\\\agentic-rag\\\\document\\\\20250603_더불어민주당_정당정책.pdf', 'file_path': 'c:\\\\Users\\\\LeeSeungYong\\\\myproject\\\\ai-agent\\\\agentic-rag\\\\document\\\\20250603_더불어민주당_정당정책.pdf', 'total_pages': 20, 'format': 'PDF 1.4', 'title': '20250603_더불어민주당_정당정책.pdf', 'author': 'USER', 'subject': '', 'keywords': '', 'moddate': '2025-05-10T16:18:26+09:00', 'trapped': '', 'modDate': \"D:20250510161826+09'00'\", 'creationDate': \"D:20250510161826+09'00'\", 'page': 9}, page_content='- 10 -\\n- 필수의료에 대한 충분한 보상체계 확립 및 의료사고에 대한 국가책임 강화\\n- 지역의사·지역의대·공공의료사관학교 신설로 지역·필수·공공의료 인력 확보\\n- 진료권 중심 공공의료 인프라 확충 및 국립대병원 거점병원 역할 강화 \\n- 응급환자 신속 이송-수용-전원체계로 응급실 뺑뺑이 문제 해결 \\n- 진료권 중심 응급의료체계와 중증-응급 24시간 전문의 대응체계 확립\\n- 주치의 중심 맞춤형 일차 의료체계 구축 및 방문·재택 진료 확대\\n- 의료의 질과 안전성을 고려한 비대면 진료 제도화\\n- 필수의약품 수급불안 해소와 감염병 위기 대응 인프라 구축\\n○국민참여 의료개혁으로 의료대란 해결, 건강보험의 지속가능성 확보\\n- ‘국민참여형 의료개혁 공론화위원회’ 로 국민이 원하는 진짜 의료개혁 추진\\n- 보건의료 전문직역들의 상호협력체계 강화 및 적정인력 확보\\n- 건강보험에 대한 안정적인 국고지원 및 수가보상체계의 합리적 개편\\n- 대상별·질환별 특성 고려한 보장성 확대로 의료비 절감과 질병 예방\\n- 희귀·난치 질환 부담 완화와 소아비만·소아당뇨에 대한 국가책임 강화\\n□이행기간\\n○법률 제·개정 사항은 2025년 6월부터 준비하여 단계적으로 추진\\n○재정사업은 2025년 추경과 2026년도 예산 수립부터 단계적으로 추진 \\n○건강보험 관련 사항은 사회적 논의 통해 건보재정 계획 마련\\n□재원조달방안 등\\n○정부재정 지출구조 조정분, 2025~2030 연간 총수입증가분(전망) 등으로 충당. 건강보\\n험 재정 관련 사항은 별도 논의 필요'),\n",
       " Document(metadata={'producer': 'Hancom PDF 1.3.0.538', 'creator': 'Hwp 2018 11.0.0.2129', 'creationdate': '2025-05-10T16:18:26+09:00', 'source': 'c:\\\\Users\\\\LeeSeungYong\\\\myproject\\\\ai-agent\\\\agentic-rag\\\\document\\\\20250603_더불어민주당_정당정책.pdf', 'file_path': 'c:\\\\Users\\\\LeeSeungYong\\\\myproject\\\\ai-agent\\\\agentic-rag\\\\document\\\\20250603_더불어민주당_정당정책.pdf', 'total_pages': 20, 'format': 'PDF 1.4', 'title': '20250603_더불어민주당_정당정책.pdf', 'author': 'USER', 'subject': '', 'keywords': '', 'moddate': '2025-05-10T16:18:26+09:00', 'trapped': '', 'modDate': \"D:20250510161826+09'00'\", 'creationDate': \"D:20250510161826+09'00'\", 'page': 10}, page_content='- 11 -\\n선거명\\n제21대 대통령선거\\n정당명\\n더불어민주당\\n정책순위 : 6\\n세종 행정수도와 ‘5극 3특’ 추진으로 국\\n토균형발전을 이루겠습니다.\\n분    야\\n행정· 경제·\\n산업\\n□목 표\\n○세종 행정수도 완성  \\n○\\n5극(5대 초광역권:\\n수도권,\\n동남권,\\n대경권,\\n중부권,\\n호남권),\\n3특(3대 특별자 \\n치도(제주,강원,전북)) 추진\\n□이행방법\\n○세종 행정수도 완성 추진\\n- 국회 세종의사당과 대통령 세종 집무실 임기 내 건립\\n○이전 공공기관 정주여건 개선 및 제2차 공공기관 지방이전 추진\\n○5극, 3특 중심 균형발전 기반 마련 \\n- 5대 초광역권(수도권, 동남권, 대경권, 중부권, 호남권)별 특별지방자치단체 구성 \\n및 권역별 광역급행철도 건설\\n- 3대 특별자치도(제주, 강원, 전북)의 자치권한 및 경쟁력 강화 위한 특별법 개정\\n○자치분권 강화와 지방재정 확충\\n- 균형발전을 위한 국가자치분권회의 신설 추진\\n- 지방교부세 확대, 자체세원 발굴 등으로 지방재정 확충\\n○지역소멸을 방지하기 위한 지역 주도 행정체계 개편 추진\\n- 행정체계 개편을 위한 범부처 통합 TF구성 및 로드맵 마련\\n- 주민의사를 반영한 지자체 통합방안 마련\\n○지역대표 전략산업 육성과 지역투자 촉진으로 지역경제 활력 촉진\\n- 혁신도시·경제자유구역·국가/지방산단 연계한 경쟁력 있는 지역대표 전략산업 육성\\n- 위기산업 구조개혁으로 지역균형 발전 추진 및 지역산업 생태계 안정 도모\\n○수도권 중심의 대학 서열화 완화를 통한 국가 균형발전 달성\\n- ‘서울대 10개 만들기’로 지역 거점국립대에 대한 전략적 투자와 체계적 육성 추진\\n- 지역과 함께 성장하고 국립대-사립대가 동반성장하는 RISE 체계 구축 \\n○지역사랑상품권 발행 의무화를 통해 지역경제를 살리고 균형발전 달성\\n○‘잘사니즘’의 실현, 관광산업으로 지역경제 활성화'),\n",
       " Document(metadata={'producer': 'Hancom PDF 1.3.0.538', 'creator': 'Hwp 2018 11.0.0.2129', 'creationdate': '2025-05-10T16:18:26+09:00', 'source': 'c:\\\\Users\\\\LeeSeungYong\\\\myproject\\\\ai-agent\\\\agentic-rag\\\\document\\\\20250603_더불어민주당_정당정책.pdf', 'file_path': 'c:\\\\Users\\\\LeeSeungYong\\\\myproject\\\\ai-agent\\\\agentic-rag\\\\document\\\\20250603_더불어민주당_정당정책.pdf', 'total_pages': 20, 'format': 'PDF 1.4', 'title': '20250603_더불어민주당_정당정책.pdf', 'author': 'USER', 'subject': '', 'keywords': '', 'moddate': '2025-05-10T16:18:26+09:00', 'trapped': '', 'modDate': \"D:20250510161826+09'00'\", 'creationDate': \"D:20250510161826+09'00'\", 'page': 11}, page_content='- 12 -\\n- 국민휴가 지원 3종 세트(근로자 휴가지원제, 지역사랑 휴가지원제, 숏컷 여행)를 통\\n해 근로자 휴가지원제도를 대폭 확대해 지역관광 활성화\\n- 지자체ž기업 매칭의 워케이션 관광 활성화 및 지역특화 관광자원 개발 \\n○사람이 돌아오는 지속가능한 농산어촌\\n- 주거여건 개선, 빈집 정비, 세컨드 하우스 확산 및 귀농·귀촌 지원 강화 \\n- 신규인력 진입지원 확대 통해 미래 청년농업·어업·임업 인재 육성 \\n○철도지하화 대상 구간 차질없는 추진 위한 종합계획 수립 및 단계적 시행\\n○지역·중소방송사의 지역밀착형 콘텐츠 제작 지원 및 확대 등 활성화 적극 지원\\n○재난현장 일선에서 희생하는 이·통장 특별활동비 신설\\n□이행기간\\n○법률 제·개정 사항은 2025년 6월부터 준비하여 단계적으로 추진\\n○재정사업은 2025년 추경과 2026년도 예산 수립부터 단계적으로 추진 \\n□재원조달방안 등\\n○정부재정 지출구조 조정분, 2025~2030 연간 총수입증가분(전망) 등으로 충당'),\n",
       " Document(metadata={'producer': 'Hancom PDF 1.3.0.538', 'creator': 'Hwp 2018 11.0.0.2129', 'creationdate': '2025-05-10T16:18:26+09:00', 'source': 'c:\\\\Users\\\\LeeSeungYong\\\\myproject\\\\ai-agent\\\\agentic-rag\\\\document\\\\20250603_더불어민주당_정당정책.pdf', 'file_path': 'c:\\\\Users\\\\LeeSeungYong\\\\myproject\\\\ai-agent\\\\agentic-rag\\\\document\\\\20250603_더불어민주당_정당정책.pdf', 'total_pages': 20, 'format': 'PDF 1.4', 'title': '20250603_더불어민주당_정당정책.pdf', 'author': 'USER', 'subject': '', 'keywords': '', 'moddate': '2025-05-10T16:18:26+09:00', 'trapped': '', 'modDate': \"D:20250510161826+09'00'\", 'creationDate': \"D:20250510161826+09'00'\", 'page': 12}, page_content='- 13 -\\n선거명\\n제21대 대통령선거\\n정당명\\n더불어민주당\\n정책순위 : 7\\n노동이 존중받고 모든 사람의 권리가 보\\n장되는 사회를 만들겠습니다.\\n분    야\\n교육·경제·복지 \\n□목 표\\n○노동 존중, 일하는 사람들의 권리 존중 사회 실현 \\n□이행방법\\n○자영업자, 특수고용 및 플랫폼 노동자 등 일하는 모든 사람들의 일터 권리 보장, 일\\n한 만큼 보상받는 공정한 노동환경 조성\\n- 일하는 사람 권리 보장을 위한 법제도 개선, 미조직 취약계층 이해 대변 강화\\n- 「노동조합법」2·3조 개정으로 하청노동자 등의 교섭권 보장\\n ○포괄임금제 금지 등 「근로기준법」에 명문화\\n○동일노동 동일임금 기준지표 마련을 위한 임금분포제 도입\\n○산업․업종․지역단위 단체교섭협약 활성화로 저임금노동자들의 기본 노동조건 보장\\n- 국가․지자체, 공공기관 등 공공부문이 모범적 사용자로서 노동관계법 준수 및 산\\n업․업종 단체교섭협약모델 구축 추진\\n○직장 내 민주주의, 노사자율 강화 실현\\n- 근로자(노동자)의 과반수를 대표하는 근로자(노동자) 대표의 선출․임기․역할․법적\\n보호 등 제도적 기반 마련 \\n○‘업무상 재해위험이 높은 자영업자’까지 산재보험 제도 도입\\n○‘일하다 다치거나 죽지 않게’ 노동안전보건체계 구축\\n- 하청노동자 보호를 위한 원·하청 통합 안전보건관리체계 구축\\n○일하는 여성이 일하기 좋은 사회 조성\\n- 고용평등 임금공시제 도입 및 공공기관 성별 평등지표 적극 반영\\n○주4.5일 도입․확산 등으로 2030년까지 OECD 평균 이하로 노동시간 감축\\n- 범정부 차원 주 4.5일제 실시 지원 및 실노동시간 단축 로드맵 제시\\n○공무원 처우개선 및 공직문화 개선\\n- 저연차 공무원의 보수 지속적 인상, 경찰‧소방‧재난담당 공무원 위험근무수당 인상\\n- ‘간부 모시는 날’, 불합리한 업무 지시 등 잘못된 공직관행 혁신\\n○문화예술인 창작권 보장을 위한 권리 강화 및 정부의 문화예술인 창작권 침해 금지'),\n",
       " Document(metadata={'producer': 'Hancom PDF 1.3.0.538', 'creator': 'Hwp 2018 11.0.0.2129', 'creationdate': '2025-05-10T16:18:26+09:00', 'source': 'c:\\\\Users\\\\LeeSeungYong\\\\myproject\\\\ai-agent\\\\agentic-rag\\\\document\\\\20250603_더불어민주당_정당정책.pdf', 'file_path': 'c:\\\\Users\\\\LeeSeungYong\\\\myproject\\\\ai-agent\\\\agentic-rag\\\\document\\\\20250603_더불어민주당_정당정책.pdf', 'total_pages': 20, 'format': 'PDF 1.4', 'title': '20250603_더불어민주당_정당정책.pdf', 'author': 'USER', 'subject': '', 'keywords': '', 'moddate': '2025-05-10T16:18:26+09:00', 'trapped': '', 'modDate': \"D:20250510161826+09'00'\", 'creationDate': \"D:20250510161826+09'00'\", 'page': 13}, page_content='- 14 -\\n○권리보장 강화로 장애인 사회참여 실현\\n- 체계적 장애인 권리보장 기반 마련을 위한 ‘장애인권리보장법’ 제정\\n- 장애인 등 교통약자를 위한 교통수단 확대 및 단계적 발전 계획 마련 등\\n□이행기간\\n○법률 등 제·개정 사항은 2025년 6월부터 준비하여 단계적 추진\\n○재정사업은 2025년 제2회추경안, 2026년도 예산안 편성부터 단계적 추진\\n□재원조달방안 등\\n○정부재정 지출구조 조정분, 2025~2030 연간 총수입증가분(전망) 등으로 충당'),\n",
       " Document(metadata={'producer': 'Hancom PDF 1.3.0.538', 'creator': 'Hwp 2018 11.0.0.2129', 'creationdate': '2025-05-10T16:18:26+09:00', 'source': 'c:\\\\Users\\\\LeeSeungYong\\\\myproject\\\\ai-agent\\\\agentic-rag\\\\document\\\\20250603_더불어민주당_정당정책.pdf', 'file_path': 'c:\\\\Users\\\\LeeSeungYong\\\\myproject\\\\ai-agent\\\\agentic-rag\\\\document\\\\20250603_더불어민주당_정당정책.pdf', 'total_pages': 20, 'format': 'PDF 1.4', 'title': '20250603_더불어민주당_정당정책.pdf', 'author': 'USER', 'subject': '', 'keywords': '', 'moddate': '2025-05-10T16:18:26+09:00', 'trapped': '', 'modDate': \"D:20250510161826+09'00'\", 'creationDate': \"D:20250510161826+09'00'\", 'page': 14}, page_content='- 15 -\\n선거명\\n제21대 대통령선거\\n정당명\\n더불어민주당\\n정책순위 : 8\\n생활안정으로 아동·청년·어르신 등 모\\n두가 잘사는 나라를 만들겠습니다.\\n분    야\\n경제·복지\\n□목 표  \\n○생활안정과 생활비절감 추진  \\n○빈틈없이 기본이 보장되는 사회 추진 \\n□이행방법\\n○생애주기별 소득보장체계 구축\\n- 아동수당 지급 대상을 18세까지 점진적 상향 \\n- 일하는 모든 취업자로 육아휴직 단계적 확대\\n- 국민연금 사각지대 해소 및 연금개혁 지속 추진\\n○온 사회가 다 같이 돌보는 돌봄기본사회 추진\\n- 영유아 교육·보육비 지원 확대 및 온동네 초등돌봄체계 구축 \\n- 간병비 부담완화와 간호ž간병 통합병동 확대 추진 \\n- 지속 가능한 지역사회 통합 돌봄체계 구축\\n○근로장려금(EITC)과 자녀장려금(CTC)의 대상 및 지급액 확대\\n○주거·통신 등 필수적인 생활비 부담 절감\\n- 월세 세액공제 대상자·대상주택 확대 및 통신비 세액공제 신설\\n○청년·국민·어르신 패스 3종 도입으로 국민 교통비 절감 \\n○국가책임 공교육으로 사교육비 부담 경감  \\n- 기초학력 학습안전망 지원 확대 및 자기주도학습센터 운영\\n○대학생 등록금 부담 완화 및 청년주거 환경 개선\\n○생애주기 문화패스 신설‧확대 등 국민 문화향유권 확대\\n○선진국형 농가소득 및 농업재해안전망 도입 \\n- 농산물 가격 안정적 관리 및 농어업재해 국가책임 강화\\n- 양곡관리법 개정 등을 통한 쌀값 정상화 및 공익직불금 확대\\n- 농업인 퇴직연금제 도입 및 농지이양 은퇴직불금‧공공비축농지 확대\\n○어민 소득증대 통한 어촌소멸 대응\\n- 탄소중립 활동 참여 어촌마을 안정적인 소득기반 마련'),\n",
       " Document(metadata={'producer': 'Hancom PDF 1.3.0.538', 'creator': 'Hwp 2018 11.0.0.2129', 'creationdate': '2025-05-10T16:18:26+09:00', 'source': 'c:\\\\Users\\\\LeeSeungYong\\\\myproject\\\\ai-agent\\\\agentic-rag\\\\document\\\\20250603_더불어민주당_정당정책.pdf', 'file_path': 'c:\\\\Users\\\\LeeSeungYong\\\\myproject\\\\ai-agent\\\\agentic-rag\\\\document\\\\20250603_더불어민주당_정당정책.pdf', 'total_pages': 20, 'format': 'PDF 1.4', 'title': '20250603_더불어민주당_정당정책.pdf', 'author': 'USER', 'subject': '', 'keywords': '', 'moddate': '2025-05-10T16:18:26+09:00', 'trapped': '', 'modDate': \"D:20250510161826+09'00'\", 'creationDate': \"D:20250510161826+09'00'\", 'page': 15}, page_content='- 16 -\\n- 수산식품기업바우처 수산선도조직 육성사업 지원 확대\\n○국가유공자 예우 강화 및 보훈문화 확산\\n- 저소득 보훈대상자에 대한 지원체계 강화 및 사각지대 없는 보훈의료체계 구축\\n- 조국 수호를 위해 희생한 시간에 대한 정당한 보상\\n○문화예술인 사회보험보장 확대 및 복합지원공간 확충\\n○청년의 기회와 복지 확대 \\n- ‘청년미래적금’ 도입 등 청년자산형성 지원\\n- 취업 후 상환 학자금 대출 소득요건 완화, 의무상환 전 이자면제 대상 확대\\n- 군복무 경력 호봉 반영, 구직활동지원금 확대 등 청년의 일할 권리와 기회강화\\n- 청년 맞춤형 공공분양 및 월세지원 확대 등 청년 주거지원 강화\\n- 국민연금 군복무 크레딧 확대 등 청년생활안전망 구축\\n- 글로벌 기업이 운영 중인 ‘채용연계형 직업교육 프로그램’ 확산·지원\\n○1인가구·청년을 위한 정책 확대\\n- 직장과 주거시설이 근접한 주거복합플랫폼주택 조성 및 맞춤형 주거설계지원 사업 추진\\n○한부모가족의 복지급여 확대 등 안정적인 생활환경 지원 강화\\n○서민들의 편의를 위한 교통물류 환경 개선\\n- 교통물류환경종사자 근로여건 개선방안 마련\\n- 생활물류, 고속철도, 항공 등 국민편익 향상 방안 마련\\n○청년·근로자 천원의 아침밥 및 농식품바우처 확대 등 먹거리 돌봄 강화\\n○사람과 동물이 더불어 행복한 사회 조성\\n- 반려동물 양육비 부담 완화 및 의료 서비스 강화\\n- 동물 학대자의 동물 소유권 및 사육권 제한\\n□이행기간\\n○법률 제·개정 사항은 2025년 6월부터 준비하여 단계적으로 추진\\n○재정사업은 2025년 추경과 2026년도 예산 수립부터 단계적으로 추진 \\n□재원조달방안 등\\n○정부재정 지출구조 조정분, 2025~2030 연간 총수입증가분(전망) 등으로 충당'),\n",
       " Document(metadata={'producer': 'Hancom PDF 1.3.0.538', 'creator': 'Hwp 2018 11.0.0.2129', 'creationdate': '2025-05-10T16:18:26+09:00', 'source': 'c:\\\\Users\\\\LeeSeungYong\\\\myproject\\\\ai-agent\\\\agentic-rag\\\\document\\\\20250603_더불어민주당_정당정책.pdf', 'file_path': 'c:\\\\Users\\\\LeeSeungYong\\\\myproject\\\\ai-agent\\\\agentic-rag\\\\document\\\\20250603_더불어민주당_정당정책.pdf', 'total_pages': 20, 'format': 'PDF 1.4', 'title': '20250603_더불어민주당_정당정책.pdf', 'author': 'USER', 'subject': '', 'keywords': '', 'moddate': '2025-05-10T16:18:26+09:00', 'trapped': '', 'modDate': \"D:20250510161826+09'00'\", 'creationDate': \"D:20250510161826+09'00'\", 'page': 16}, page_content='- 17 -\\n선거명\\n제21대 대통령선거\\n정당명\\n더불어민주당\\n정책순위 : 9\\n저출생·고령화 위기를 극복하고 아이부\\n터 어르신까지 함께 돌보는 국가를 만\\n들겠습니다.\\n분    야\\n교육·복지\\n□목 표  \\n○저출생·고령화 해소 및 돌봄체계 구축\\n□이행방법\\n○저출생 대책 혁신 및 자녀양육 지원 확대\\n- 자녀 수에 비례한 신용카드 소득공제율‧공제 한도 상향 추진\\n- 초등학생 예체능학원‧체육시설 이용료를 교육비 세액공제 대상에 추가\\n- ‘우리아이자립펀드’ 단계적 도입 및 신혼부부 결혼출산지원 확대\\n- 신혼부부 공공임대주택 공급 확대\\n- 난임부부 치료지원 강화\\n○아이 키우기 좋은 나라를 위한 돌봄‧교육, 일·가정 양립 지원 강화\\n- 공공 아이돌봄 서비스 지원 강화\\n- 지자체 협력형 초등돌봄 추진\\n- 초등학교 방과후학교 수업료 지원 확대\\n- 교육·보육의 질을 높이는 정부 책임형 유보 통합 추진\\n○발달장애인 24시간 돌봄 등 장애인 맞춤형 지역돌봄체계 구축 \\n○생애주기별 외로움(고독) 대응 정책 개발‧추진\\n○고령사회 대응을 위한 통합적 지원체계 마련\\n- 치매‧장애 등으로 재산 관리가 어려운 노인을 위한 공공신탁제도 도입\\n- 어르신 주거 문제 해결을 위한 고령자 친화 주택·은퇴자 도시 조성\\n- 간호·간병 통합서비스 확대 및 요양병원 간병비 건강보험 적용\\n- 노인 등이 집에서 의료‧돌봄서비스를 받는 지역사회 통합 돌봄체계 구축\\n○지속 가능한 노후 소득 보장 체계 구축\\n- 국민연금 수급 연령에 맞춘 정년 연장, 사회적 합의를 통해 단계적 추진\\n- 주택연금 제도개선 등을 통해 노후 소득 보장을 위한 지원강화'),\n",
       " Document(metadata={'producer': 'Hancom PDF 1.3.0.538', 'creator': 'Hwp 2018 11.0.0.2129', 'creationdate': '2025-05-10T16:18:26+09:00', 'source': 'c:\\\\Users\\\\LeeSeungYong\\\\myproject\\\\ai-agent\\\\agentic-rag\\\\document\\\\20250603_더불어민주당_정당정책.pdf', 'file_path': 'c:\\\\Users\\\\LeeSeungYong\\\\myproject\\\\ai-agent\\\\agentic-rag\\\\document\\\\20250603_더불어민주당_정당정책.pdf', 'total_pages': 20, 'format': 'PDF 1.4', 'title': '20250603_더불어민주당_정당정책.pdf', 'author': 'USER', 'subject': '', 'keywords': '', 'moddate': '2025-05-10T16:18:26+09:00', 'trapped': '', 'modDate': \"D:20250510161826+09'00'\", 'creationDate': \"D:20250510161826+09'00'\", 'page': 17}, page_content='- 18 -\\n□이행기간\\n○법률 제·개정 사항은 2025년 6월부터 준비하여 단계적으로 추진\\n○재정사업은 2025년 추경과 2026년도 예산 수립부터 단계적으로 추진 \\n□재원조달방안 등\\n○정부재정 지출구조 조정분, 2025~2030 연간 총수입증가분(전망) 등으로 충당'),\n",
       " Document(metadata={'producer': 'Hancom PDF 1.3.0.538', 'creator': 'Hwp 2018 11.0.0.2129', 'creationdate': '2025-05-10T16:18:26+09:00', 'source': 'c:\\\\Users\\\\LeeSeungYong\\\\myproject\\\\ai-agent\\\\agentic-rag\\\\document\\\\20250603_더불어민주당_정당정책.pdf', 'file_path': 'c:\\\\Users\\\\LeeSeungYong\\\\myproject\\\\ai-agent\\\\agentic-rag\\\\document\\\\20250603_더불어민주당_정당정책.pdf', 'total_pages': 20, 'format': 'PDF 1.4', 'title': '20250603_더불어민주당_정당정책.pdf', 'author': 'USER', 'subject': '', 'keywords': '', 'moddate': '2025-05-10T16:18:26+09:00', 'trapped': '', 'modDate': \"D:20250510161826+09'00'\", 'creationDate': \"D:20250510161826+09'00'\", 'page': 18}, page_content='- 19 -\\n선거명\\n제21대 대통령선거\\n정당명\\n더불어민주당\\n정책순위 : 10\\n미래세대를 위해 기후위기에 적극 대응\\n하겠습니다.\\n분    야\\n환경·산업\\n□목 표 \\n○기후위기 대응 및 산업구조의 탈탄소 전환\\n□이행방법\\n○선진국으로서의 책임에 걸맞는 온실가스 감축목표 수립\\n- 2030년 온실가스 감축 목표 달성 추진과 과학적 근거에 따른 2035년 이후 감축 로드\\n맵 수립\\n- 헌법불합치 결정 취지를 감안하여 책임있는 중간목표를 담은 탄소중립기본법 개정\\n- 2028년 제33차 기후변화협약 당사국총회(COP33) 유치\\n○재생에너지 중심의 에너지전환 가속화\\n- 2040년까지 석탄화력발전 폐쇄 \\n- 햇빛ž바람 연금 확대, 농가태양광 설치로 주민소득 증대 및 에너지 자립 실현\\n- 태양광 이격거리 규제 및 재생에너지 직접구매(PPA) 개선 \\n○경제성장의 대동맥, 에너지고속도로 구축  \\n- 2030년까지 서해안, 2040년까지 한반도 에너지고속도로 건설 추진 \\n- 분산형 재생에너지 발전원을 효율적으로 연결·운영하는 ‘지능형 전력망’ 구축 \\n- ‘에너지산업 육성’ 및 공급망 내재화를 통한 차세대 성장동력 마련 \\n○탄소중립 산업전환으로 경제와 환경의 조화로운 발전 도모\\n- 태양광·풍력·전기차·배터리·수전해·히트펌프 등 탄소중립산업의 국산화 및 수출경쟁\\n력 제고 \\n- RE100 산업단지 조성으로 수출기업의 기후통상 대응역량 지원\\n- 철강·석유화학·시멘트 등 탄소다배출 업종의 저탄소 공정 및 기술혁신 지속 추진,\\n기업 탈탄소 전환 지원책 마련 \\n- 기후테크 R&D 예산 확대, 탄소중립 신산업·신기술 발굴로 탄소중립 역량 강화\\n○건축물·열 부문 탈탄소화\\n- 민간·공공 그린리모델링 지원 확대 및 절차 간소화를 통한 노후건물 에너지효율화\\n○전기차 보급 확대 및 노후경유차 조기 대·폐차 지원을 통한 수송부문 탈탄소 가속화'),\n",
       " Document(metadata={'producer': 'Hancom PDF 1.3.0.538', 'creator': 'Hwp 2018 11.0.0.2129', 'creationdate': '2025-05-10T16:18:26+09:00', 'source': 'c:\\\\Users\\\\LeeSeungYong\\\\myproject\\\\ai-agent\\\\agentic-rag\\\\document\\\\20250603_더불어민주당_정당정책.pdf', 'file_path': 'c:\\\\Users\\\\LeeSeungYong\\\\myproject\\\\ai-agent\\\\agentic-rag\\\\document\\\\20250603_더불어민주당_정당정책.pdf', 'total_pages': 20, 'format': 'PDF 1.4', 'title': '20250603_더불어민주당_정당정책.pdf', 'author': 'USER', 'subject': '', 'keywords': '', 'moddate': '2025-05-10T16:18:26+09:00', 'trapped': '', 'modDate': \"D:20250510161826+09'00'\", 'creationDate': \"D:20250510161826+09'00'\", 'page': 19}, page_content='- 20 -\\n○영농형태양광 적극 보급, 친환경유기농업 확대 및 지속가능한 축산업으로 농업 탄소\\n배출량 저감 추진\\n○탈플라스틱 국가 로드맵 수립 및 바이오플라스틱 산업 육성 지원\\n○한반도 생물 다양성 복원\\n- 산불 발생 지역 생물다양성 복원 추진\\n- 육지와 해양의 생물다양성보호구역 단계적 확대\\n○4대강 재자연화(Rewilding)와 수질개선 추진\\n○탄소포인트제 등 국민의 탄소 감축 실천에 대한 인센티브 강화\\n○정의로운 전환을 위한 실현 방안 마련\\n- 배출권거래제 유상할당 비중 확대 등 기후대응기금 확충 \\n- 정의로운 전환 특구 지정 및 고용전환과 신산업 역량 개발 지원\\n○2028년 제4차 UN해양총회 유치\\n□이행기간\\n○법률 제·개정 사항은 2025년 6월부터 준비하여 단계적으로 추진\\n○재정사업은 2025년 추경과 2026년도 예산 수립부터 단계적으로 추진\\n□재원조달방안 등\\n○정부재정 지출구조 조정분, 2025~2030 연간 총수입증가분(전망) 등으로 충당')]"
      ]
     },
     "execution_count": 8,
     "metadata": {},
     "output_type": "execute_result"
    }
   ],
   "source": [
    "print(len(docs))\n",
    "docs"
   ]
  },
  {
   "cell_type": "code",
   "execution_count": 9,
   "metadata": {},
   "outputs": [],
   "source": [
    "from langchain_text_splitters import RecursiveCharacterTextSplitter\n",
    "from langchain_core.documents import Document  # Document 클래스 import 추가\n",
    "import re\n",
    "\n",
    "text_splitter = RecursiveCharacterTextSplitter.from_tiktoken_encoder(\n",
    "    chunk_size=200,  # 더 큰 청크 사이즈\n",
    "    chunk_overlap=50,  # 더 큰 오버랩\n",
    "    model_name = \"gpt-4\"\n",
    ")\n",
    "\n",
    "# def preprocess_text(text):\n",
    "#     # 불필요한 공백 제거\n",
    "#     text = ' '.join(text.split())\n",
    "#     # 특수문자 처리\n",
    "#     text = re.sub(r'[^\\w\\s]', ' ', text)\n",
    "#     return text\n",
    "\n",
    "# # 문서 분할 전에 전처리 적용\n",
    "# doc_splits = text_splitter.split_documents(\n",
    "#     [Document(page_content=preprocess_text(doc.page_content)) for doc in docs]\n",
    "# )\n",
    "doc_splits = text_splitter.split_documents(docs)"
   ]
  },
  {
   "cell_type": "code",
   "execution_count": 10,
   "metadata": {},
   "outputs": [
    {
     "name": "stdout",
     "output_type": "stream",
     "text": [
      "106\n",
      "2번째 Document 토큰 개수: 152\n",
      "□이행방법\n",
      "○인공지능 대전환(AX)을 통해 AI 3강으로 도약\n",
      "- AI 예산 비중 선진국 수준 이상 증액과 민간 투자 100조원 시대 개막\n",
      "- AI 데이터센터 건설을 통한 ‘AI 고속도로’ 구축 및 국가 혁신거점 육성\n",
      "- 고성능 GPU 5만개 이상 확보와 국가 AI데이터 집적 클러스터 조성\n",
      "\n"
     ]
    }
   ],
   "source": [
    "import tiktoken\n",
    "\n",
    "print(len(doc_splits))\n",
    "# doc_splits[4].page_content.strip()\n",
    "for i, split in enumerate(doc_splits):\n",
    "    encoder = tiktoken.get_encoding(\"cl100k_base\")\n",
    "    tokens = encoder.encode(split.page_content)\n",
    "    if '데이터센터' in split.page_content:\n",
    "        print(f\"{i+1}번째 Document 토큰 개수: {len(tokens)}\")\n",
    "        print(split.page_content)\n",
    "        print()"
   ]
  },
  {
   "cell_type": "code",
   "execution_count": 11,
   "metadata": {},
   "outputs": [],
   "source": [
    "from langchain_core.vectorstores import InMemoryVectorStore\n",
    "from langchain.retrievers import EnsembleRetriever\n",
    "from langchain_community.vectorstores import FAISS\n",
    "from langchain.retrievers import BM25Retriever\n",
    "from langchain_google_genai import GoogleGenerativeAIEmbeddings\n",
    "\n",
    "# Gemini Embedding 모델 초기화\n",
    "embeddings = GoogleGenerativeAIEmbeddings(\n",
    "    model=\"models/embedding-001\",  # 더 강력한 임베딩 모델\n",
    "    task_type=\"retrieval_document\"  # 문서 검색에 최적화\n",
    ")\n",
    "\n",
    "# 벡터 스토어 생성\n",
    "# vectorstore = InMemoryVectorStore.from_documents(\n",
    "#     documents=doc_splits,\n",
    "#     embedding=embeddings\n",
    "# )\n",
    "\n",
    "faiss_vectorstore = FAISS.from_documents(\n",
    "    documents=doc_splits,\n",
    "    embedding=embeddings\n",
    ")"
   ]
  },
  {
   "cell_type": "code",
   "execution_count": 12,
   "metadata": {},
   "outputs": [],
   "source": [
    "faiss_vectorstore.as_retriever(\n",
    "    search_type=\"similarity\",\n",
    "    search_kwargs={\"k\": 5}\n",
    ")\n",
    "faiss_retriever = faiss_vectorstore.as_retriever(\n",
    "    search_type=\"similarity\",\n",
    "    search_kwargs={\"k\": 5}\n",
    ")\n",
    "\n",
    "bm25_retriever = BM25Retriever.from_documents(doc_splits)\n",
    "bm25_retriever.k = 5\n",
    "\n",
    "# 5. 앙상블 검색기 생성\n",
    "ensemble_retriever = EnsembleRetriever(\n",
    "    retrievers=[faiss_retriever, bm25_retriever],\n",
    "    weights=[0.3, 0.7]  # FAISS에 더 높은 가중치\n",
    ")"
   ]
  },
  {
   "cell_type": "code",
   "execution_count": 14,
   "metadata": {},
   "outputs": [
    {
     "name": "stdout",
     "output_type": "stream",
     "text": [
      "\n",
      "=== 검색어: 소상공인 경제 활성화 대책에 대해서 설명해줘 ===\n",
      "\n",
      "FAISS 검색 결과:\n",
      "\n",
      "문서 1:\n",
      "내용: ○지속 가능한 노후 소득 보장 체계 구축\n",
      "- 국민연금 수급 연령에 맞춘 정년 연장, 사회적 합의를 통해 단계적 추진\n",
      "- 주택연금 제도개선 등을 통해 노후 소득 보장을 위한 지원강화...\n",
      "\n",
      "문서 2:\n",
      "내용: ○건축물·열 부문 탈탄소화\n",
      "- 민간·공공 그린리모델링 지원 확대 및 절차 간소화를 통한 노후건물 에너지효율화\n",
      "○전기차 보급 확대 및 노후경유차 조기 대·폐차 지원을 통한 수송부문 탈탄소 가속화...\n",
      "\n",
      "문서 3:\n",
      "내용: ○국가첨단전략산업에 대한 대규모 집중투자방안 마련\n",
      "- 국민·기업·정부·연기금 등 모든 경제주체들이 참여할 수 있는 국민펀드 조성\n",
      "- 일반국민·기업의 투자금에 대해 소득세·법인세 감면 등 과감한 세제혜택 부여\n",
      "- 산업생태계 뒷받침을 위한 기금을 설치하여 맞춤형 자금공급 지원...\n",
      "\n",
      "문서 4:\n",
      "내용: ○의료 대란 해결 및 의료 개혁 추진\n",
      "□이행방법\n",
      "○범죄로부터 안전한 사회 구축\n",
      "- 흉악범죄·묻지마범죄(이상동기범죄) 예방을 위해 범죄경력자 관리 감독 강화\n",
      "- 교제폭력 범죄 처벌 강화 및 피해자 보호명령제도 도입\n",
      "- 청소년 범죄 대응체계 강화...\n",
      "\n",
      "문서 5:\n",
      "내용: ○동일노동 동일임금 기준지표 마련을 위한 임금분포제 도입\n",
      "○산업․업종․지역단위 단체교섭협약 활성화로 저임금노동자들의 기본 노동조건 보장\n",
      "- 국가․지자체, 공공기관 등 공공부문이 모범적 사용자로서 노동관계법 준수 및 산\n",
      "업․업종 단체교섭협약모델 구축 추진...\n",
      "\n",
      "BM25 검색 결과:\n",
      "\n",
      "문서 1:\n",
      "내용: ○공정하고 지속가능하며 실패해도 재기할 수 있는 소상공인 경제 구축\n",
      "- ‘소상공인 내일채움공제’ 도입으로 목돈 마련 기회 제공\n",
      "- 폐업지원금 현실화 및 폐업시 대출금 일시상환 유예 요건 완화\n",
      "○소상공인·자영업자 사회안전망 확대\n",
      "- 경찰청 연계 안심콜 의무화로 여성 소상공인 안전 강화 \n",
      "- 소상공인·자영업자 육아휴직수당 확대...\n",
      "\n",
      "문서 2:\n",
      "내용: - 12 -\n",
      "- 국민휴가 지원 3종 세트(근로자 휴가지원제, 지역사랑 휴가지원제, 숏컷 여행)를 통\n",
      "해 근로자 휴가지원제도를 대폭 확대해 지역관광 활성화\n",
      "- 지자체ž기업 매칭의 워케이션 관광 활성화 및 지역특화 관광자원 개발 \n",
      "○사람이 돌아오는 지속가능한 농산어촌...\n",
      "\n",
      "문서 3:\n",
      "내용: - 외국인 투자자 유입 확대를 위한 제도 정비 및 MSCI 선진국지수 편입 적극 추진\n",
      "○디지털자산 생태계 정비를 통한 산업육성기반 마련\n",
      "○중소기업협동조합 등 단체협상권 부여로 제값받는 공정한 경제 창출 \n",
      "○중소기업 복지플랫폼 예산 확대 및 중소기업 상생금융지수 도입 추진...\n",
      "\n",
      "문서 4:\n",
      "내용: - 건물관리비 내역 공개로 임대료 꼼수 인상 방지\n",
      "- 디지털 전환 적극 추진 및 글로벌 소상공인 집중 육성\n",
      "○소비촉진으로 소상공인·자영업자 활기 도모\n",
      "- 지역사랑상품권 및 온누리상품권 발행 규모 확대 \n",
      "- 지역별 대표상권 및 소규모 골목상권 육성을 통한 상권르네상스 2.0 추진...\n",
      "\n",
      "문서 5:\n",
      "내용: ○코로나 정책자금 대출에 대한 채무조정부터 탕감까지 종합방안 마련\n",
      "○12.3 비상계엄으로 인한 피해 소상공인 지원방안 마련\n",
      "○소상공인 금융과 경영부담 완화\n",
      "- 저금리 대환대출 등 정책자금 확대 및 키오스크 등 각종 수수료 부담 완화\n",
      "- 건물관리비 내역 공개로 임대료 꼼수 인상 방지...\n",
      "\n",
      "앙상블 검색 결과:\n",
      "\n",
      "문서 1:\n",
      "내용: ○공정하고 지속가능하며 실패해도 재기할 수 있는 소상공인 경제 구축\n",
      "- ‘소상공인 내일채움공제’ 도입으로 목돈 마련 기회 제공\n",
      "- 폐업지원금 현실화 및 폐업시 대출금 일시상환 유예 요건 완화\n",
      "○소상공인·자영업자 사회안전망 확대\n",
      "- 경찰청 연계 안심콜 의무화로 여성 소상공인 안전 강화 \n",
      "- 소상공인·자영업자 육아휴직수당 확대...\n",
      "메타데이터: {'producer': 'Hancom PDF 1.3.0.538', 'creator': 'Hwp 2018 11.0.0.2129', 'creationdate': '2025-05-10T16:18:26+09:00', 'source': 'c:\\\\Users\\\\LeeSeungYong\\\\myproject\\\\ai-agent\\\\agentic-rag\\\\document\\\\20250603_더불어민주당_정당정책.pdf', 'file_path': 'c:\\\\Users\\\\LeeSeungYong\\\\myproject\\\\ai-agent\\\\agentic-rag\\\\document\\\\20250603_더불어민주당_정당정책.pdf', 'total_pages': 20, 'format': 'PDF 1.4', 'title': '20250603_더불어민주당_정당정책.pdf', 'author': 'USER', 'subject': '', 'keywords': '', 'moddate': '2025-05-10T16:18:26+09:00', 'trapped': '', 'modDate': \"D:20250510161826+09'00'\", 'creationDate': \"D:20250510161826+09'00'\", 'page': 4}\n",
      "\n",
      "문서 2:\n",
      "내용: - 12 -\n",
      "- 국민휴가 지원 3종 세트(근로자 휴가지원제, 지역사랑 휴가지원제, 숏컷 여행)를 통\n",
      "해 근로자 휴가지원제도를 대폭 확대해 지역관광 활성화\n",
      "- 지자체ž기업 매칭의 워케이션 관광 활성화 및 지역특화 관광자원 개발 \n",
      "○사람이 돌아오는 지속가능한 농산어촌...\n",
      "메타데이터: {'producer': 'Hancom PDF 1.3.0.538', 'creator': 'Hwp 2018 11.0.0.2129', 'creationdate': '2025-05-10T16:18:26+09:00', 'source': 'c:\\\\Users\\\\LeeSeungYong\\\\myproject\\\\ai-agent\\\\agentic-rag\\\\document\\\\20250603_더불어민주당_정당정책.pdf', 'file_path': 'c:\\\\Users\\\\LeeSeungYong\\\\myproject\\\\ai-agent\\\\agentic-rag\\\\document\\\\20250603_더불어민주당_정당정책.pdf', 'total_pages': 20, 'format': 'PDF 1.4', 'title': '20250603_더불어민주당_정당정책.pdf', 'author': 'USER', 'subject': '', 'keywords': '', 'moddate': '2025-05-10T16:18:26+09:00', 'trapped': '', 'modDate': \"D:20250510161826+09'00'\", 'creationDate': \"D:20250510161826+09'00'\", 'page': 11}\n",
      "\n",
      "문서 3:\n",
      "내용: - 외국인 투자자 유입 확대를 위한 제도 정비 및 MSCI 선진국지수 편입 적극 추진\n",
      "○디지털자산 생태계 정비를 통한 산업육성기반 마련\n",
      "○중소기업협동조합 등 단체협상권 부여로 제값받는 공정한 경제 창출 \n",
      "○중소기업 복지플랫폼 예산 확대 및 중소기업 상생금융지수 도입 추진...\n",
      "메타데이터: {'producer': 'Hancom PDF 1.3.0.538', 'creator': 'Hwp 2018 11.0.0.2129', 'creationdate': '2025-05-10T16:18:26+09:00', 'source': 'c:\\\\Users\\\\LeeSeungYong\\\\myproject\\\\ai-agent\\\\agentic-rag\\\\document\\\\20250603_더불어민주당_정당정책.pdf', 'file_path': 'c:\\\\Users\\\\LeeSeungYong\\\\myproject\\\\ai-agent\\\\agentic-rag\\\\document\\\\20250603_더불어민주당_정당정책.pdf', 'total_pages': 20, 'format': 'PDF 1.4', 'title': '20250603_더불어민주당_정당정책.pdf', 'author': 'USER', 'subject': '', 'keywords': '', 'moddate': '2025-05-10T16:18:26+09:00', 'trapped': '', 'modDate': \"D:20250510161826+09'00'\", 'creationDate': \"D:20250510161826+09'00'\", 'page': 5}\n",
      "\n",
      "문서 4:\n",
      "내용: - 건물관리비 내역 공개로 임대료 꼼수 인상 방지\n",
      "- 디지털 전환 적극 추진 및 글로벌 소상공인 집중 육성\n",
      "○소비촉진으로 소상공인·자영업자 활기 도모\n",
      "- 지역사랑상품권 및 온누리상품권 발행 규모 확대 \n",
      "- 지역별 대표상권 및 소규모 골목상권 육성을 통한 상권르네상스 2.0 추진...\n",
      "메타데이터: {'producer': 'Hancom PDF 1.3.0.538', 'creator': 'Hwp 2018 11.0.0.2129', 'creationdate': '2025-05-10T16:18:26+09:00', 'source': 'c:\\\\Users\\\\LeeSeungYong\\\\myproject\\\\ai-agent\\\\agentic-rag\\\\document\\\\20250603_더불어민주당_정당정책.pdf', 'file_path': 'c:\\\\Users\\\\LeeSeungYong\\\\myproject\\\\ai-agent\\\\agentic-rag\\\\document\\\\20250603_더불어민주당_정당정책.pdf', 'total_pages': 20, 'format': 'PDF 1.4', 'title': '20250603_더불어민주당_정당정책.pdf', 'author': 'USER', 'subject': '', 'keywords': '', 'moddate': '2025-05-10T16:18:26+09:00', 'trapped': '', 'modDate': \"D:20250510161826+09'00'\", 'creationDate': \"D:20250510161826+09'00'\", 'page': 4}\n",
      "\n",
      "문서 5:\n",
      "내용: ○코로나 정책자금 대출에 대한 채무조정부터 탕감까지 종합방안 마련\n",
      "○12.3 비상계엄으로 인한 피해 소상공인 지원방안 마련\n",
      "○소상공인 금융과 경영부담 완화\n",
      "- 저금리 대환대출 등 정책자금 확대 및 키오스크 등 각종 수수료 부담 완화\n",
      "- 건물관리비 내역 공개로 임대료 꼼수 인상 방지...\n",
      "메타데이터: {'producer': 'Hancom PDF 1.3.0.538', 'creator': 'Hwp 2018 11.0.0.2129', 'creationdate': '2025-05-10T16:18:26+09:00', 'source': 'c:\\\\Users\\\\LeeSeungYong\\\\myproject\\\\ai-agent\\\\agentic-rag\\\\document\\\\20250603_더불어민주당_정당정책.pdf', 'file_path': 'c:\\\\Users\\\\LeeSeungYong\\\\myproject\\\\ai-agent\\\\agentic-rag\\\\document\\\\20250603_더불어민주당_정당정책.pdf', 'total_pages': 20, 'format': 'PDF 1.4', 'title': '20250603_더불어민주당_정당정책.pdf', 'author': 'USER', 'subject': '', 'keywords': '', 'moddate': '2025-05-10T16:18:26+09:00', 'trapped': '', 'modDate': \"D:20250510161826+09'00'\", 'creationDate': \"D:20250510161826+09'00'\", 'page': 4}\n",
      "\n",
      "문서 6:\n",
      "내용: ○지속 가능한 노후 소득 보장 체계 구축\n",
      "- 국민연금 수급 연령에 맞춘 정년 연장, 사회적 합의를 통해 단계적 추진\n",
      "- 주택연금 제도개선 등을 통해 노후 소득 보장을 위한 지원강화...\n",
      "메타데이터: {'producer': 'Hancom PDF 1.3.0.538', 'creator': 'Hwp 2018 11.0.0.2129', 'creationdate': '2025-05-10T16:18:26+09:00', 'source': 'c:\\\\Users\\\\LeeSeungYong\\\\myproject\\\\ai-agent\\\\agentic-rag\\\\document\\\\20250603_더불어민주당_정당정책.pdf', 'file_path': 'c:\\\\Users\\\\LeeSeungYong\\\\myproject\\\\ai-agent\\\\agentic-rag\\\\document\\\\20250603_더불어민주당_정당정책.pdf', 'total_pages': 20, 'format': 'PDF 1.4', 'title': '20250603_더불어민주당_정당정책.pdf', 'author': 'USER', 'subject': '', 'keywords': '', 'moddate': '2025-05-10T16:18:26+09:00', 'trapped': '', 'modDate': \"D:20250510161826+09'00'\", 'creationDate': \"D:20250510161826+09'00'\", 'page': 16}\n",
      "\n",
      "문서 7:\n",
      "내용: ○건축물·열 부문 탈탄소화\n",
      "- 민간·공공 그린리모델링 지원 확대 및 절차 간소화를 통한 노후건물 에너지효율화\n",
      "○전기차 보급 확대 및 노후경유차 조기 대·폐차 지원을 통한 수송부문 탈탄소 가속화...\n",
      "메타데이터: {'producer': 'Hancom PDF 1.3.0.538', 'creator': 'Hwp 2018 11.0.0.2129', 'creationdate': '2025-05-10T16:18:26+09:00', 'source': 'c:\\\\Users\\\\LeeSeungYong\\\\myproject\\\\ai-agent\\\\agentic-rag\\\\document\\\\20250603_더불어민주당_정당정책.pdf', 'file_path': 'c:\\\\Users\\\\LeeSeungYong\\\\myproject\\\\ai-agent\\\\agentic-rag\\\\document\\\\20250603_더불어민주당_정당정책.pdf', 'total_pages': 20, 'format': 'PDF 1.4', 'title': '20250603_더불어민주당_정당정책.pdf', 'author': 'USER', 'subject': '', 'keywords': '', 'moddate': '2025-05-10T16:18:26+09:00', 'trapped': '', 'modDate': \"D:20250510161826+09'00'\", 'creationDate': \"D:20250510161826+09'00'\", 'page': 18}\n",
      "\n",
      "문서 8:\n",
      "내용: ○국가첨단전략산업에 대한 대규모 집중투자방안 마련\n",
      "- 국민·기업·정부·연기금 등 모든 경제주체들이 참여할 수 있는 국민펀드 조성\n",
      "- 일반국민·기업의 투자금에 대해 소득세·법인세 감면 등 과감한 세제혜택 부여\n",
      "- 산업생태계 뒷받침을 위한 기금을 설치하여 맞춤형 자금공급 지원...\n",
      "메타데이터: {'producer': 'Hancom PDF 1.3.0.538', 'creator': 'Hwp 2018 11.0.0.2129', 'creationdate': '2025-05-10T16:18:26+09:00', 'source': 'c:\\\\Users\\\\LeeSeungYong\\\\myproject\\\\ai-agent\\\\agentic-rag\\\\document\\\\20250603_더불어민주당_정당정책.pdf', 'file_path': 'c:\\\\Users\\\\LeeSeungYong\\\\myproject\\\\ai-agent\\\\agentic-rag\\\\document\\\\20250603_더불어민주당_정당정책.pdf', 'total_pages': 20, 'format': 'PDF 1.4', 'title': '20250603_더불어민주당_정당정책.pdf', 'author': 'USER', 'subject': '', 'keywords': '', 'moddate': '2025-05-10T16:18:26+09:00', 'trapped': '', 'modDate': \"D:20250510161826+09'00'\", 'creationDate': \"D:20250510161826+09'00'\", 'page': 0}\n",
      "\n",
      "문서 9:\n",
      "내용: ○의료 대란 해결 및 의료 개혁 추진\n",
      "□이행방법\n",
      "○범죄로부터 안전한 사회 구축\n",
      "- 흉악범죄·묻지마범죄(이상동기범죄) 예방을 위해 범죄경력자 관리 감독 강화\n",
      "- 교제폭력 범죄 처벌 강화 및 피해자 보호명령제도 도입\n",
      "- 청소년 범죄 대응체계 강화...\n",
      "메타데이터: {'producer': 'Hancom PDF 1.3.0.538', 'creator': 'Hwp 2018 11.0.0.2129', 'creationdate': '2025-05-10T16:18:26+09:00', 'source': 'c:\\\\Users\\\\LeeSeungYong\\\\myproject\\\\ai-agent\\\\agentic-rag\\\\document\\\\20250603_더불어민주당_정당정책.pdf', 'file_path': 'c:\\\\Users\\\\LeeSeungYong\\\\myproject\\\\ai-agent\\\\agentic-rag\\\\document\\\\20250603_더불어민주당_정당정책.pdf', 'total_pages': 20, 'format': 'PDF 1.4', 'title': '20250603_더불어민주당_정당정책.pdf', 'author': 'USER', 'subject': '', 'keywords': '', 'moddate': '2025-05-10T16:18:26+09:00', 'trapped': '', 'modDate': \"D:20250510161826+09'00'\", 'creationDate': \"D:20250510161826+09'00'\", 'page': 8}\n",
      "\n",
      "문서 10:\n",
      "내용: ○동일노동 동일임금 기준지표 마련을 위한 임금분포제 도입\n",
      "○산업․업종․지역단위 단체교섭협약 활성화로 저임금노동자들의 기본 노동조건 보장\n",
      "- 국가․지자체, 공공기관 등 공공부문이 모범적 사용자로서 노동관계법 준수 및 산\n",
      "업․업종 단체교섭협약모델 구축 추진...\n",
      "메타데이터: {'producer': 'Hancom PDF 1.3.0.538', 'creator': 'Hwp 2018 11.0.0.2129', 'creationdate': '2025-05-10T16:18:26+09:00', 'source': 'c:\\\\Users\\\\LeeSeungYong\\\\myproject\\\\ai-agent\\\\agentic-rag\\\\document\\\\20250603_더불어민주당_정당정책.pdf', 'file_path': 'c:\\\\Users\\\\LeeSeungYong\\\\myproject\\\\ai-agent\\\\agentic-rag\\\\document\\\\20250603_더불어민주당_정당정책.pdf', 'total_pages': 20, 'format': 'PDF 1.4', 'title': '20250603_더불어민주당_정당정책.pdf', 'author': 'USER', 'subject': '', 'keywords': '', 'moddate': '2025-05-10T16:18:26+09:00', 'trapped': '', 'modDate': \"D:20250510161826+09'00'\", 'creationDate': \"D:20250510161826+09'00'\", 'page': 12}\n"
     ]
    }
   ],
   "source": [
    "from langchain.tools.retriever import create_retriever_tool\n",
    "\n",
    "# 6. 검색 결과 디버깅 함수\n",
    "def debug_ensemble_search(query, ensemble_retriever):\n",
    "    print(f\"\\n=== 검색어: {query} ===\")\n",
    "    \n",
    "    # 각 검색기의 결과도 확인\n",
    "    print(\"\\nFAISS 검색 결과:\")\n",
    "    faiss_results = faiss_retriever.invoke(query)\n",
    "    for i, doc in enumerate(faiss_results, 1):\n",
    "        print(f\"\\n문서 {i}:\")\n",
    "        print(f\"내용: {doc.page_content[:200]}...\")\n",
    "    \n",
    "    print(\"\\nBM25 검색 결과:\")\n",
    "    bm25_results = bm25_retriever.invoke(query)\n",
    "    for i, doc in enumerate(bm25_results, 1):\n",
    "        print(f\"\\n문서 {i}:\")\n",
    "        print(f\"내용: {doc.page_content[:200]}...\")\n",
    "    \n",
    "    print(\"\\n앙상블 검색 결과:\")\n",
    "    ensemble_results = ensemble_retriever.invoke(query)\n",
    "    for i, doc in enumerate(ensemble_results, 1):\n",
    "        print(f\"\\n문서 {i}:\")\n",
    "        print(f\"내용: {doc.page_content[:200]}...\")\n",
    "        if hasattr(doc, 'metadata'):\n",
    "            print(f\"메타데이터: {doc.metadata}\")\n",
    "    \n",
    "    return ensemble_results\n",
    "\n",
    "# 7. 검색기 도구 생성\n",
    "retriever_tool = create_retriever_tool(\n",
    "    ensemble_retriever,\n",
    "    \"policy_search\",\n",
    "    \"각 정당의 정책을 검색해서 정보를 알려주세요.\"\n",
    ")\n",
    "\n",
    "# 8. 테스트\n",
    "query = \"소상공인 경제 활성화 대책에 대해서 설명해줘\"\n",
    "results = debug_ensemble_search(query, ensemble_retriever)"
   ]
  },
  {
   "cell_type": "code",
   "execution_count": 15,
   "metadata": {},
   "outputs": [],
   "source": [
    "from IPython.display import display, Markdown\n",
    "\n",
    "def print_documents(documents):\n",
    "    \"\"\"\n",
    "    검색된 문서들을 보기 좋게 출력하는 함수\n",
    "    \"\"\"\n",
    "    for i, doc in enumerate(documents, 1):\n",
    "        # 마크다운 형식으로 출력\n",
    "        display(Markdown(f\"\"\"\n",
    "### 문서 {i}\n",
    "---\n",
    "{doc.page_content}\n",
    "---\n",
    "        \"\"\"))\n",
    "        \n",
    "        # 메타데이터가 있다면 출력\n",
    "        if doc.metadata:\n",
    "            print(\"\\n메타데이터:\")\n",
    "            for key, value in doc.metadata.items():\n",
    "                if key == \"title\":\n",
    "                    print(f\"- {key}: {value}\")\n",
    "        print(\"\\n\" + \"=\"*80 + \"\\n\")  # 구분선"
   ]
  },
  {
   "cell_type": "code",
   "execution_count": 16,
   "metadata": {},
   "outputs": [],
   "source": [
    "# 사용 예시\n",
    "# print_documents(relevant_documents)"
   ]
  },
  {
   "cell_type": "code",
   "execution_count": 17,
   "metadata": {},
   "outputs": [],
   "source": [
    "from langgraph.graph import MessagesState\n",
    "from langchain.chat_models import init_chat_model\n",
    "\n",
    "response_model = init_chat_model(\n",
    "    \"google_genai:gemini-2.0-flash\",\n",
    "    temperature=0\n",
    ")\n",
    "\n",
    "def generate_query_or_respond(state: MessagesState):\n",
    "    \"\"\"Call the model to generate a response based on the current state. Given\n",
    "    the question, it will decide to retrieve using the retriever tool, or simply respond to the user.\n",
    "    \"\"\"\n",
    "    # print(type(state[\"messages\"]), state[\"messages\"])\n",
    "    response = (\n",
    "        response_model.bind_tools([retriever_tool]).invoke(state[\"messages\"])\n",
    "    )\n",
    "    return {\"messages\": [response]}"
   ]
  },
  {
   "cell_type": "code",
   "execution_count": 18,
   "metadata": {},
   "outputs": [
    {
     "name": "stdout",
     "output_type": "stream",
     "text": [
      "==================================\u001b[1m Ai Message \u001b[0m==================================\n",
      "\n",
      "안녕하세요! 무엇을 도와드릴까요?\n"
     ]
    }
   ],
   "source": [
    "input = {\"messages\": [{\"role\": \"user\", \"content\": \"hello!\"}]}\n",
    "response = generate_query_or_respond(input)[\"messages\"][-1].pretty_print()"
   ]
  },
  {
   "cell_type": "code",
   "execution_count": 19,
   "metadata": {},
   "outputs": [],
   "source": [
    "input = {\n",
    "    \"messages\": [\n",
    "        {\n",
    "            \"role\": \"user\",\n",
    "            \"content\": \"더불어민주당의 '청년미래적금' 정책에 대해 자세히 알려주세요. 어떤 내용이고, 누가 대상이며, 어떤 효과를 기대하는지 설명해주세요.\",\n",
    "        }\n",
    "    ]\n",
    "}\n",
    "response = generate_query_or_respond(input)"
   ]
  },
  {
   "cell_type": "code",
   "execution_count": 20,
   "metadata": {},
   "outputs": [
    {
     "name": "stdout",
     "output_type": "stream",
     "text": [
      "==================================\u001b[1m Ai Message \u001b[0m==================================\n",
      "\n",
      "더불어민주당의 '청년미래적금' 정책에 대한 자세한 내용은 정책 검색을 통해 확인해볼 수 있습니다. 어떤 내용인지, 대상은 누구인지, 어떤 효과를 기대하는지 등을 알아보기 위해 검색을 실행하겠습니다.\n",
      "Tool Calls:\n",
      "  policy_search (d6d1e084-8129-4b77-a611-752721ffd6d0)\n",
      " Call ID: d6d1e084-8129-4b77-a611-752721ffd6d0\n",
      "  Args:\n",
      "    query: 더불어민주당 청년미래적금\n"
     ]
    }
   ],
   "source": [
    "response[\"messages\"][-1].pretty_print()"
   ]
  },
  {
   "cell_type": "code",
   "execution_count": 21,
   "metadata": {},
   "outputs": [
    {
     "data": {
      "text/plain": [
       "AIMessage(content=\"더불어민주당의 '청년미래적금' 정책에 대한 자세한 내용은 정책 검색을 통해 확인해볼 수 있습니다. 어떤 내용인지, 대상은 누구인지, 어떤 효과를 기대하는지 등을 알아보기 위해 검색을 실행하겠습니다.\", additional_kwargs={'function_call': {'name': 'policy_search', 'arguments': '{\"query\": \"\\\\ub354\\\\ubd88\\\\uc5b4\\\\ubbfc\\\\uc8fc\\\\ub2f9 \\\\uccad\\\\ub144\\\\ubbf8\\\\ub798\\\\uc801\\\\uae08\"}'}}, response_metadata={'prompt_feedback': {'block_reason': 0, 'safety_ratings': []}, 'finish_reason': 'STOP', 'model_name': 'gemini-2.0-flash', 'safety_ratings': []}, id='run--58c2e31a-df39-47d8-8538-13ead7bf5346-0', tool_calls=[{'name': 'policy_search', 'args': {'query': '더불어민주당 청년미래적금'}, 'id': 'd6d1e084-8129-4b77-a611-752721ffd6d0', 'type': 'tool_call'}], usage_metadata={'input_tokens': 81, 'output_tokens': 89, 'total_tokens': 170, 'input_token_details': {'cache_read': 0}})"
      ]
     },
     "execution_count": 21,
     "metadata": {},
     "output_type": "execute_result"
    }
   ],
   "source": [
    "response[\"messages\"][-1]"
   ]
  },
  {
   "cell_type": "code",
   "execution_count": 22,
   "metadata": {},
   "outputs": [],
   "source": [
    "from pydantic import BaseModel, Field\n",
    "from typing import Literal\n",
    "\n",
    "GRADE_PROMPT = (\n",
    "    \"You are a grader assessing relevance of a retrieved document to a user question. \\n \"\n",
    "    \"Here is the retrieved document: \\n\\n {context} \\n\\n\"\n",
    "    \"Here is the user question: {question} \\n\"\n",
    "    \"If the document contains keyword(s) or semantic meaning related to the user question, grade it as relevant. \\n\"\n",
    "    \"Give a binary score 'yes' or 'no' score to indicate whether the document is relevant to the question.\"\n",
    ")\n",
    "\n",
    "\n",
    "class GradeDocuments(BaseModel):\n",
    "    \"\"\"Grade documents using a binary score for relevance check.\"\"\"\n",
    "\n",
    "    binary_score: str = Field(\n",
    "        description=\"Relevance score: 'yes' if relevant, or 'no' if not relevant\"\n",
    "    )\n",
    "\n",
    "\n",
    "grader_model = init_chat_model(\n",
    "    \"google_genai:gemini-2.0-flash\", \n",
    "    temperature=0\n",
    "    )\n",
    "\n",
    "\n",
    "def grade_documents(\n",
    "    state: MessagesState,\n",
    ") -> Literal[\"generate_answer\", \"rewrite_question\"]:\n",
    "    \"\"\"Determine whether the retrieved documents are relevant to the question.\"\"\"\n",
    "    question = state[\"messages\"][0].content\n",
    "    context = state[\"messages\"][-1].content\n",
    "\n",
    "    prompt = GRADE_PROMPT.format(question=question, context=context)\n",
    "    response = (\n",
    "        grader_model\n",
    "        .with_structured_output(GradeDocuments).invoke(\n",
    "            [{\"role\": \"user\", \"content\": prompt}]\n",
    "        )\n",
    "    )\n",
    "    score = response.binary_score\n",
    "\n",
    "    if score == \"yes\":\n",
    "        return \"generate_answer\"\n",
    "    else:\n",
    "        return \"rewrite_question\""
   ]
  },
  {
   "cell_type": "code",
   "execution_count": 23,
   "metadata": {},
   "outputs": [
    {
     "data": {
      "text/plain": [
       "'rewrite_question'"
      ]
     },
     "execution_count": 23,
     "metadata": {},
     "output_type": "execute_result"
    }
   ],
   "source": [
    "from langchain_core.messages import convert_to_messages\n",
    "\n",
    "input = {\n",
    "    \"messages\": convert_to_messages(\n",
    "        [\n",
    "            {\n",
    "                \"role\": \"user\",\n",
    "                \"content\": \"더불어 민주당의 경제 정책에 대해서 설명해줘.\",\n",
    "            },\n",
    "            {\n",
    "                \"role\": \"assistant\",\n",
    "                \"content\": \"\",\n",
    "                \"tool_calls\": [\n",
    "                    {\n",
    "                        \"id\": \"1\",\n",
    "                        \"name\": \"policy_search\",\n",
    "                        \"args\": {\"query\": \"더불어 민주당 경제 정책\"},\n",
    "                    }\n",
    "                ],\n",
    "            },\n",
    "            {\"role\": \"tool\", \"content\": \"meow\", \"tool_call_id\": \"1\"},\n",
    "        ]\n",
    "    )\n",
    "}\n",
    "grade_documents(input)"
   ]
  },
  {
   "cell_type": "code",
   "execution_count": 24,
   "metadata": {},
   "outputs": [
    {
     "data": {
      "text/plain": [
       "'generate_answer'"
      ]
     },
     "execution_count": 24,
     "metadata": {},
     "output_type": "execute_result"
    }
   ],
   "source": [
    "from langchain_core.messages import convert_to_messages\n",
    "\n",
    "input = {\n",
    "    \"messages\": convert_to_messages(\n",
    "        [\n",
    "            {\n",
    "                \"role\": \"user\",\n",
    "                \"content\": \"더불어 민주당의 경제 정책에 대해서 설명해줘.\",\n",
    "            },\n",
    "            {\n",
    "                \"role\": \"assistant\",\n",
    "                \"content\": \"\",\n",
    "                \"tool_calls\": [\n",
    "                    {\n",
    "                        \"id\": \"1\",\n",
    "                        \"name\": \"policy_search\",\n",
    "                        \"args\": {\"query\": \"더불어 민주당 경제 정책\"},\n",
    "                    }\n",
    "                ],\n",
    "            },\n",
    "            {\"role\": \"tool\", \"content\": \"\"\"\n",
    "더불어 민주당 산업단지 복귀 기업 증가에 따른 고용 확대 및 지역경제 활성화를 통해 \n",
    "장기적인 세수 확보 가능        \n",
    "            \"\"\", \"tool_call_id\": \"1\"},\n",
    "        ]\n",
    "    )\n",
    "}\n",
    "grade_documents(input)"
   ]
  },
  {
   "cell_type": "code",
   "execution_count": 25,
   "metadata": {},
   "outputs": [],
   "source": [
    "REWRITE_PROMPT = (\n",
    "    \"Look at the input and try to reason about the underlying semantic intent / meaning.\\n\"\n",
    "    \"Here is the initial question:\"\n",
    "    \"\\n ------- \\n\"\n",
    "    \"{question}\"\n",
    "    \"\\n ------- \\n\"\n",
    "    \"Formulate an improved question IN KOREAN(HANGUL):\"\n",
    ")\n",
    "\n",
    "\n",
    "def rewrite_question(state: MessagesState):\n",
    "    \"\"\"Rewrite the original user question.\"\"\"\n",
    "    messages = state[\"messages\"]\n",
    "    question = messages[0].content\n",
    "    prompt = REWRITE_PROMPT.format(question=question)\n",
    "    response = response_model.invoke([{\"role\": \"user\", \"content\": prompt}])\n",
    "    return {\"messages\": [{\"role\": \"user\", \"content\": response.content}]}"
   ]
  },
  {
   "cell_type": "code",
   "execution_count": 26,
   "metadata": {},
   "outputs": [],
   "source": [
    "from langchain_core.messages import convert_to_messages\n",
    "\n",
    "input = {\n",
    "    \"messages\": convert_to_messages(\n",
    "        [\n",
    "            {\n",
    "                \"role\": \"user\",\n",
    "                \"content\": \"더불어 민주당의 경제 정책에 대해서 설명해줘.\",\n",
    "            },\n",
    "            {\n",
    "                \"role\": \"assistant\",\n",
    "                \"content\": \"\",\n",
    "                \"tool_calls\": [\n",
    "                    {\n",
    "                        \"id\": \"1\",\n",
    "                        \"name\": \"policy_search\",\n",
    "                        \"args\": {\"query\": \"더불어 민주당 경제 정책\"},\n",
    "                    }\n",
    "                ],\n",
    "            },\n",
    "            {\"role\": \"tool\", \"content\": \"meow\", \"tool_call_id\": \"1\"},\n",
    "        ]\n",
    "    )\n",
    "}\n",
    "\n",
    "response = rewrite_question(input)"
   ]
  },
  {
   "cell_type": "code",
   "execution_count": 27,
   "metadata": {},
   "outputs": [
    {
     "name": "stdout",
     "output_type": "stream",
     "text": [
      "더불어민주당의 주요 경제 정책 목표와 구체적인 정책 내용, 그리고 그 정책들이 한국 경제에 미칠 영향에 대해 자세히 설명해 주세요.\n"
     ]
    }
   ],
   "source": [
    "print(response[\"messages\"][-1][\"content\"])"
   ]
  },
  {
   "cell_type": "code",
   "execution_count": 28,
   "metadata": {},
   "outputs": [],
   "source": [
    "GENERATE_PROMPT = (\n",
    "    \"You are an assistant for question-answering tasks. \"\n",
    "    \"Use the following pieces of retrieved context to answer the question. \"\n",
    "    \"If you don't know the answer, just say that you don't know. \"\n",
    "    \"Use three sentences maximum and keep the answer concise.\\n\"\n",
    "    \"Question: {question} \\n\"\n",
    "    \"Context: {context}\"\n",
    ")\n",
    "\n",
    "\n",
    "def generate_answer(state: MessagesState):\n",
    "    \"\"\"Generate an answer.\"\"\"\n",
    "    question = state[\"messages\"][0].content\n",
    "    context = state[\"messages\"][-1].content\n",
    "    prompt = GENERATE_PROMPT.format(question=question, context=context)\n",
    "    response = response_model.invoke([{\"role\": \"user\", \"content\": prompt}])\n",
    "    return {\"messages\": [response]}"
   ]
  },
  {
   "cell_type": "code",
   "execution_count": 29,
   "metadata": {},
   "outputs": [
    {
     "name": "stdout",
     "output_type": "stream",
     "text": [
      "==================================\u001b[1m Ai Message \u001b[0m==================================\n",
      "\n",
      "더불어민주당은 산업단지 복귀 기업 증가에 따른 고용 확대 및 지역경제 활성화를 통해 장기적인 세수 확보를 목표로 합니다. 다른 구체적인 경제 정책에 대한 정보는 제공된 문맥에서 찾을 수 없습니다.\n"
     ]
    }
   ],
   "source": [
    "from langchain_core.messages import convert_to_messages\n",
    "\n",
    "input = {\n",
    "    \"messages\": convert_to_messages(\n",
    "        [\n",
    "            {\n",
    "                \"role\": \"user\",\n",
    "                \"content\": \"더불어 민주당의 경제 정책에 뭐가 있는지 찾아줘\",\n",
    "            },\n",
    "            {\n",
    "                \"role\": \"assistant\",\n",
    "                \"content\": \"\",\n",
    "                \"tool_calls\": [\n",
    "                    {\n",
    "                        \"id\": \"1\",\n",
    "                        \"name\": \"policy_search\",\n",
    "                        \"args\": {\"query\": \"더불어 민주당 경제 정책\"},\n",
    "                    }\n",
    "                ],\n",
    "            },\n",
    "            {\"role\": \"tool\", \"content\": \"\"\"\n",
    "더불어 민주당 산업단지 복귀 기업 증가에 따른 고용 확대 및 지역경제 활성화를 통해 \n",
    "장기적인 세수 확보 가능        \n",
    "            \"\"\", \"tool_call_id\": \"1\"},\n",
    "        ]\n",
    "    )\n",
    "}\n",
    "response = generate_answer(input)\n",
    "response[\"messages\"][-1].pretty_print()"
   ]
  },
  {
   "cell_type": "code",
   "execution_count": 30,
   "metadata": {},
   "outputs": [],
   "source": [
    "from langgraph.graph import StateGraph, START, END\n",
    "from langgraph.prebuilt import ToolNode\n",
    "from langgraph.prebuilt import tools_condition\n",
    "\n",
    "workflow = StateGraph(MessagesState)\n",
    "\n",
    "# Define the nodes we will cycle between\n",
    "workflow.add_node(generate_query_or_respond)\n",
    "workflow.add_node(\"retrieve\", ToolNode([retriever_tool]))\n",
    "workflow.add_node(rewrite_question)\n",
    "workflow.add_node(generate_answer)\n",
    "\n",
    "workflow.add_edge(START, \"generate_query_or_respond\")\n",
    "\n",
    "# Decide whether to retrieve\n",
    "workflow.add_conditional_edges(\n",
    "    \"generate_query_or_respond\",\n",
    "    # Assess LLM decision (call `retriever_tool` tool or respond to the user)\n",
    "    tools_condition,\n",
    "    {\n",
    "        # Translate the condition outputs to nodes in our graph\n",
    "        \"tools\": \"retrieve\",\n",
    "        END: END,\n",
    "    },\n",
    ")\n",
    "\n",
    "# Edges taken after the `action` node is called.\n",
    "workflow.add_conditional_edges(\n",
    "    \"retrieve\",\n",
    "    # Assess agent decision\n",
    "    grade_documents,\n",
    ")\n",
    "workflow.add_edge(\"generate_answer\", END)\n",
    "workflow.add_edge(\"rewrite_question\", \"generate_query_or_respond\")\n",
    "\n",
    "# Compile\n",
    "graph = workflow.compile()"
   ]
  },
  {
   "cell_type": "code",
   "execution_count": 31,
   "metadata": {},
   "outputs": [
    {
     "data": {
      "image/png": "[encoded data removed]",
      "text/plain": [
       "<IPython.core.display.Image object>"
      ]
     },
     "metadata": {},
     "output_type": "display_data"
    }
   ],
   "source": [
    "from IPython.display import Image, display\n",
    "\n",
    "display(Image(graph.get_graph().draw_mermaid_png()))"
   ]
  },
  {
   "cell_type": "code",
   "execution_count": 33,
   "metadata": {},
   "outputs": [
    {
     "name": "stdout",
     "output_type": "stream",
     "text": [
      "Update from node generate_query_or_respond\n",
      "==================================\u001b[1m Ai Message \u001b[0m==================================\n",
      "Tool Calls:\n",
      "  policy_search (221450e8-a0c9-4d84-af43-d9ef6771afb1)\n",
      " Call ID: 221450e8-a0c9-4d84-af43-d9ef6771afb1\n",
      "  Args:\n",
      "    query: 더불어 민주당 AI 정책\n",
      "\n",
      "\n",
      "\n",
      "Update from node retrieve\n",
      "=================================\u001b[1m Tool Message \u001b[0m=================================\n",
      "Name: policy_search\n",
      "\n",
      "□재원조달방안 등\n",
      "○정부재정 지출구조 조정분, 2025~2030 연간 총수입증가분(전망) 등으로 충당\n",
      "\n",
      "□이행방법\n",
      "○인공지능 대전환(AX)을 통해 AI 3강으로 도약\n",
      "- AI 예산 비중 선진국 수준 이상 증액과 민간 투자 100조원 시대 개막\n",
      "- AI 데이터센터 건설을 통한 ‘AI 고속도로’ 구축 및 국가 혁신거점 육성\n",
      "- 고성능 GPU 5만개 이상 확보와 국가 AI데이터 집적 클러스터 조성\n",
      "\n",
      "- 고성능 GPU 5만개 이상 확보와 국가 AI데이터 집적 클러스터 조성 \n",
      "- ‘모두의 AI’ 프로젝트 추진 및 규제 특례를 통한 AI 융복합 산업 활성화\n",
      "- AI 시대를 주도할 미래인재 양성 교육 강화\n",
      "○대한민국의 미래성장을 위한 글로벌 소프트파워 Big5 문화강국을 실현\n",
      "\n",
      "- 교통물류환경종사자 근로여건 개선방안 마련\n",
      "- 생활물류, 고속철도, 항공 등 국민편익 향상 방안 마련\n",
      "○청년·근로자 천원의 아침밥 및 농식품바우처 확대 등 먹거리 돌봄 강화\n",
      "○사람과 동물이 더불어 행복한 사회 조성\n",
      "- 반려동물 양육비 부담 완화 및 의료 서비스 강화\n",
      "\n",
      "- 청년 맞춤형 공공분양 및 월세지원 확대 등 청년 주거지원 강화\n",
      "- 국민연금 군복무 크레딧 확대 등 청년생활안전망 구축\n",
      "- 글로벌 기업이 운영 중인 ‘채용연계형 직업교육 프로그램’ 확산·지원\n",
      "○1인가구·청년을 위한 정책 확대\n",
      "\n",
      "○1인가구·청년을 위한 정책 확대\n",
      "- 직장과 주거시설이 근접한 주거복합플랫폼주택 조성 및 맞춤형 주거설계지원 사업 추진\n",
      "○한부모가족의 복지급여 확대 등 안정적인 생활환경 지원 강화\n",
      "○서민들의 편의를 위한 교통물류 환경 개선\n",
      "- 교통물류환경종사자 근로여건 개선방안 마련\n",
      "\n",
      "○지속 가능한 노후 소득 보장 체계 구축\n",
      "- 국민연금 수급 연령에 맞춘 정년 연장, 사회적 합의를 통해 단계적 추진\n",
      "- 주택연금 제도개선 등을 통해 노후 소득 보장을 위한 지원강화\n",
      "\n",
      "○민생・인권친화적 제도 개선\n",
      "- 국선변호인 조력 범위의 단계적 확대\n",
      "- 한국형 디스커버리제도(증거개시제도) 도입, 피해자 진술권 강화 등 사법절차 공정성 \n",
      "확대\n",
      "○변호사의 공공성 강화\n",
      "- 별도 위원회에 변호사 징계권한 부여 및 변호사 비밀유지권 법제화\n",
      "\n",
      "\n",
      "\n",
      "Update from node generate_answer\n",
      "==================================\u001b[1m Ai Message \u001b[0m==================================\n",
      "\n",
      "더불어민주당은 인공지능 대전환(AX)을 통해 AI 3강으로 도약하는 것을 목표로 하고 있습니다. 이를 위해 AI 예산 비중을 선진국 수준 이상으로 증액하고 민간 투자 100조원 시대를 열며, AI 데이터센터 건설을 통한 'AI 고속도로' 구축 및 국가 혁신거점 육성을 추진할 계획입니다. 또한 고성능 GPU 5만개 이상 확보와 국가 AI데이터 집적 클러스터 조성, '모두의 AI' 프로젝트 추진 및 규제 특례를 통한 AI 융복합 산업 활성화, AI 시대를 주도할 미래인재 양성 교육 강화 등을 주요 정책으로 추진할 예정입니다.\n",
      "\n",
      "\n",
      "\n"
     ]
    }
   ],
   "source": [
    "from typing import Dict\n",
    "\n",
    "for chunk in graph.stream(\n",
    "    {\n",
    "        \"messages\": [\n",
    "            {\n",
    "                \"role\": \"user\",\n",
    "                \"content\": \"더불어 민주당의 주요 AI 정책이 뭔지 설명해줘\",\n",
    "            }\n",
    "        ]\n",
    "    }\n",
    "):\n",
    "    for node, update in chunk.items():\n",
    "        print(\"Update from node\", node)\n",
    "        if isinstance(update[\"messages\"][-1], Dict):\n",
    "            print(update[\"messages\"][-1]['content'])\n",
    "        else:\n",
    "            update[\"messages\"][-1].pretty_print()\n",
    "        print(\"\\n\\n\")"
   ]
  },
  {
   "cell_type": "code",
   "execution_count": null,
   "metadata": {},
   "outputs": [],
   "source": []
  }
 ],
 "metadata": {
  "kernelspec": {
   "display_name": ".venv",
   "language": "python",
   "name": "python3"
  },
  "language_info": {
   "codemirror_mode": {
    "name": "ipython",
    "version": 3
   },
   "file_extension": ".py",
   "mimetype": "text/x-python",
   "name": "python",
   "nbconvert_exporter": "python",
   "pygments_lexer": "ipython3",
   "version": "3.12.4"
  }
 },
 "nbformat": 4,
 "nbformat_minor": 2
}
