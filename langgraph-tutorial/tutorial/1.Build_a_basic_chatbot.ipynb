{
 "cells": [
  {
   "cell_type": "code",
   "execution_count": 25,
   "metadata": {},
   "outputs": [],
   "source": [
    "from typing import Annotated\n",
    "\n",
    "from typing_extensions import TypedDict\n",
    "\n",
    "from langgraph.graph import StateGraph, START\n",
    "from langgraph.graph.message import add_messages"
   ]
  },
  {
   "cell_type": "code",
   "execution_count": 40,
   "metadata": {},
   "outputs": [],
   "source": [
    "class State(TypedDict):\n",
    "    # Messages have the type \"list\". The 'add_messages\" function\n",
    "    # in the annotation defines how this state key should be update\n",
    "    # (in this case, it appends messages to the list, rather than overwriting them)\n",
    "    messages : Annotated[list, add_messages]\n",
    "\n",
    "graph_builder = StateGraph(State)"
   ]
  },
  {
   "cell_type": "code",
   "execution_count": 41,
   "metadata": {},
   "outputs": [],
   "source": [
    "import os\n",
    "from langchain.chat_models import init_chat_model\n",
    "\n",
    "gemini_model = 'google_genai:gemini-2.0-flash'\n",
    "llm = init_chat_model(\n",
    "    model = gemini_model\n",
    ")"
   ]
  },
  {
   "cell_type": "code",
   "execution_count": 42,
   "metadata": {},
   "outputs": [
    {
     "data": {
      "text/plain": [
       "<langgraph.graph.state.StateGraph at 0x184953f56d0>"
      ]
     },
     "execution_count": 42,
     "metadata": {},
     "output_type": "execute_result"
    }
   ],
   "source": [
    "def chatbot(state:State):\n",
    "    return {'messages': [llm.invoke(state['messages'])]}\n",
    "\n",
    "# The first argument is the unique node name \n",
    "# The second argument is the funciton or object that will be called whenever\n",
    "# the node is used\n",
    "\n",
    "graph_builder.add_node('chatbot', chatbot)"
   ]
  },
  {
   "cell_type": "code",
   "execution_count": 43,
   "metadata": {},
   "outputs": [
    {
     "data": {
      "text/plain": [
       "<langgraph.graph.state.StateGraph at 0x184953f56d0>"
      ]
     },
     "execution_count": 43,
     "metadata": {},
     "output_type": "execute_result"
    }
   ],
   "source": [
    "graph_builder.add_edge(START, \"chatbot\")"
   ]
  },
  {
   "cell_type": "code",
   "execution_count": 44,
   "metadata": {},
   "outputs": [],
   "source": [
    "graph = graph_builder.compile()"
   ]
  },
  {
   "cell_type": "code",
   "execution_count": 45,
   "metadata": {},
   "outputs": [
    {
     "data": {
      "image/png": "[encoded data removed]",
      "text/plain": [
       "<IPython.core.display.Image object>"
      ]
     },
     "metadata": {},
     "output_type": "display_data"
    }
   ],
   "source": [
    "from IPython.display import Image, display\n",
    "\n",
    "try:\n",
    "    display(Image(graph.get_graph().draw_mermaid_png()))\n",
    "except Exception:\n",
    "    # this requires some extra dependencies and is optional\n",
    "    pass\n"
   ]
  },
  {
   "cell_type": "code",
   "execution_count": 47,
   "metadata": {},
   "outputs": [
    {
     "name": "stdout",
     "output_type": "stream",
     "text": [
      "Assistant: I am a large language model, trained by Google.\n",
      "Assistant: I am a large language model, trained by Google. I was trained on a massive dataset of text and code. My training was completed in **2022**.\n",
      "Assistant: Okay, let's delve into the multifaceted world of Google! Here's a breakdown of what Google is, its history, its products, its impact, and some of the controversies surrounding it.\n",
      "\n",
      "**What is Google?**\n",
      "\n",
      "At its core, Google is a multinational technology company that focuses on:\n",
      "\n",
      "*   **Search:**  It's most famous for its search engine, Google Search, which is the most widely used web-based search engine in the world.\n",
      "*   **Online Advertising:**  Google makes the vast majority of its revenue through advertising, primarily through its Google Ads platform.\n",
      "*   **Cloud Computing:** Google Cloud Platform (GCP) provides a suite of cloud computing services, competing with Amazon Web Services (AWS) and Microsoft Azure.\n",
      "*   **Software:** Google develops and provides a wide range of software products, including the Android operating system, the Chrome web browser, and productivity tools like Google Docs, Sheets, and Slides.\n",
      "*   **Hardware:** Google designs and sells hardware products, such as Pixel phones, Nest smart home devices, and Chromecast streaming devices.\n",
      "*   **Artificial Intelligence:** Google is a leader in AI research and development, integrating AI into many of its products and services.\n",
      "\n",
      "**A Brief History:**\n",
      "\n",
      "*   **1996:** Larry Page and Sergey Brin, PhD students at Stanford University, begin working on a search engine called \"BackRub.\"\n",
      "*   **1997:** BackRub is renamed \"Google,\" a play on the word \"googol\" (1 followed by 100 zeros), reflecting the company's mission to organize the vast amount of information on the web.\n",
      "*   **1998:** Google is officially incorporated.\n",
      "*   **2000:** Google launches AdWords (now Google Ads), its advertising program.\n",
      "*   **2004:** Google launches Gmail and goes public with its initial public offering (IPO).\n",
      "*   **2005:** Google Maps is launched.\n",
      "*   **2006:** Google acquires YouTube.\n",
      "*   **2008:** Google launches the Chrome web browser.\n",
      "*   **2008:** Android is released.\n",
      "*   **2015:** Google reorganizes under a new parent company called Alphabet Inc. Google becomes a subsidiary of Alphabet. Sundar Pichai becomes the CEO of Google.\n",
      "\n",
      "**Key Products and Services:**\n",
      "\n",
      "Here's a list of some of Google's most popular products and services:\n",
      "\n",
      "*   **Google Search:** The dominant web search engine.\n",
      "*   **Google Ads:** Online advertising platform.\n",
      "*   **Android:** Mobile operating system.\n",
      "*   **YouTube:** Video-sharing platform.\n",
      "*   **Gmail:** Email service.\n",
      "*   **Google Maps:** Mapping and navigation service.\n",
      "*   **Google Chrome:** Web browser.\n",
      "*   **Google Drive:** Cloud storage service.\n",
      "*   **Google Docs, Sheets, Slides:** Productivity suite (similar to Microsoft Office).\n",
      "*   **Google Photos:** Photo storage and management service.\n",
      "*   **Google Calendar:** Time-management and scheduling calendar service.\n",
      "*   **Google Meet:** Video conferencing service.\n",
      "*   **Google Translate:** Language translation service.\n",
      "*   **Google News:** News aggregator.\n",
      "*   **Google Play Store:** App store for Android devices.\n",
      "*   **Google Cloud Platform (GCP):** Cloud computing services.\n",
      "*   **Google Pixel:** Smartphones designed and sold by Google.\n",
      "*   **Nest:** Smart home devices (thermostats, cameras, etc.).\n",
      "*   **Chromecast:** Streaming media adapter.\n",
      "*   **Waymo:** Autonomous driving technology.\n",
      "*   **Google AI:** Research and development in artificial intelligence.\n",
      "\n",
      "**Impact of Google:**\n",
      "\n",
      "Google has had a profound impact on society, transforming how we:\n",
      "\n",
      "*   **Access Information:** Google Search has made information readily available to billions of people.\n",
      "*   **Communicate:** Gmail, Google Meet, and other communication tools have revolutionized how we connect with each other.\n",
      "*   **Navigate the World:** Google Maps has made it easier to find our way around.\n",
      "*   **Consume Entertainment:** YouTube has become a major source of entertainment and information.\n",
      "*   **Work and Collaborate:** Google's productivity tools have changed how we work and collaborate.\n",
      "*   **Develop Technology:** Android is the most popular mobile operating system in the world. Google's AI research is pushing the boundaries of what's possible.\n",
      "*   **Advertising:** Google has transformed the advertising landscape, making it more data-driven and targeted.\n",
      "\n",
      "**Controversies and Criticisms:**\n",
      "\n",
      "Despite its many benefits, Google has also faced significant criticism and controversy:\n",
      "\n",
      "*   **Privacy Concerns:** Google collects vast amounts of data about its users, raising concerns about privacy.\n",
      "*   **Antitrust Issues:** Google's dominance in search and advertising has led to antitrust investigations and lawsuits.\n",
      "*   **Data Security:** Google has been the target of data breaches and security incidents.\n",
      "*   **Censorship:** Google has been accused of censoring content in some countries to comply with local laws.\n",
      "*   **Bias in Search Results:** Critics have argued that Google's search results can be biased.\n",
      "*   **Tax Avoidance:** Google has been criticized for using complex tax strategies to minimize its tax liability.\n",
      "*   **Labor Practices:** Google has faced criticism over its treatment of contract workers and its handling of employee activism.\n",
      "*   **AI Ethics:** As Google develops more powerful AI technologies, there are growing concerns about the ethical implications of AI.\n",
      "\n",
      "**In Summary:**\n",
      "\n",
      "Google is a powerful and influential company that has transformed the world in many ways. It provides essential services that billions of people rely on every day. However, it also faces significant challenges and criticisms related to privacy, antitrust, and ethics. Its future will depend on how it addresses these challenges and navigates the evolving technological landscape.\n",
      "Goodbye!\n"
     ]
    }
   ],
   "source": [
    "def stream_graph_updates(user_input: str):\n",
    "    for event in graph.stream({\"messages\": [{\"role\": \"user\", \"content\": user_input}]}):\n",
    "        for value in event.values():\n",
    "            print(\"Assistant:\", value[\"messages\"][-1].content)\n",
    "\n",
    "\n",
    "while True:\n",
    "    try:\n",
    "        user_input = input(\"User: \")\n",
    "        if user_input.lower() in [\"quit\", \"exit\", \"q\"]:\n",
    "            print(\"Goodbye!\")\n",
    "            break\n",
    "        stream_graph_updates(user_input)\n",
    "    except:\n",
    "        # fallback if input() is not available\n",
    "        user_input = \"What do you know about LangGraph?\"\n",
    "        print(\"User: \" + user_input)\n",
    "        stream_graph_updates(user_input)\n",
    "        break"
   ]
  },
  {
   "cell_type": "code",
   "execution_count": null,
   "metadata": {},
   "outputs": [],
   "source": []
  }
 ],
 "metadata": {
  "kernelspec": {
   "display_name": ".venv",
   "language": "python",
   "name": "python3"
  },
  "language_info": {
   "codemirror_mode": {
    "name": "ipython",
    "version": 3
   },
   "file_extension": ".py",
   "mimetype": "text/x-python",
   "name": "python",
   "nbconvert_exporter": "python",
   "pygments_lexer": "ipython3",
   "version": "3.12.4"
  }
 },
 "nbformat": 4,
 "nbformat_minor": 2
}
