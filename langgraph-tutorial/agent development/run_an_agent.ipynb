{
 "cells": [
  {
   "cell_type": "code",
   "execution_count": 18,
   "id": "371d938f",
   "metadata": {},
   "outputs": [],
   "source": [
    "from langgraph.errors import GraphRecursionError\n",
    "from langgraph.prebuilt import create_react_agent\n",
    "\n",
    "def get_weather(city:str):\n",
    "    \"\"\"Get the weather information of the city\"\"\"\n",
    "    return f\"The weather in {city} is sunny and 25 celsius\"\n",
    "\n",
    "max_iterations = 3\n",
    "recursion_limit = 2 * max_iterations + 1\n",
    "agent = create_react_agent(\n",
    "    model=\"google_genai:gemini-2.0-flash\",\n",
    "    tools=[get_weather]\n",
    ")\n",
    "\n",
    "try:\n",
    "    response = agent.invoke(\n",
    "        {\"messages\": [{\"role\": \"user\", \"content\": \"what's the weather in san francisco and recommend me the outfit.\"}]},\n",
    "        {\"recursion_limit\": recursion_limit},\n",
    "    )\n",
    "except GraphRecursionError:\n",
    "    print(\"Agent stopped due to max iterations.\")"
   ]
  },
  {
   "cell_type": "code",
   "execution_count": 19,
   "id": "16b3413c",
   "metadata": {},
   "outputs": [
    {
     "name": "stdout",
     "output_type": "stream",
     "text": [
      "================================\u001b[1m Human Message \u001b[0m=================================\n",
      "\n",
      "what's the weather in san francisco and recommend me the outfit.\n",
      "==================================\u001b[1m Ai Message \u001b[0m==================================\n",
      "Tool Calls:\n",
      "  get_weather (1e53dd9e-de8d-4a77-838e-08272bed051e)\n",
      " Call ID: 1e53dd9e-de8d-4a77-838e-08272bed051e\n",
      "  Args:\n",
      "    city: san francisco\n",
      "=================================\u001b[1m Tool Message \u001b[0m=================================\n",
      "Name: get_weather\n",
      "\n",
      "The weather in san francisco is sunny and 25 celsius\n",
      "==================================\u001b[1m Ai Message \u001b[0m==================================\n",
      "\n",
      "The weather in San Francisco is sunny and 25 degrees Celsius. I recommend wearing light and breathable clothing, such as a t-shirt, shorts, and sunglasses. You might also want to bring a light jacket or sweater, as it can get cool in the evenings.\n"
     ]
    }
   ],
   "source": [
    "for message in response.get('messages'):\n",
    "    message.pretty_print()"
   ]
  },
  {
   "cell_type": "code",
   "execution_count": null,
   "id": "8da7eaa4",
   "metadata": {},
   "outputs": [],
   "source": []
  }
 ],
 "metadata": {
  "kernelspec": {
   "display_name": "langgraph",
   "language": "python",
   "name": "python3"
  },
  "language_info": {
   "codemirror_mode": {
    "name": "ipython",
    "version": 3
   },
   "file_extension": ".py",
   "mimetype": "text/x-python",
   "name": "python",
   "nbconvert_exporter": "python",
   "pygments_lexer": "ipython3",
   "version": "3.12.4"
  }
 },
 "nbformat": 4,
 "nbformat_minor": 5
}
