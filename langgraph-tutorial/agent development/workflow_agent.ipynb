{
 "cells": [
  {
   "cell_type": "code",
   "execution_count": 2,
   "metadata": {},
   "outputs": [
    {
     "name": "stderr",
     "output_type": "stream",
     "text": [
      "c:\\Users\\LeeSeungYong\\myproject\\ai-agent\\langgraph-tutorial\\langgraph\\Lib\\site-packages\\tqdm\\auto.py:21: TqdmWarning: IProgress not found. Please update jupyter and ipywidgets. See https://ipywidgets.readthedocs.io/en/stable/user_install.html\n",
      "  from .autonotebook import tqdm as notebook_tqdm\n"
     ]
    }
   ],
   "source": [
    "import os\n",
    "import google.generativeai as genai\n",
    "from dotenv import load_dotenv\n",
    "\n",
    "load_dotenv()\n",
    "\n",
    "genai.configure(api_key = os.environ['GOOGLE_API_KEY'])\n",
    "\n",
    "llm = genai.GenerativeModel(\n",
    "    model_name='gemini-2.0-flash',\n",
    "    )"
   ]
  },
  {
   "cell_type": "code",
   "execution_count": 3,
   "metadata": {},
   "outputs": [],
   "source": [
    "res = llm.generate_content('What is the capital of France? and tell me the population and population ratio of the capital')"
   ]
  },
  {
   "cell_type": "code",
   "execution_count": 4,
   "metadata": {},
   "outputs": [
    {
     "data": {
      "text/markdown": [
       "The capital of France is **Paris**.\n",
       "\n",
       "Here's some information on Paris's population:\n",
       "\n",
       "*   **Population (City of Paris, 2023 estimate):** Approximately 2.1 million\n",
       "\n",
       "*   **Population (Greater Paris Metropolitan Area, 2023 estimate):** Approximately 12.3 million\n",
       "\n",
       "*   **Population Ratio:** It's tricky to give a single \"population ratio\" without specifying what it's relative to.\n",
       "\n",
       "    *   **Ratio of Paris to France:** The population of the city of Paris is roughly 3% of the total population of France (around 68 million). The population of the Greater Paris area is roughly 18% of the total population of France."
      ],
      "text/plain": [
       "<IPython.core.display.Markdown object>"
      ]
     },
     "metadata": {},
     "output_type": "display_data"
    }
   ],
   "source": [
    "from IPython.display import Image, display, Markdown\n",
    "display(Markdown(res.text))"
   ]
  },
  {
   "cell_type": "code",
   "execution_count": 5,
   "metadata": {},
   "outputs": [],
   "source": [
    "from pydantic import BaseModel, Field\n",
    "from langchain_google_genai import GoogleGenerativeAI\n",
    "from langchain_google_genai.chat_models import ChatGoogleGenerativeAI\n",
    "\n",
    "llm = ChatGoogleGenerativeAI(\n",
    "    model=\"gemini-2.0-flash\",\n",
    "    api_key=os.environ[\"GOOGLE_API_KEY\"],\n",
    "    max_output_tokens=1000,\n",
    "    temperature=1,\n",
    "    max_retries=3,\n",
    "    timeout=10,\n",
    "    verbose=True,\n",
    "    )\n",
    "\n",
    "class SearchQuery(BaseModel):\n",
    "    search_query : str = Field(\n",
    "        None, \n",
    "        description = \"Query that is optimized web search.\"\n",
    "    )\n",
    "    justification : str = Field(\n",
    "        None, description=\"Why this query is relevant to the user's request.\"\n",
    "    )"
   ]
  },
  {
   "cell_type": "code",
   "execution_count": 6,
   "metadata": {},
   "outputs": [
    {
     "data": {
      "text/plain": [
       "[{'name': 'multiply',\n",
       "  'args': {'a': 2.0, 'b': 3.0},\n",
       "  'id': '78ab91e0-a41f-4b21-af73-23a8c278248b',\n",
       "  'type': 'tool_call'}]"
      ]
     },
     "execution_count": 6,
     "metadata": {},
     "output_type": "execute_result"
    }
   ],
   "source": [
    "structured_llm = llm.with_structured_output(SearchQuery)\n",
    "\n",
    "output = structured_llm.invoke(\"How does Calcium CT score relate to high cholesterol?\")\n",
    "\n",
    "def multiply(a:int, b:int) -> int:\n",
    "    return a * b\n",
    "\n",
    "llm_with_tools = llm.bind_tools([multiply])\n",
    "\n",
    "msg = llm_with_tools.invoke(\"What is 2 times 3?\")\n",
    "\n",
    "msg.tool_calls"
   ]
  },
  {
   "cell_type": "code",
   "execution_count": 7,
   "metadata": {},
   "outputs": [
    {
     "data": {
      "text/plain": [
       "'\"{\\\\\"search_query\\\\\":\\\\\"Calcium CT score and high cholesterol\\\\\",\\\\\"justification\\\\\":\\\\\"To find the relationship between Calcium CT score and high cholesterol.\\\\\"}\"'"
      ]
     },
     "execution_count": 7,
     "metadata": {},
     "output_type": "execute_result"
    }
   ],
   "source": [
    "import json\n",
    "\n",
    "json.dumps(\n",
    "    output.model_dump_json(),\n",
    "    indent=2,\n",
    "    ensure_ascii=False\n",
    "    )"
   ]
  },
  {
   "cell_type": "code",
   "execution_count": 8,
   "metadata": {},
   "outputs": [],
   "source": [
    "from typing_extensions import TypedDict\n",
    "from langgraph.graph import StateGraph, START, END\n",
    "from IPython.display import Image, display\n",
    "\n",
    "# Graph state\n",
    "class State(TypedDict):\n",
    "    topic: str\n",
    "    joke: str\n",
    "    improved_joke: str\n",
    "    final_joke: str\n",
    "\n",
    "\n",
    "# Nodes\n",
    "def generate_joke(state: State):\n",
    "    \"\"\"First LLM call to generate initial joke\"\"\"\n",
    "\n",
    "    msg = llm.invoke(f\"Write a short joke about {state['topic']}\")\n",
    "    return {\"joke\": msg.content}\n",
    "\n",
    "\n",
    "def check_punchline(state: State):\n",
    "    \"\"\"Gate function to check if the joke has a punchline\"\"\"\n",
    "\n",
    "    # Simple check - does the joke contain \"?\" or \"!\"\n",
    "    if \"?\" in state[\"joke\"] or \"!\" in state[\"joke\"]:\n",
    "        return \"Fail\"\n",
    "    return \"Pass\"\n",
    "\n",
    "\n",
    "def improve_joke(state: State):\n",
    "    \"\"\"Second LLM call to improve the joke\"\"\"\n",
    "\n",
    "    msg = llm.invoke(f\"Make this joke funnier by adding wordplay: {state['joke']}\")\n",
    "    return {\"improved_joke\": msg.content}\n",
    "\n",
    "\n",
    "def polish_joke(state: State):\n",
    "    \"\"\"Third LLM call for final polish\"\"\"\n",
    "\n",
    "    msg = llm.invoke(f\"Add a surprising twist to this joke: {state['improved_joke']}\")\n",
    "    return {\"final_joke\": msg.content}\n",
    "\n",
    "\n",
    "workflow = StateGraph(State)\n",
    "\n",
    "workflow.add_node('generate_joke', generate_joke)\n",
    "workflow.add_node('improve_joke', improve_joke)\n",
    "workflow.add_node('polish_joke', polish_joke)\n",
    "\n",
    "workflow.add_edge(START, \"generate_joke\")\n",
    "workflow.add_conditional_edges(\n",
    "    \"generate_joke\",\n",
    "    check_punchline,\n",
    "    {\"Fail\" : \"improve_joke\", \"Pass\" : END}\n",
    ")\n",
    "workflow.add_edge('improve_joke', 'polish_joke')\n",
    "workflow.add_edge('polish_joke', END)\n",
    "\n",
    "chain = workflow.compile()"
   ]
  },
  {
   "cell_type": "code",
   "execution_count": 9,
   "metadata": {},
   "outputs": [
    {
     "data": {
      "image/png": "[encoded data removed]",
      "text/plain": [
       "<IPython.core.display.Image object>"
      ]
     },
     "execution_count": 9,
     "metadata": {},
     "output_type": "execute_result"
    }
   ],
   "source": [
    "Image(chain.get_graph().draw_mermaid_png())"
   ]
  },
  {
   "cell_type": "code",
   "execution_count": 10,
   "metadata": {},
   "outputs": [
    {
     "name": "stdout",
     "output_type": "stream",
     "text": [
      "Initial Joke:\n",
      "Why did the cat join the Red Cross?\n",
      "\n",
      "Because it wanted to be a first aid kit! \n",
      "\n",
      "--- --- ---\n",
      "\n",
      "Improved Joke:\n",
      "Okay, here are a few options that add wordplay and try to make it funnier:\n",
      "\n",
      "**Option 1 (Playing on \"Claws\"):**\n",
      "\n",
      "> Why did the cat join the Red Cross?\n",
      ">\n",
      "> Because it wanted to use its *claws* to offer a *paw-some* first aid service! It heard they were feline good about helping people, and it wanted to get in on the act!\n",
      "\n",
      "**Option 2 (Playing on \"Purr-amedic\"):**\n",
      "\n",
      "> Why did the cat join the Red Cross?\n",
      ">\n",
      "> It wanted to become a *purr-amedic*! It was hoping to claw its way to the top of the medical field!\n",
      "\n",
      "**Option 3 (A bit more absurd):**\n",
      "\n",
      "> Why did the cat join the Red Cross?\n",
      ">\n",
      "> Because it was tired of just *kitten* around and wanted to make a *claw-some* contribution to emergency services!  It even promised not to *hiss*terically when things got tough!\n",
      "\n",
      "**Option 4 (More pun-heavy):**\n",
      "\n",
      "> Why did the cat join the Red Cross?\n",
      ">\n",
      "> It wanted to *paw-ticipate* in saving lives! It heard they needed someone with *purr-fect* bedside manner to become a *fur-st* responder. It was tired of just *cat*napping and wanted a real purpose!\n",
      "\n",
      "The best option depends on your personal humor style! I tried to vary the density of puns. Good luck!\n",
      "\n",
      "--- --- ---\n",
      "\n",
      "Final Joke:\n",
      "Okay, I like Option 4 the best for its density of puns, but let's add a twist!\n",
      "\n",
      "**Option 4 with a Twist:**\n",
      "\n",
      "> Why did the cat join the Red Cross?\n",
      ">\n",
      "> It wanted to *paw-ticipate* in saving lives! It heard they needed someone with *purr-fect* bedside manner to become a *fur-st* responder. It was tired of just *cat*napping and wanted a real purpose! **But then it got assigned to the blood drive. Turns out, it wasn't so good at resisting temptation after all!**\n"
     ]
    }
   ],
   "source": [
    "state = chain.invoke({\n",
    "    'topic' : 'cats'\n",
    "})\n",
    "\n",
    "print('Initial Joke:')\n",
    "print(state['joke'])\n",
    "print('\\n--- --- ---\\n')\n",
    "if \"improved_joke\" in state:\n",
    "    print(\"Improved Joke:\")\n",
    "    print(state['improved_joke'])\n",
    "    print('\\n--- --- ---\\n')\n",
    "\n",
    "    print('Final Joke:')\n",
    "    print(state['final_joke'])\n",
    "\n",
    "else:\n",
    "    print('Joke failed quality gate - no punchline detected!')"
   ]
  },
  {
   "cell_type": "code",
   "execution_count": 11,
   "metadata": {},
   "outputs": [
    {
     "data": {
      "text/plain": [
       "{'topic': 'cats',\n",
       " 'joke': 'Why did the cat join the Red Cross?\\n\\nBecause it wanted to be a first aid kit! ',\n",
       " 'improved_joke': 'Okay, here are a few options that add wordplay and try to make it funnier:\\n\\n**Option 1 (Playing on \"Claws\"):**\\n\\n> Why did the cat join the Red Cross?\\n>\\n> Because it wanted to use its *claws* to offer a *paw-some* first aid service! It heard they were feline good about helping people, and it wanted to get in on the act!\\n\\n**Option 2 (Playing on \"Purr-amedic\"):**\\n\\n> Why did the cat join the Red Cross?\\n>\\n> It wanted to become a *purr-amedic*! It was hoping to claw its way to the top of the medical field!\\n\\n**Option 3 (A bit more absurd):**\\n\\n> Why did the cat join the Red Cross?\\n>\\n> Because it was tired of just *kitten* around and wanted to make a *claw-some* contribution to emergency services!  It even promised not to *hiss*terically when things got tough!\\n\\n**Option 4 (More pun-heavy):**\\n\\n> Why did the cat join the Red Cross?\\n>\\n> It wanted to *paw-ticipate* in saving lives! It heard they needed someone with *purr-fect* bedside manner to become a *fur-st* responder. It was tired of just *cat*napping and wanted a real purpose!\\n\\nThe best option depends on your personal humor style! I tried to vary the density of puns. Good luck!',\n",
       " 'final_joke': \"Okay, I like Option 4 the best for its density of puns, but let's add a twist!\\n\\n**Option 4 with a Twist:**\\n\\n> Why did the cat join the Red Cross?\\n>\\n> It wanted to *paw-ticipate* in saving lives! It heard they needed someone with *purr-fect* bedside manner to become a *fur-st* responder. It was tired of just *cat*napping and wanted a real purpose! **But then it got assigned to the blood drive. Turns out, it wasn't so good at resisting temptation after all!**\"}"
      ]
     },
     "execution_count": 11,
     "metadata": {},
     "output_type": "execute_result"
    }
   ],
   "source": [
    "state"
   ]
  },
  {
   "cell_type": "markdown",
   "metadata": {},
   "source": [
    "## Parallelization"
   ]
  },
  {
   "cell_type": "code",
   "execution_count": 12,
   "metadata": {},
   "outputs": [],
   "source": [
    "class State(TypedDict):\n",
    "    topic : str\n",
    "    joke : str \n",
    "    story : str \n",
    "    poem : str \n",
    "    combined_output : str\n",
    "\n",
    "def call_llm_1(state:State):\n",
    "    \"\"\"First LLM call to generate initial joke\"\"\"\n",
    "    msg = llm.invoke(f\"\"\"Write a joke about {state['topic']}\"\"\")\n",
    "    return {'joke' : msg.content}\n",
    "\n",
    "def call_llm_2(state:State):\n",
    "    \"\"\"Second LLM call to generate story\"\"\"\n",
    "\n",
    "    msg = llm.invoke(f\"Write a story about {state['topic']}\")\n",
    "    return {'story' : msg.content}\n",
    "\n",
    "def call_llm_3(state:State):\n",
    "    \"\"\"Third LLM call to generate poem\"\"\"\n",
    "\n",
    "    msg = llm.invoke(f\"Write a poem about {state['topic']}\")\n",
    "    return {'poem' : msg.content}\n",
    "\n",
    "\n",
    "def aggregator(state:State):\n",
    "    \"\"\"Combine the joke and story into a single output\"\"\"\n",
    "\n",
    "    combined = f\"Here's a story, joke and poem about {state['topic']}!\\n\\n\"\n",
    "    combined += f\"STORY:\\n{state['story']}\\n\\n\"\n",
    "    combined += f\"JOKE:\\n{state['joke']}\\n\\n\"\n",
    "    combined += f\"POEM:\\n{state['poem']}\"\n",
    "    return {'combined_output':combined}"
   ]
  },
  {
   "cell_type": "code",
   "execution_count": 13,
   "metadata": {},
   "outputs": [],
   "source": [
    "parallel_builder = StateGraph(State)\n",
    "\n",
    "parallel_builder.add_node(\"call_llm_1\", call_llm_1)\n",
    "parallel_builder.add_node(\"call_llm_2\", call_llm_2)\n",
    "parallel_builder.add_node(\"call_llm_3\", call_llm_3)\n",
    "parallel_builder.add_node(\"aggregator\", aggregator)\n",
    "\n",
    "parallel_builder.add_edge(START, 'call_llm_1')\n",
    "parallel_builder.add_edge(START, 'call_llm_2')\n",
    "parallel_builder.add_edge(START, 'call_llm_3')\n",
    "\n",
    "parallel_builder.add_edge('call_llm_1', \"aggregator\")\n",
    "parallel_builder.add_edge('call_llm_2', \"aggregator\")\n",
    "parallel_builder.add_edge('call_llm_3', \"aggregator\")\n",
    "parallel_builder.add_edge('aggregator', END)\n",
    "\n",
    "parallel_workflow = parallel_builder.compile()"
   ]
  },
  {
   "cell_type": "code",
   "execution_count": 14,
   "metadata": {},
   "outputs": [
    {
     "data": {
      "image/png": "[encoded data removed]",
      "text/plain": [
       "<IPython.core.display.Image object>"
      ]
     },
     "execution_count": 14,
     "metadata": {},
     "output_type": "execute_result"
    }
   ],
   "source": [
    "Image(parallel_workflow.get_graph().draw_mermaid_png())"
   ]
  },
  {
   "cell_type": "code",
   "execution_count": 15,
   "metadata": {},
   "outputs": [
    {
     "name": "stdout",
     "output_type": "stream",
     "text": [
      "Here's a story, joke and poem about cats!\n",
      "\n",
      "STORY:\n",
      "The ginger tom, Marmalade, was the mayor of Sunbeam Alley. Not officially, of course. But everyone knew he ran things. From the prime napping spot on Mrs. Higgins' perpetually warm windowsill to the intricate network of garbage can tipping tactics, Marmalade was the mastermind.\n",
      "\n",
      "He wasn't a bully, mind you. Just…organized. He ensured the black cat, Soot, got the first dibs on the fish scraps Mrs. Higgins always tossed out (Soot was getting old and his eyesight wasn't what it used to be). He personally escorted the shy calico, Patches, across the alley to visit her friend, Whiskers, a fluffy Persian who mostly just complained about her fur getting dirty.\n",
      "\n",
      "Marmalade had a code. Protect the vulnerable. Respect the boundaries. And always, *always*, have a backup plan for a sudden downpour.\n",
      "\n",
      "One day, a newcomer arrived. A sleek, silver cat with eyes like polished emeralds. He called himself Caspian, and he carried himself with an air of effortless superiority that grated on Marmalade's nerves. Caspian immediately began disrupting the delicate balance of Sunbeam Alley. He stole food from Soot, hogged the best sunbathing spots, and even tried to convince Patches that her friendship with Whiskers was \"beneath her.\"\n",
      "\n",
      "The residents of Sunbeam Alley, used to Marmalade's quiet authority, were bewildered. They looked to him for guidance, their tails twitching with uncertainty.\n",
      "\n",
      "Marmalade observed Caspian. He wasn't just arrogant; he was clever. He understood cat psychology, knew how to play on insecurities and manipulate others. A direct confrontation would only escalate things and potentially hurt the other cats.\n",
      "\n",
      "So, Marmalade devised a plan. He watched Caspian, learned his routines, and identified his weakness: a deep-seated fear of water.\n",
      "\n",
      "The next morning, Marmalade gathered the residents of Sunbeam Alley. He didn't tell them his plan, just instructed them to follow his lead. When Caspian strutted out of Mrs. Higgins’ house, expecting his usual prime napping spot, he found it occupied. Not by Marmalade, but by a group of cats, pointedly ignoring him.\n",
      "\n",
      "Caspian, irritated, tried to shove his way in, but the cats held their ground. He started to hiss, but Marmalade simply sauntered over to Mrs. Higgins’ garden hose, which was lying coiled on the ground. He turned on the tap, letting the water gurgle to life.\n",
      "\n",
      "Caspian’s emerald eyes widened. He backed away slowly, his sleek silver fur bristling.\n",
      "\n",
      "Marmalade didn’t spray him. He didn’t even point the hose in his direction. He just let the water run, creating a small, expanding puddle near Caspian’s paws.\n",
      "\n",
      "“We have a…damp problem in Sunbeam Alley,” Marmalade announced, his voice surprisingly calm. “And we need to be mindful of keeping things clean.”\n",
      "\n",
      "The other cats understood. They subtly shifted, directing Caspian further and further away from the sun-drenched windowsill and closer to the ever-growing puddle.\n",
      "\n",
      "Caspian, his pride wounded and his fear bubbling, finally snapped. He hissed one last time and then turned tail, disappearing out of Sunbeam Alley as quickly as his paws could carry him.\n",
      "\n",
      "Silence descended on the alley. The cats looked at Marmalade, their eyes filled with respect. He hadn’t used force, he hadn’t resorted to bullying. He had simply outsmarted the newcomer, protecting the community he cared for.\n",
      "\n",
      "Marmalade purred, a low rumble in his chest. He knew Caspian might return, but he also knew that the residents of Sunbeam Alley were united. They had learned that even the smallest cat could stand up to a bully, as long as they had a little ingenuity and a lot of friends.\n",
      "\n",
      "As the sun warmed his ginger fur, Marmalade hopped onto the now-empty windowsill, ready for his well-deserved nap. The mayor of Sunbeam Alley, once again, was in charge. And everything was right in the world.\n",
      "\n",
      "JOKE:\n",
      "Why did the cat join the Red Cross?\n",
      "\n",
      "Because it wanted to be a first-aid kit! \n",
      "\n",
      "POEM:\n",
      "With eyes like jade, or amber bright,\n",
      "A velvet shadow in the night,\n",
      "The feline spirit, sleek and sly,\n",
      "A whispered purr, a knowing sigh.\n",
      "\n",
      "They stalk the sunbeams, golden threads,\n",
      "And knead soft paws on cozy beds,\n",
      "A subtle grace in every pose,\n",
      "From twitching ear to velvet nose.\n",
      "\n",
      "A hunter's heart, a playful soul,\n",
      "They chase the string, attain their goal,\n",
      "A flash of fur, a silent leap,\n",
      "Then curled up tight in slumber deep.\n",
      "\n",
      "They judge us all with regal air,\n",
      "A flick of tail, a silent prayer,\n",
      "For endless treats and gentle hands,\n",
      "Within their chosen human lands.\n",
      "\n",
      "So let them reign, these furry kings,\n",
      "With rumbling purrs and feathered wings\n",
      "(In dreams, perhaps, they take to flight),\n",
      "These enigmatic cats of night.\n"
     ]
    }
   ],
   "source": [
    "state = parallel_workflow.invoke({'topic':'cats'})\n",
    "print(state['combined_output'])"
   ]
  },
  {
   "cell_type": "markdown",
   "metadata": {},
   "source": [
    "## Orchestrator-Worker"
   ]
  },
  {
   "cell_type": "code",
   "execution_count": 16,
   "metadata": {},
   "outputs": [],
   "source": [
    "from typing import Annotated, List\n",
    "import operator\n",
    "from langchain.schema import SystemMessage, HumanMessage\n",
    "\n",
    "\n",
    "class Section(BaseModel):\n",
    "    name : str = Field(description = 'Name for this sectioni of the report.')\n",
    "    description : str = Field(description='Brief overview of the main topics and concepts to be covered in this section.')\n",
    "\n",
    "class Sections(BaseModel):\n",
    "    sections : List[Section] = Field(description = \"Sections of the report.\")\n",
    "\n",
    "planner = llm.with_structured_output(Sections)"
   ]
  },
  {
   "cell_type": "code",
   "execution_count": 17,
   "metadata": {},
   "outputs": [],
   "source": [
    "from langgraph.types import Send \n",
    "\n",
    "class State(TypedDict):\n",
    "    topic : str \n",
    "    sections : list[Section]\n",
    "    completed_sections : Annotated[list, operator.add]\n",
    "    final_report : str\n",
    "\n",
    "class WorkerState(TypedDict):\n",
    "    section : Section\n",
    "    completed_sections : Annotated[list, operator.add]\n",
    "\n",
    "def orchestrator(state : State):\n",
    "    \"\"\"Orchestrator that generates a plan for the report\"\"\"\n",
    "    report_sections = planner.invoke(\n",
    "        [\n",
    "            SystemMessage(content = 'Generate a plan for the report.'),\n",
    "            HumanMessage(content = f\"Here is the report topic : {state['topic']}\")\n",
    "        ]\n",
    "    )\n",
    "    return {'sections' : report_sections.sections}\n",
    "\n",
    "def llm_call(state: WorkerState):\n",
    "    \"\"\"Worker writes a section of the report\"\"\"\n",
    "    section = llm.invoke(\n",
    "        [\n",
    "            SystemMessage(\n",
    "                content = '''\n",
    "                    Write a report section following the provided name \n",
    "                    and description. Include no preamble for each section. \n",
    "                    Use markdown formatting.\n",
    "                    '''),\n",
    "            HumanMessage(\n",
    "                content = f\"Here is the section name: {state['section'].name} and description: {state['section'].description}\"\n",
    "            )\n",
    "        ]\n",
    "    )\n",
    "    return {\"completed_sections\" : [section.content]}\n",
    "    \n",
    "def synthesizer(state : State):\n",
    "    \"\"\"Synthesize full report from sections\"\"\" \n",
    "\n",
    "    completed_sections = state['completed_sections']\n",
    "    completed_report_sections = \"\\n\\n---\\n\\n\".join(completed_sections)\n",
    "\n",
    "    return {'final_report' : completed_report_sections}\n",
    "\n",
    "def assign_workers(state : State):\n",
    "    \"\"\"Assign a worker to each section in the plan\"\"\"\n",
    "    return [Send('llm_call', {\"section\" : s}) for s in state['sections']]"
   ]
  },
  {
   "cell_type": "code",
   "execution_count": 18,
   "metadata": {},
   "outputs": [
    {
     "data": {
      "text/plain": [
       "<langgraph.graph.state.StateGraph at 0x21162212300>"
      ]
     },
     "execution_count": 18,
     "metadata": {},
     "output_type": "execute_result"
    }
   ],
   "source": [
    "orchestrator_worker_builder = StateGraph(State)\n",
    "orchestrator_worker_builder.add_node('orchestrator', orchestrator)\n",
    "orchestrator_worker_builder.add_node('llm_call', llm_call)\n",
    "orchestrator_worker_builder.add_node('synthesizer', synthesizer)\n",
    "orchestrator_worker_builder.add_edge(START, 'orchestrator')\n",
    "orchestrator_worker_builder.add_conditional_edges(\n",
    "    'orchestrator', \n",
    "    assign_workers, \n",
    "    ['llm_call']\n",
    "    )\n",
    "orchestrator_worker_builder.add_edge('llm_call', 'synthesizer')\n",
    "orchestrator_worker_builder.add_edge('synthesizer', END)"
   ]
  },
  {
   "cell_type": "code",
   "execution_count": 19,
   "metadata": {},
   "outputs": [
    {
     "data": {
      "image/png": "[encoded data removed]",
      "text/plain": [
       "<IPython.core.display.Image object>"
      ]
     },
     "execution_count": 19,
     "metadata": {},
     "output_type": "execute_result"
    }
   ],
   "source": [
    "orchestrator_worker = orchestrator_worker_builder.compile()\n",
    "\n",
    "Image(orchestrator_worker.get_graph().draw_mermaid_png())"
   ]
  },
  {
   "cell_type": "code",
   "execution_count": 20,
   "metadata": {},
   "outputs": [],
   "source": [
    "state = orchestrator_worker.invoke(\n",
    "    {'topic' : \"Create a report on LLM scaling laws\"}\n",
    ")"
   ]
  },
  {
   "cell_type": "code",
   "execution_count": 21,
   "metadata": {},
   "outputs": [
    {
     "data": {
      "text/markdown": [
       "## Introduction to LLM Scaling Laws\n",
       "\n",
       "Large Language Models (LLMs) have demonstrated remarkable capabilities in recent years, achieving state-of-the-art results in a wide range of natural language processing tasks. A key driver behind this progress is the observation of *scaling laws*, which describe the predictable relationship between model performance and factors like model size (number of parameters), dataset size (amount of training data), and compute budget (amount of computational resources used for training).\n",
       "\n",
       "In essence, scaling laws suggest that as these factors increase, model performance generally improves in a predictable manner, often following a power-law relationship. This insight has profound implications for the design and training of future LLMs, enabling researchers and practitioners to:\n",
       "\n",
       "*   **Predict performance:** Estimate the performance of a model given its size, dataset size, and compute budget before actually training it.\n",
       "*   **Optimize resource allocation:** Determine the optimal combination of model size, dataset size, and compute to achieve desired performance levels, maximizing efficiency and minimizing costs.\n",
       "*   **Guide model development:** Provide a roadmap for future research by indicating the potential benefits of scaling up model size and/or dataset size.\n",
       "\n",
       "This report will explore the empirical evidence supporting LLM scaling laws, examine the mathematical formulations used to describe these relationships, discuss the theoretical underpinnings that explain why scaling laws hold, and address limitations and open questions surrounding their applicability and generalization. Understanding these laws is crucial for navigating the rapidly evolving landscape of LLMs and effectively leveraging their potential.\n",
       "\n",
       "---\n",
       "\n",
       "### Scaling Laws: Power Law Relationships\n",
       "\n",
       "Power law relationships, frequently observed in large language models (LLMs), describe how model performance scales with key factors like model size (number of parameters), training dataset size, and computational budget. These relationships are often expressed as:\n",
       "\n",
       "*   Performance ≈ A \\* (Factor)^B\n",
       "\n",
       "Where:\n",
       "\n",
       "*   Performance is a measure of the model's ability (e.g., test loss, accuracy).\n",
       "*   Factor is the scaling factor (e.g., number of parameters, dataset size, compute).\n",
       "*   A is a constant factor.\n",
       "*   B is the scaling exponent.\n",
       "\n",
       "The exponent *B* is crucial. A value close to 1 implies near-linear scaling, while smaller values indicate diminishing returns. Identifying these exponents allows for:\n",
       "\n",
       "*   **Predicting Performance:** Estimating performance gains from increasing model size or data without needing to train the larger model.\n",
       "*   **Optimizing Resource Allocation:** Determining the most efficient allocation of compute and data to achieve desired performance levels.\n",
       "*   **Understanding Model Behavior:** Insights into the underlying mechanisms driving model improvements with scale.\n",
       "\n",
       "However, several caveats apply:\n",
       "\n",
       "*   **Data Quality Matters:**  Scaling laws are often established on specific datasets. Performance may deviate significantly on different or poorly curated data.\n",
       "*   **Architectural Dependence:**  The scaling exponents can vary depending on the model architecture (e.g., transformer, recurrent neural network).\n",
       "*   **Plateaus and Breakdowns:** Power laws might not hold indefinitely. Saturation effects and unexpected behavior can occur at extreme scales.\n",
       "*   **Fine-Tuning Impacts:** Scaling laws established during pre-training might not perfectly translate to performance after fine-tuning.\n",
       "\n",
       "Research continues to refine our understanding of power law relationships and to develop more accurate and comprehensive models of LLM scaling. Understanding the limitations of these models is vital for responsible and efficient LLM development.\n",
       "\n",
       "---\n",
       "\n",
       "### Key Factors: Impact of Data, Compute, and Model Size\n",
       "\n",
       "The performance of deep learning models is intrinsically linked to three key factors: the quantity and quality of the data used for training, the computational resources allocated for training, and the size and architecture of the model itself. Understanding the interplay between these factors is crucial for optimizing model performance and efficiency.\n",
       "\n",
       "**Data:**\n",
       "\n",
       "*   **Quantity:** Generally, larger datasets allow models to learn more robust and generalizable representations. More data helps to cover a wider range of variations and reduces the risk of overfitting to specific training examples. However, simply increasing the data volume may not always be beneficial if the data is noisy, biased, or irrelevant to the task.\n",
       "*   **Quality:** High-quality data, characterized by accuracy, consistency, and completeness, is essential for effective model training. Data cleaning, preprocessing, and augmentation techniques can significantly improve model performance. Strategies such as removing duplicates, correcting errors, and addressing missing values are critical steps in ensuring data quality.\n",
       "*   **Diversity:** A diverse dataset, encompassing a wide range of scenarios and edge cases, helps the model to generalize better to unseen data. This is especially important when deploying models in real-world environments where the data distribution may differ from the training distribution. Techniques like data augmentation can help improve the diversity of the training dataset.\n",
       "\n",
       "**Compute:**\n",
       "\n",
       "*   **Training Time:** Increased computational resources allow for faster training times, enabling more experimentation with different model architectures, hyperparameters, and training strategies. The use of GPUs or TPUs can significantly accelerate the training process, especially for large models and datasets.\n",
       "*   **Model Complexity:** Higher computational power enables the training of more complex models with a larger number of parameters. Complex models can potentially capture more intricate patterns in the data, leading to improved accuracy.\n",
       "*   **Hyperparameter Optimization:** Computational resources are essential for exploring the hyperparameter space efficiently. Techniques such as grid search, random search, and Bayesian optimization require substantial computational power to evaluate a large number of hyperparameter configurations.\n",
       "\n",
       "**Model Size:**\n",
       "\n",
       "*   **Capacity:** Larger models with more parameters have a greater capacity to learn complex relationships in the data. This can lead to improved performance, especially for tasks with high complexity.\n",
       "*   **Overfitting:** While larger models can potentially achieve higher accuracy, they are also more prone to overfitting the training data. Regularization techniques, such as dropout, weight decay, and early stopping, are crucial for mitigating overfitting.\n",
       "*   **Inference Cost:** Larger models typically require more computational resources for inference, leading to higher latency and increased deployment costs. Model compression techniques, such as pruning and quantization, can help reduce the model size and improve inference efficiency.\n",
       "*   **Architecture:** The choice of model architecture plays a crucial role in determining performance. Different architectures are better suited for different tasks and data types. For example, Convolutional Neural Networks (CNNs) are well-suited for image recognition tasks, while Recurrent Neural Networks (RNNs) are commonly used for natural language processing. Transformer-based architectures have shown significant promise in a wide range of tasks, including natural language processing and computer vision.\n",
       "\n",
       "In conclusion, achieving optimal model performance requires a careful balance between the size and quality of the data, the computational resources available, and the complexity and architecture of the model. Understanding the trade-offs between these factors is essential for developing effective and efficient deep learning solutions.\n",
       "\n",
       "---\n",
       "\n",
       "### Implications\n",
       "\n",
       "*   **Enhanced Decision-Making:** More accurate and timely information about user behavior and system performance allows for data-driven decisions in areas like content recommendation, fraud detection, and resource allocation. This can lead to improved efficiency, reduced costs, and better user experiences.\n",
       "\n",
       "*   **Personalized Experiences:** Granular insights into user preferences and usage patterns can be leveraged to create highly personalized experiences. This could involve tailoring content, recommending relevant products, or dynamically adjusting system parameters to optimize performance for individual users.\n",
       "\n",
       "*   **Proactive Issue Identification:** By analyzing patterns and anomalies in the data, potential problems can be identified and addressed before they impact users. This proactive approach to problem-solving can minimize downtime, prevent service disruptions, and improve overall system reliability.\n",
       "\n",
       "*   **Improved Security:** Identifying and responding to security threats in real-time becomes easier with access to detailed log data and user activity information. This can help to prevent data breaches, detect malicious activity, and protect sensitive information.\n",
       "\n",
       "*   **Innovation and Development:** A deeper understanding of how users interact with the system can inspire new features, product improvements, and even entirely new business models. Data-driven insights can fuel innovation and keep the system competitive.\n",
       "\n",
       "### Challenges\n",
       "\n",
       "*   **Data Privacy and Security:** Handling sensitive user data requires robust security measures and adherence to strict privacy regulations (e.g., GDPR, CCPA). Data anonymization, encryption, and access controls are essential to protect user privacy and maintain trust.\n",
       "\n",
       "*   **Data Volume and Scalability:** Processing and analyzing large volumes of data in real-time can be technically challenging and require significant computational resources. Scalable infrastructure and efficient data processing techniques are needed to handle the data deluge.\n",
       "\n",
       "*   **Complexity and Integration:** Integrating diverse data sources and building a cohesive data pipeline can be complex and time-consuming. Ensuring data quality, consistency, and compatibility across different systems is crucial for accurate analysis.\n",
       "\n",
       "*   **Interpretability and Actionability:** Deriving actionable insights from complex data requires specialized skills in data analysis and visualization. Communicating these insights effectively to stakeholders and translating them into concrete actions can be a challenge.\n",
       "\n",
       "*   **Bias and Fairness:** Data used for decision-making may contain biases that can lead to unfair or discriminatory outcomes. Careful attention must be paid to identifying and mitigating biases in the data and algorithms to ensure fairness and equity.\n",
       "\n",
       "*   **Resource Requirements:** Implementing and maintaining a system for detailed data collection, processing, and analysis requires significant investment in infrastructure, software, and personnel. Justifying these costs and demonstrating the return on investment can be challenging.\n",
       "\n",
       "*   **Ethical Considerations:** The use of data to track and profile users raises ethical concerns about privacy, autonomy, and manipulation. Careful consideration must be given to the ethical implications of data usage and responsible data practices must be adopted.\n",
       "\n",
       "---\n",
       "\n",
       "### Future Trends\n",
       "\n",
       "This section outlines potential future directions and promising avenues for research in the field.\n",
       "\n",
       "*   **Explainable AI (XAI) Integration:**  Future research should focus on integrating XAI techniques to improve the transparency and interpretability of complex models. This is crucial for building trust and understanding the decision-making processes, especially in high-stakes applications.\n",
       "\n",
       "*   **Multimodal Learning and Data Fusion:** Explore leveraging multimodal data (e.g., text, images, audio) for enhanced feature extraction and model performance.  Research should focus on developing robust fusion techniques that can effectively combine information from diverse data sources.\n",
       "\n",
       "*   **Federated Learning:** Investigate the application of federated learning to enable collaborative model training across distributed datasets while preserving data privacy. This is particularly relevant for scenarios where data sharing is restricted.\n",
       "\n",
       "*   **Adversarial Robustness:**  Further research is needed to develop more robust models that are resilient to adversarial attacks and data perturbations. This includes exploring novel defense mechanisms and developing better metrics for evaluating model robustness.\n",
       "\n",
       "*   **Domain Adaptation and Transfer Learning:** Explore techniques for effectively adapting models trained on one domain to perform well in another. This reduces the need for extensive retraining and allows for the reuse of existing knowledge.\n",
       "\n",
       "*   **Automated Machine Learning (AutoML):**  Investigate the use of AutoML tools to streamline the model development process, making it more accessible to non-experts. Research should focus on improving the efficiency and effectiveness of AutoML algorithms.\n",
       "\n",
       "*   **Ethical Considerations and Bias Mitigation:**  Future work must address the ethical implications of models and develop methods for mitigating bias in training data and model predictions. This includes promoting fairness, accountability, and transparency in algorithmic decision-making.\n",
       "\n",
       "*   **Energy-Efficient Model Development:**  Focus on developing more energy-efficient models and training techniques to reduce the environmental impact of training and deploying large-scale models.  This includes exploring hardware-aware optimization strategies.\n",
       "\n",
       "*   **Integration with Edge Computing:**  Research should explore strategies for deploying and running models on edge devices, enabling real-time processing and reduced latency. This is particularly relevant for applications such as autonomous vehicles and IoT devices."
      ],
      "text/plain": [
       "<IPython.core.display.Markdown object>"
      ]
     },
     "execution_count": 21,
     "metadata": {},
     "output_type": "execute_result"
    }
   ],
   "source": [
    "from IPython.display import Markdown\n",
    "Markdown(state['final_report'])"
   ]
  },
  {
   "cell_type": "code",
   "execution_count": 22,
   "metadata": {},
   "outputs": [
    {
     "data": {
      "text/plain": [
       "{'topic': 'Create a report on LLM scaling laws',\n",
       " 'sections': [Section(name='Introduction', description='Introduction to LLM Scaling Laws'),\n",
       "  Section(name='Scaling Laws', description='Power Law Relationships'),\n",
       "  Section(name='Key Factors', description='Impact of Data, Compute, and Model Size'),\n",
       "  Section(name='Implications', description='Practical Implications and Challenges'),\n",
       "  Section(name='Future Trends', description='Future Directions and Research')],\n",
       " 'completed_sections': ['## Introduction to LLM Scaling Laws\\n\\nLarge Language Models (LLMs) have demonstrated remarkable capabilities in recent years, achieving state-of-the-art results in a wide range of natural language processing tasks. A key driver behind this progress is the observation of *scaling laws*, which describe the predictable relationship between model performance and factors like model size (number of parameters), dataset size (amount of training data), and compute budget (amount of computational resources used for training).\\n\\nIn essence, scaling laws suggest that as these factors increase, model performance generally improves in a predictable manner, often following a power-law relationship. This insight has profound implications for the design and training of future LLMs, enabling researchers and practitioners to:\\n\\n*   **Predict performance:** Estimate the performance of a model given its size, dataset size, and compute budget before actually training it.\\n*   **Optimize resource allocation:** Determine the optimal combination of model size, dataset size, and compute to achieve desired performance levels, maximizing efficiency and minimizing costs.\\n*   **Guide model development:** Provide a roadmap for future research by indicating the potential benefits of scaling up model size and/or dataset size.\\n\\nThis report will explore the empirical evidence supporting LLM scaling laws, examine the mathematical formulations used to describe these relationships, discuss the theoretical underpinnings that explain why scaling laws hold, and address limitations and open questions surrounding their applicability and generalization. Understanding these laws is crucial for navigating the rapidly evolving landscape of LLMs and effectively leveraging their potential.',\n",
       "  \"### Scaling Laws: Power Law Relationships\\n\\nPower law relationships, frequently observed in large language models (LLMs), describe how model performance scales with key factors like model size (number of parameters), training dataset size, and computational budget. These relationships are often expressed as:\\n\\n*   Performance ≈ A \\\\* (Factor)^B\\n\\nWhere:\\n\\n*   Performance is a measure of the model's ability (e.g., test loss, accuracy).\\n*   Factor is the scaling factor (e.g., number of parameters, dataset size, compute).\\n*   A is a constant factor.\\n*   B is the scaling exponent.\\n\\nThe exponent *B* is crucial. A value close to 1 implies near-linear scaling, while smaller values indicate diminishing returns. Identifying these exponents allows for:\\n\\n*   **Predicting Performance:** Estimating performance gains from increasing model size or data without needing to train the larger model.\\n*   **Optimizing Resource Allocation:** Determining the most efficient allocation of compute and data to achieve desired performance levels.\\n*   **Understanding Model Behavior:** Insights into the underlying mechanisms driving model improvements with scale.\\n\\nHowever, several caveats apply:\\n\\n*   **Data Quality Matters:**  Scaling laws are often established on specific datasets. Performance may deviate significantly on different or poorly curated data.\\n*   **Architectural Dependence:**  The scaling exponents can vary depending on the model architecture (e.g., transformer, recurrent neural network).\\n*   **Plateaus and Breakdowns:** Power laws might not hold indefinitely. Saturation effects and unexpected behavior can occur at extreme scales.\\n*   **Fine-Tuning Impacts:** Scaling laws established during pre-training might not perfectly translate to performance after fine-tuning.\\n\\nResearch continues to refine our understanding of power law relationships and to develop more accurate and comprehensive models of LLM scaling. Understanding the limitations of these models is vital for responsible and efficient LLM development.\",\n",
       "  '### Key Factors: Impact of Data, Compute, and Model Size\\n\\nThe performance of deep learning models is intrinsically linked to three key factors: the quantity and quality of the data used for training, the computational resources allocated for training, and the size and architecture of the model itself. Understanding the interplay between these factors is crucial for optimizing model performance and efficiency.\\n\\n**Data:**\\n\\n*   **Quantity:** Generally, larger datasets allow models to learn more robust and generalizable representations. More data helps to cover a wider range of variations and reduces the risk of overfitting to specific training examples. However, simply increasing the data volume may not always be beneficial if the data is noisy, biased, or irrelevant to the task.\\n*   **Quality:** High-quality data, characterized by accuracy, consistency, and completeness, is essential for effective model training. Data cleaning, preprocessing, and augmentation techniques can significantly improve model performance. Strategies such as removing duplicates, correcting errors, and addressing missing values are critical steps in ensuring data quality.\\n*   **Diversity:** A diverse dataset, encompassing a wide range of scenarios and edge cases, helps the model to generalize better to unseen data. This is especially important when deploying models in real-world environments where the data distribution may differ from the training distribution. Techniques like data augmentation can help improve the diversity of the training dataset.\\n\\n**Compute:**\\n\\n*   **Training Time:** Increased computational resources allow for faster training times, enabling more experimentation with different model architectures, hyperparameters, and training strategies. The use of GPUs or TPUs can significantly accelerate the training process, especially for large models and datasets.\\n*   **Model Complexity:** Higher computational power enables the training of more complex models with a larger number of parameters. Complex models can potentially capture more intricate patterns in the data, leading to improved accuracy.\\n*   **Hyperparameter Optimization:** Computational resources are essential for exploring the hyperparameter space efficiently. Techniques such as grid search, random search, and Bayesian optimization require substantial computational power to evaluate a large number of hyperparameter configurations.\\n\\n**Model Size:**\\n\\n*   **Capacity:** Larger models with more parameters have a greater capacity to learn complex relationships in the data. This can lead to improved performance, especially for tasks with high complexity.\\n*   **Overfitting:** While larger models can potentially achieve higher accuracy, they are also more prone to overfitting the training data. Regularization techniques, such as dropout, weight decay, and early stopping, are crucial for mitigating overfitting.\\n*   **Inference Cost:** Larger models typically require more computational resources for inference, leading to higher latency and increased deployment costs. Model compression techniques, such as pruning and quantization, can help reduce the model size and improve inference efficiency.\\n*   **Architecture:** The choice of model architecture plays a crucial role in determining performance. Different architectures are better suited for different tasks and data types. For example, Convolutional Neural Networks (CNNs) are well-suited for image recognition tasks, while Recurrent Neural Networks (RNNs) are commonly used for natural language processing. Transformer-based architectures have shown significant promise in a wide range of tasks, including natural language processing and computer vision.\\n\\nIn conclusion, achieving optimal model performance requires a careful balance between the size and quality of the data, the computational resources available, and the complexity and architecture of the model. Understanding the trade-offs between these factors is essential for developing effective and efficient deep learning solutions.',\n",
       "  '### Implications\\n\\n*   **Enhanced Decision-Making:** More accurate and timely information about user behavior and system performance allows for data-driven decisions in areas like content recommendation, fraud detection, and resource allocation. This can lead to improved efficiency, reduced costs, and better user experiences.\\n\\n*   **Personalized Experiences:** Granular insights into user preferences and usage patterns can be leveraged to create highly personalized experiences. This could involve tailoring content, recommending relevant products, or dynamically adjusting system parameters to optimize performance for individual users.\\n\\n*   **Proactive Issue Identification:** By analyzing patterns and anomalies in the data, potential problems can be identified and addressed before they impact users. This proactive approach to problem-solving can minimize downtime, prevent service disruptions, and improve overall system reliability.\\n\\n*   **Improved Security:** Identifying and responding to security threats in real-time becomes easier with access to detailed log data and user activity information. This can help to prevent data breaches, detect malicious activity, and protect sensitive information.\\n\\n*   **Innovation and Development:** A deeper understanding of how users interact with the system can inspire new features, product improvements, and even entirely new business models. Data-driven insights can fuel innovation and keep the system competitive.\\n\\n### Challenges\\n\\n*   **Data Privacy and Security:** Handling sensitive user data requires robust security measures and adherence to strict privacy regulations (e.g., GDPR, CCPA). Data anonymization, encryption, and access controls are essential to protect user privacy and maintain trust.\\n\\n*   **Data Volume and Scalability:** Processing and analyzing large volumes of data in real-time can be technically challenging and require significant computational resources. Scalable infrastructure and efficient data processing techniques are needed to handle the data deluge.\\n\\n*   **Complexity and Integration:** Integrating diverse data sources and building a cohesive data pipeline can be complex and time-consuming. Ensuring data quality, consistency, and compatibility across different systems is crucial for accurate analysis.\\n\\n*   **Interpretability and Actionability:** Deriving actionable insights from complex data requires specialized skills in data analysis and visualization. Communicating these insights effectively to stakeholders and translating them into concrete actions can be a challenge.\\n\\n*   **Bias and Fairness:** Data used for decision-making may contain biases that can lead to unfair or discriminatory outcomes. Careful attention must be paid to identifying and mitigating biases in the data and algorithms to ensure fairness and equity.\\n\\n*   **Resource Requirements:** Implementing and maintaining a system for detailed data collection, processing, and analysis requires significant investment in infrastructure, software, and personnel. Justifying these costs and demonstrating the return on investment can be challenging.\\n\\n*   **Ethical Considerations:** The use of data to track and profile users raises ethical concerns about privacy, autonomy, and manipulation. Careful consideration must be given to the ethical implications of data usage and responsible data practices must be adopted.',\n",
       "  '### Future Trends\\n\\nThis section outlines potential future directions and promising avenues for research in the field.\\n\\n*   **Explainable AI (XAI) Integration:**  Future research should focus on integrating XAI techniques to improve the transparency and interpretability of complex models. This is crucial for building trust and understanding the decision-making processes, especially in high-stakes applications.\\n\\n*   **Multimodal Learning and Data Fusion:** Explore leveraging multimodal data (e.g., text, images, audio) for enhanced feature extraction and model performance.  Research should focus on developing robust fusion techniques that can effectively combine information from diverse data sources.\\n\\n*   **Federated Learning:** Investigate the application of federated learning to enable collaborative model training across distributed datasets while preserving data privacy. This is particularly relevant for scenarios where data sharing is restricted.\\n\\n*   **Adversarial Robustness:**  Further research is needed to develop more robust models that are resilient to adversarial attacks and data perturbations. This includes exploring novel defense mechanisms and developing better metrics for evaluating model robustness.\\n\\n*   **Domain Adaptation and Transfer Learning:** Explore techniques for effectively adapting models trained on one domain to perform well in another. This reduces the need for extensive retraining and allows for the reuse of existing knowledge.\\n\\n*   **Automated Machine Learning (AutoML):**  Investigate the use of AutoML tools to streamline the model development process, making it more accessible to non-experts. Research should focus on improving the efficiency and effectiveness of AutoML algorithms.\\n\\n*   **Ethical Considerations and Bias Mitigation:**  Future work must address the ethical implications of models and develop methods for mitigating bias in training data and model predictions. This includes promoting fairness, accountability, and transparency in algorithmic decision-making.\\n\\n*   **Energy-Efficient Model Development:**  Focus on developing more energy-efficient models and training techniques to reduce the environmental impact of training and deploying large-scale models.  This includes exploring hardware-aware optimization strategies.\\n\\n*   **Integration with Edge Computing:**  Research should explore strategies for deploying and running models on edge devices, enabling real-time processing and reduced latency. This is particularly relevant for applications such as autonomous vehicles and IoT devices.'],\n",
       " 'final_report': \"## Introduction to LLM Scaling Laws\\n\\nLarge Language Models (LLMs) have demonstrated remarkable capabilities in recent years, achieving state-of-the-art results in a wide range of natural language processing tasks. A key driver behind this progress is the observation of *scaling laws*, which describe the predictable relationship between model performance and factors like model size (number of parameters), dataset size (amount of training data), and compute budget (amount of computational resources used for training).\\n\\nIn essence, scaling laws suggest that as these factors increase, model performance generally improves in a predictable manner, often following a power-law relationship. This insight has profound implications for the design and training of future LLMs, enabling researchers and practitioners to:\\n\\n*   **Predict performance:** Estimate the performance of a model given its size, dataset size, and compute budget before actually training it.\\n*   **Optimize resource allocation:** Determine the optimal combination of model size, dataset size, and compute to achieve desired performance levels, maximizing efficiency and minimizing costs.\\n*   **Guide model development:** Provide a roadmap for future research by indicating the potential benefits of scaling up model size and/or dataset size.\\n\\nThis report will explore the empirical evidence supporting LLM scaling laws, examine the mathematical formulations used to describe these relationships, discuss the theoretical underpinnings that explain why scaling laws hold, and address limitations and open questions surrounding their applicability and generalization. Understanding these laws is crucial for navigating the rapidly evolving landscape of LLMs and effectively leveraging their potential.\\n\\n---\\n\\n### Scaling Laws: Power Law Relationships\\n\\nPower law relationships, frequently observed in large language models (LLMs), describe how model performance scales with key factors like model size (number of parameters), training dataset size, and computational budget. These relationships are often expressed as:\\n\\n*   Performance ≈ A \\\\* (Factor)^B\\n\\nWhere:\\n\\n*   Performance is a measure of the model's ability (e.g., test loss, accuracy).\\n*   Factor is the scaling factor (e.g., number of parameters, dataset size, compute).\\n*   A is a constant factor.\\n*   B is the scaling exponent.\\n\\nThe exponent *B* is crucial. A value close to 1 implies near-linear scaling, while smaller values indicate diminishing returns. Identifying these exponents allows for:\\n\\n*   **Predicting Performance:** Estimating performance gains from increasing model size or data without needing to train the larger model.\\n*   **Optimizing Resource Allocation:** Determining the most efficient allocation of compute and data to achieve desired performance levels.\\n*   **Understanding Model Behavior:** Insights into the underlying mechanisms driving model improvements with scale.\\n\\nHowever, several caveats apply:\\n\\n*   **Data Quality Matters:**  Scaling laws are often established on specific datasets. Performance may deviate significantly on different or poorly curated data.\\n*   **Architectural Dependence:**  The scaling exponents can vary depending on the model architecture (e.g., transformer, recurrent neural network).\\n*   **Plateaus and Breakdowns:** Power laws might not hold indefinitely. Saturation effects and unexpected behavior can occur at extreme scales.\\n*   **Fine-Tuning Impacts:** Scaling laws established during pre-training might not perfectly translate to performance after fine-tuning.\\n\\nResearch continues to refine our understanding of power law relationships and to develop more accurate and comprehensive models of LLM scaling. Understanding the limitations of these models is vital for responsible and efficient LLM development.\\n\\n---\\n\\n### Key Factors: Impact of Data, Compute, and Model Size\\n\\nThe performance of deep learning models is intrinsically linked to three key factors: the quantity and quality of the data used for training, the computational resources allocated for training, and the size and architecture of the model itself. Understanding the interplay between these factors is crucial for optimizing model performance and efficiency.\\n\\n**Data:**\\n\\n*   **Quantity:** Generally, larger datasets allow models to learn more robust and generalizable representations. More data helps to cover a wider range of variations and reduces the risk of overfitting to specific training examples. However, simply increasing the data volume may not always be beneficial if the data is noisy, biased, or irrelevant to the task.\\n*   **Quality:** High-quality data, characterized by accuracy, consistency, and completeness, is essential for effective model training. Data cleaning, preprocessing, and augmentation techniques can significantly improve model performance. Strategies such as removing duplicates, correcting errors, and addressing missing values are critical steps in ensuring data quality.\\n*   **Diversity:** A diverse dataset, encompassing a wide range of scenarios and edge cases, helps the model to generalize better to unseen data. This is especially important when deploying models in real-world environments where the data distribution may differ from the training distribution. Techniques like data augmentation can help improve the diversity of the training dataset.\\n\\n**Compute:**\\n\\n*   **Training Time:** Increased computational resources allow for faster training times, enabling more experimentation with different model architectures, hyperparameters, and training strategies. The use of GPUs or TPUs can significantly accelerate the training process, especially for large models and datasets.\\n*   **Model Complexity:** Higher computational power enables the training of more complex models with a larger number of parameters. Complex models can potentially capture more intricate patterns in the data, leading to improved accuracy.\\n*   **Hyperparameter Optimization:** Computational resources are essential for exploring the hyperparameter space efficiently. Techniques such as grid search, random search, and Bayesian optimization require substantial computational power to evaluate a large number of hyperparameter configurations.\\n\\n**Model Size:**\\n\\n*   **Capacity:** Larger models with more parameters have a greater capacity to learn complex relationships in the data. This can lead to improved performance, especially for tasks with high complexity.\\n*   **Overfitting:** While larger models can potentially achieve higher accuracy, they are also more prone to overfitting the training data. Regularization techniques, such as dropout, weight decay, and early stopping, are crucial for mitigating overfitting.\\n*   **Inference Cost:** Larger models typically require more computational resources for inference, leading to higher latency and increased deployment costs. Model compression techniques, such as pruning and quantization, can help reduce the model size and improve inference efficiency.\\n*   **Architecture:** The choice of model architecture plays a crucial role in determining performance. Different architectures are better suited for different tasks and data types. For example, Convolutional Neural Networks (CNNs) are well-suited for image recognition tasks, while Recurrent Neural Networks (RNNs) are commonly used for natural language processing. Transformer-based architectures have shown significant promise in a wide range of tasks, including natural language processing and computer vision.\\n\\nIn conclusion, achieving optimal model performance requires a careful balance between the size and quality of the data, the computational resources available, and the complexity and architecture of the model. Understanding the trade-offs between these factors is essential for developing effective and efficient deep learning solutions.\\n\\n---\\n\\n### Implications\\n\\n*   **Enhanced Decision-Making:** More accurate and timely information about user behavior and system performance allows for data-driven decisions in areas like content recommendation, fraud detection, and resource allocation. This can lead to improved efficiency, reduced costs, and better user experiences.\\n\\n*   **Personalized Experiences:** Granular insights into user preferences and usage patterns can be leveraged to create highly personalized experiences. This could involve tailoring content, recommending relevant products, or dynamically adjusting system parameters to optimize performance for individual users.\\n\\n*   **Proactive Issue Identification:** By analyzing patterns and anomalies in the data, potential problems can be identified and addressed before they impact users. This proactive approach to problem-solving can minimize downtime, prevent service disruptions, and improve overall system reliability.\\n\\n*   **Improved Security:** Identifying and responding to security threats in real-time becomes easier with access to detailed log data and user activity information. This can help to prevent data breaches, detect malicious activity, and protect sensitive information.\\n\\n*   **Innovation and Development:** A deeper understanding of how users interact with the system can inspire new features, product improvements, and even entirely new business models. Data-driven insights can fuel innovation and keep the system competitive.\\n\\n### Challenges\\n\\n*   **Data Privacy and Security:** Handling sensitive user data requires robust security measures and adherence to strict privacy regulations (e.g., GDPR, CCPA). Data anonymization, encryption, and access controls are essential to protect user privacy and maintain trust.\\n\\n*   **Data Volume and Scalability:** Processing and analyzing large volumes of data in real-time can be technically challenging and require significant computational resources. Scalable infrastructure and efficient data processing techniques are needed to handle the data deluge.\\n\\n*   **Complexity and Integration:** Integrating diverse data sources and building a cohesive data pipeline can be complex and time-consuming. Ensuring data quality, consistency, and compatibility across different systems is crucial for accurate analysis.\\n\\n*   **Interpretability and Actionability:** Deriving actionable insights from complex data requires specialized skills in data analysis and visualization. Communicating these insights effectively to stakeholders and translating them into concrete actions can be a challenge.\\n\\n*   **Bias and Fairness:** Data used for decision-making may contain biases that can lead to unfair or discriminatory outcomes. Careful attention must be paid to identifying and mitigating biases in the data and algorithms to ensure fairness and equity.\\n\\n*   **Resource Requirements:** Implementing and maintaining a system for detailed data collection, processing, and analysis requires significant investment in infrastructure, software, and personnel. Justifying these costs and demonstrating the return on investment can be challenging.\\n\\n*   **Ethical Considerations:** The use of data to track and profile users raises ethical concerns about privacy, autonomy, and manipulation. Careful consideration must be given to the ethical implications of data usage and responsible data practices must be adopted.\\n\\n---\\n\\n### Future Trends\\n\\nThis section outlines potential future directions and promising avenues for research in the field.\\n\\n*   **Explainable AI (XAI) Integration:**  Future research should focus on integrating XAI techniques to improve the transparency and interpretability of complex models. This is crucial for building trust and understanding the decision-making processes, especially in high-stakes applications.\\n\\n*   **Multimodal Learning and Data Fusion:** Explore leveraging multimodal data (e.g., text, images, audio) for enhanced feature extraction and model performance.  Research should focus on developing robust fusion techniques that can effectively combine information from diverse data sources.\\n\\n*   **Federated Learning:** Investigate the application of federated learning to enable collaborative model training across distributed datasets while preserving data privacy. This is particularly relevant for scenarios where data sharing is restricted.\\n\\n*   **Adversarial Robustness:**  Further research is needed to develop more robust models that are resilient to adversarial attacks and data perturbations. This includes exploring novel defense mechanisms and developing better metrics for evaluating model robustness.\\n\\n*   **Domain Adaptation and Transfer Learning:** Explore techniques for effectively adapting models trained on one domain to perform well in another. This reduces the need for extensive retraining and allows for the reuse of existing knowledge.\\n\\n*   **Automated Machine Learning (AutoML):**  Investigate the use of AutoML tools to streamline the model development process, making it more accessible to non-experts. Research should focus on improving the efficiency and effectiveness of AutoML algorithms.\\n\\n*   **Ethical Considerations and Bias Mitigation:**  Future work must address the ethical implications of models and develop methods for mitigating bias in training data and model predictions. This includes promoting fairness, accountability, and transparency in algorithmic decision-making.\\n\\n*   **Energy-Efficient Model Development:**  Focus on developing more energy-efficient models and training techniques to reduce the environmental impact of training and deploying large-scale models.  This includes exploring hardware-aware optimization strategies.\\n\\n*   **Integration with Edge Computing:**  Research should explore strategies for deploying and running models on edge devices, enabling real-time processing and reduced latency. This is particularly relevant for applications such as autonomous vehicles and IoT devices.\"}"
      ]
     },
     "execution_count": 22,
     "metadata": {},
     "output_type": "execute_result"
    }
   ],
   "source": [
    "state"
   ]
  },
  {
   "cell_type": "code",
   "execution_count": 23,
   "metadata": {},
   "outputs": [
    {
     "data": {
      "text/plain": [
       "[Section(name='Introduction', description='Introduction to LLM Scaling Laws'),\n",
       " Section(name='Scaling Laws', description='Power Law Relationships'),\n",
       " Section(name='Key Factors', description='Impact of Data, Compute, and Model Size'),\n",
       " Section(name='Implications', description='Practical Implications and Challenges'),\n",
       " Section(name='Future Trends', description='Future Directions and Research')]"
      ]
     },
     "execution_count": 23,
     "metadata": {},
     "output_type": "execute_result"
    }
   ],
   "source": [
    "state['sections']"
   ]
  },
  {
   "cell_type": "markdown",
   "metadata": {},
   "source": [
    "## Evaluator-optimizer"
   ]
  },
  {
   "cell_type": "code",
   "execution_count": 27,
   "metadata": {},
   "outputs": [],
   "source": [
    "from typing import Literal\n",
    "\n",
    "# Graph State\n",
    "class State(TypedDict):\n",
    "    joke : str\n",
    "    topic : str \n",
    "    feedback : str \n",
    "    funny_or_not : str\n",
    "\n",
    "# Schema for structured output to use in evaluation\n",
    "class Feedback(BaseModel):\n",
    "    grade : Literal[\"funny\", \"not funny\"] = Field(\n",
    "        description = \"Decide if the joke is funny or not.\"\n",
    "    )\n",
    "    feedback : str = Field(\n",
    "        description = \"If the joke is not funny, provide feedback on how to improve it.\"\n",
    "    )\n",
    "\n",
    "# Augment the LLM with schema for structured output\n",
    "evaluator = llm.with_structured_output(Feedback)"
   ]
  },
  {
   "cell_type": "code",
   "execution_count": 28,
   "metadata": {},
   "outputs": [],
   "source": [
    "def llm_call_generator(state : State):\n",
    "    \"\"\"LLM generates a joke\"\"\" \n",
    "    if state.get('feedback'):\n",
    "        msg = llm.invoke(\n",
    "            f\"Write a joke about {state['topic']} but take into account the feedback: {state['feedback']}\"\n",
    "        )\n",
    "    else:\n",
    "        msg = llm.invoke(f\"Write a joke about {state['topic']}\")\n",
    "    \n",
    "    return {'joke' : msg.content}\n",
    "\n",
    "def llm_call_evaluator(state : State):\n",
    "    \"\"\"LLM evaluates the joke\"\"\"\n",
    "\n",
    "    grade = evaluator.invoke(f\"Grade the joke {state['joke']}\")\n",
    "    return {\"funny_or_not\" : grade.grade, \"feedback\" : grade.feedback}\n",
    "\n",
    "def route_joke(state : State):\n",
    "    \"\"\"Route back to joke generator or end based upon feedback from the evaluator\"\"\" \n",
    "\n",
    "    if state['funny_or_not'] == \"funny\":\n",
    "        return \"Accepted\"\n",
    "    elif state['funny_or_not'] == 'not funny':\n",
    "        return \"Rejected + Feedback\""
   ]
  },
  {
   "cell_type": "code",
   "execution_count": 29,
   "metadata": {},
   "outputs": [],
   "source": [
    "optimizer_builder = StateGraph(State)\n",
    "\n",
    "optimizer_builder.add_node(\"llm_call_generator\", llm_call_generator)\n",
    "optimizer_builder.add_node(\"llm_call_evaluator\", llm_call_evaluator)\n",
    "\n",
    "optimizer_builder.add_edge(START, 'llm_call_generator')\n",
    "optimizer_builder.add_edge('llm_call_generator', 'llm_call_evaluator')\n",
    "optimizer_builder.add_conditional_edges(\n",
    "    'llm_call_evaluator',\n",
    "    route_joke,\n",
    "    {\n",
    "        'Accepted' : END,\n",
    "        'Rejected + Feedback' : 'llm_call_generator'\n",
    "    }\n",
    ")\n",
    "\n",
    "optimizer_workflow = optimizer_builder.compile()"
   ]
  },
  {
   "cell_type": "code",
   "execution_count": 30,
   "metadata": {},
   "outputs": [
    {
     "data": {
      "image/png": "[encoded data removed]",
      "text/plain": [
       "<IPython.core.display.Image object>"
      ]
     },
     "metadata": {},
     "output_type": "display_data"
    }
   ],
   "source": [
    "display(Image(optimizer_workflow.get_graph().draw_mermaid_png()))"
   ]
  },
  {
   "cell_type": "code",
   "execution_count": 31,
   "metadata": {},
   "outputs": [],
   "source": [
    "state = optimizer_workflow.invoke(\n",
    "    {'topic' : \"Cats\"}\n",
    ")"
   ]
  },
  {
   "cell_type": "code",
   "execution_count": 33,
   "metadata": {},
   "outputs": [
    {
     "name": "stdout",
     "output_type": "stream",
     "text": [
      "Why don't cats play poker in the jungle?\n",
      "\n",
      "Too many cheetahs!\n"
     ]
    }
   ],
   "source": [
    "state\n",
    "print(state['joke'])"
   ]
  },
  {
   "cell_type": "markdown",
   "metadata": {},
   "source": [
    "## Agents"
   ]
  },
  {
   "cell_type": "code",
   "execution_count": 57,
   "metadata": {},
   "outputs": [],
   "source": [
    "from langchain_core.tools import tool \n",
    "\n",
    "@tool \n",
    "def multiply(a: int, b: int) -> int:\n",
    "    \"\"\"Multiply a and b.\n",
    "\n",
    "    Args:\n",
    "        a : first int\n",
    "        b : second int\n",
    "    \"\"\"\n",
    "    return a * b \n",
    "\n",
    "@tool\n",
    "def add(a : int, b : int) -> int:\n",
    "    \"\"\"Adds a and b. \n",
    "\n",
    "    Args:\n",
    "        a: first int\n",
    "        b: second int \n",
    "    \"\"\" \n",
    "    return a + b \n",
    "\n",
    "@tool\n",
    "def divide(a : int, b : int) -> float: \n",
    "    \"\"\"Divide a and b.\n",
    "\n",
    "    Args:\n",
    "        a: first int\n",
    "        b: second int\n",
    "    \"\"\"\n",
    "    return a / b\n",
    "\n",
    "tools = [add, multiply, divide]\n",
    "tools_by_name = {tool.name : tool for tool in tools}\n",
    "llm_with_tools = llm.bind_tools(tools)"
   ]
  },
  {
   "cell_type": "code",
   "execution_count": 58,
   "metadata": {},
   "outputs": [
    {
     "data": {
      "text/plain": [
       "{'add': StructuredTool(name='add', description='Adds a and b. \\n\\n    Args:\\n        a: first int\\n        b: second int', args_schema=<class 'langchain_core.utils.pydantic.add'>, func=<function add at 0x0000021161F35C60>),\n",
       " 'multiply': StructuredTool(name='multiply', description='Multiply a and b.\\n\\n    Args:\\n        a : first int\\n        b : second int', args_schema=<class 'langchain_core.utils.pydantic.multiply'>, func=<function multiply at 0x0000021161F35300>),\n",
       " 'divide': StructuredTool(name='divide', description='Divide a and b.\\n\\n    Args:\\n        a: first int\\n        b: second int', args_schema=<class 'langchain_core.utils.pydantic.divide'>, func=<function divide at 0x0000021161F34AE0>)}"
      ]
     },
     "execution_count": 58,
     "metadata": {},
     "output_type": "execute_result"
    }
   ],
   "source": [
    "tools_by_name"
   ]
  },
  {
   "cell_type": "code",
   "execution_count": 59,
   "metadata": {},
   "outputs": [],
   "source": [
    "from langgraph.graph import MessagesState \n",
    "from langchain_core.messages import SystemMessage, HumanMessage, ToolMessage \n",
    "\n",
    "def llm_call(state : MessagesState):\n",
    "    \"\"\"LLM decides whether to call a tool or not\"\"\"\n",
    "    return {\n",
    "        \"messages\" : [\n",
    "            llm_with_tools.invoke(\n",
    "                [\n",
    "                    SystemMessage(\n",
    "                        content = \"You are a helpful assistant tasked with performing arithmetic on a set of inputs.\"\n",
    "                    )\n",
    "                ]\n",
    "                + state['messages']\n",
    "            )\n",
    "        ]\n",
    "    }\n",
    "\n",
    "def tool_node(state: dict):\n",
    "    \"\"\"Performs the tool call\"\"\" \n",
    "\n",
    "    result = []\n",
    "    for tool_call in state['messages'][-1].tool_calls:\n",
    "        tool = tools_by_name[tool_call['name']]\n",
    "        observation = tool.invoke(tool_call['args'])\n",
    "        result.append(ToolMessage(content = observation, tool_call_id = tool_call['id']))\n",
    "\n",
    "    return {'messages' : result}\n",
    "\n",
    "def should_continue(state: MessagesState) -> Literal['environment', END]:\n",
    "    \"\"\"Decide if we should continue the loop or stop based upon whether the LLM made a tool call\"\"\" \n",
    "\n",
    "    messages = state['messages']\n",
    "    last_message = messages[-1]\n",
    "\n",
    "    if last_message.tool_calls:\n",
    "        return \"Action\"\n",
    "    return END"
   ]
  },
  {
   "cell_type": "code",
   "execution_count": 60,
   "metadata": {},
   "outputs": [],
   "source": [
    "agent_builder = StateGraph(MessagesState)\n",
    "\n",
    "agent_builder.add_node('llm_call', llm_call)\n",
    "agent_builder.add_node('environment', tool_node)\n",
    "\n",
    "agent_builder.add_edge(START, 'llm_call')\n",
    "agent_builder.add_conditional_edges(\n",
    "    'llm_call',\n",
    "    should_continue,\n",
    "    {\n",
    "        \"Action\" : 'environment',\n",
    "        END : END\n",
    "    }\n",
    ")\n",
    "agent_builder.add_edge(\"environment\", \"llm_call\")\n",
    "\n",
    "agent = agent_builder.compile()"
   ]
  },
  {
   "cell_type": "code",
   "execution_count": 61,
   "metadata": {},
   "outputs": [
    {
     "data": {
      "image/png": "[encoded data removed]",
      "text/plain": [
       "<IPython.core.display.Image object>"
      ]
     },
     "execution_count": 61,
     "metadata": {},
     "output_type": "execute_result"
    }
   ],
   "source": [
    "Image(agent.get_graph(xray=True).draw_mermaid_png())"
   ]
  },
  {
   "cell_type": "code",
   "execution_count": 62,
   "metadata": {},
   "outputs": [
    {
     "name": "stdout",
     "output_type": "stream",
     "text": [
      "================================\u001b[1m Human Message \u001b[0m=================================\n",
      "\n",
      "Add 3 and 6.\n",
      "==================================\u001b[1m Ai Message \u001b[0m==================================\n",
      "Tool Calls:\n",
      "  add (b1e0fcea-10f3-40bb-afb0-f12b31fdfca3)\n",
      " Call ID: b1e0fcea-10f3-40bb-afb0-f12b31fdfca3\n",
      "  Args:\n",
      "    a: 3.0\n",
      "    b: 6.0\n",
      "=================================\u001b[1m Tool Message \u001b[0m=================================\n",
      "\n",
      "9\n",
      "==================================\u001b[1m Ai Message \u001b[0m==================================\n",
      "\n",
      "The sum of 3 and 6 is 9.\n"
     ]
    }
   ],
   "source": [
    "messages = [HumanMessage(content = \"Add 3 and 6.\")]\n",
    "messages = agent.invoke({\n",
    "    \"messages\" : messages\n",
    "})\n",
    "\n",
    "for m in messages['messages']:\n",
    "    m.pretty_print()"
   ]
  },
  {
   "cell_type": "code",
   "execution_count": 66,
   "metadata": {},
   "outputs": [
    {
     "data": {
      "image/png": "[encoded data removed]",
      "text/plain": [
       "<IPython.core.display.Image object>"
      ]
     },
     "metadata": {},
     "output_type": "display_data"
    }
   ],
   "source": [
    "from langgraph.prebuilt import create_react_agent \n",
    "\n",
    "pre_built_agent = create_react_agent(llm, tools = tools)\n",
    "\n",
    "display(Image(pre_built_agent.get_graph().draw_mermaid_png()))"
   ]
  },
  {
   "cell_type": "code",
   "execution_count": 67,
   "metadata": {},
   "outputs": [
    {
     "name": "stdout",
     "output_type": "stream",
     "text": [
      "================================\u001b[1m Human Message \u001b[0m=================================\n",
      "\n",
      "Add 3 and 5.\n",
      "==================================\u001b[1m Ai Message \u001b[0m==================================\n",
      "Tool Calls:\n",
      "  add (4455578f-cd88-4f7c-b01b-5fdaec26c379)\n",
      " Call ID: 4455578f-cd88-4f7c-b01b-5fdaec26c379\n",
      "  Args:\n",
      "    a: 3.0\n",
      "    b: 5.0\n",
      "=================================\u001b[1m Tool Message \u001b[0m=================================\n",
      "Name: add\n",
      "\n",
      "8\n",
      "==================================\u001b[1m Ai Message \u001b[0m==================================\n",
      "\n",
      "3 + 5 = 8\n"
     ]
    }
   ],
   "source": [
    "messages = [HumanMessage(content = 'Add 3 and 5.')]\n",
    "messages = pre_built_agent.invoke(\n",
    "    {'messages' : messages}\n",
    ")\n",
    "for m in messages['messages']:\n",
    "    m.pretty_print()"
   ]
  }
 ],
 "metadata": {
  "kernelspec": {
   "display_name": "langgraph",
   "language": "python",
   "name": "python3"
  },
  "language_info": {
   "codemirror_mode": {
    "name": "ipython",
    "version": 3
   },
   "file_extension": ".py",
   "mimetype": "text/x-python",
   "name": "python",
   "nbconvert_exporter": "python",
   "pygments_lexer": "ipython3",
   "version": "3.12.4"
  }
 },
 "nbformat": 4,
 "nbformat_minor": 2
}
