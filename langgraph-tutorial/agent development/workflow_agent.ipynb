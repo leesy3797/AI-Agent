{
 "cells": [
  {
   "cell_type": "code",
   "execution_count": 26,
   "metadata": {},
   "outputs": [],
   "source": [
    "import os\n",
    "import google.generativeai as genai\n",
    "from dotenv import load_dotenv\n",
    "\n",
    "load_dotenv()\n",
    "\n",
    "genai.configure(api_key = os.environ['GOOGLE_API_KEY'])\n",
    "\n",
    "llm = genai.GenerativeModel(\n",
    "    model_name='gemini-2.0-flash',\n",
    "    )"
   ]
  },
  {
   "cell_type": "code",
   "execution_count": 27,
   "metadata": {},
   "outputs": [],
   "source": [
    "res = llm.generate_content('What is the capital of France? and tell me the population and population ratio of the capital')"
   ]
  },
  {
   "cell_type": "code",
   "execution_count": 28,
   "metadata": {},
   "outputs": [
    {
     "data": {
      "text/markdown": [
       "The capital of France is **Paris**.\n",
       "\n",
       "Here's some information about its population:\n",
       "\n",
       "*   **Population:** As of 2023, the city of Paris (within its official boundaries) has an estimated population of around **2.1 million** people.\n",
       "\n",
       "*   **Population Ratio:** When considering the broader metropolitan area of Paris (Île-de-France), the population is much larger, reaching approximately **13 million** people. This means the city of Paris itself represents roughly **16%** of the population of its metropolitan area.\n"
      ],
      "text/plain": [
       "<IPython.core.display.Markdown object>"
      ]
     },
     "metadata": {},
     "output_type": "display_data"
    }
   ],
   "source": [
    "from IPython.display import Image, display, Markdown\n",
    "display(Markdown(res.text))"
   ]
  },
  {
   "cell_type": "code",
   "execution_count": 29,
   "metadata": {},
   "outputs": [],
   "source": [
    "from pydantic import BaseModel, Field\n",
    "from langchain_google_genai import GoogleGenerativeAI\n",
    "from langchain_google_genai.chat_models import ChatGoogleGenerativeAI\n",
    "\n",
    "llm = ChatGoogleGenerativeAI(\n",
    "    model=\"gemini-2.0-flash\",\n",
    "    api_key=os.environ[\"GOOGLE_API_KEY\"],\n",
    "    max_output_tokens=1000,\n",
    "    temperature=1,\n",
    "    max_retries=3,\n",
    "    timeout=10,\n",
    "    verbose=True,\n",
    "    )\n",
    "\n",
    "class SearchQuery(BaseModel):\n",
    "    search_query : str = Field(\n",
    "        None, \n",
    "        description = \"Query that is optimized web search.\"\n",
    "    )\n",
    "    justification : str = Field(\n",
    "        None, description=\"Why this query is relevant to the user's request.\"\n",
    "    )"
   ]
  },
  {
   "cell_type": "code",
   "execution_count": 30,
   "metadata": {},
   "outputs": [
    {
     "data": {
      "text/plain": [
       "[{'name': 'multiply',\n",
       "  'args': {'a': 2.0, 'b': 3.0},\n",
       "  'id': '682c8a2a-4c6c-41a7-919d-c6c508e25b3e',\n",
       "  'type': 'tool_call'}]"
      ]
     },
     "execution_count": 30,
     "metadata": {},
     "output_type": "execute_result"
    }
   ],
   "source": [
    "structured_llm = llm.with_structured_output(SearchQuery)\n",
    "\n",
    "output = structured_llm.invoke(\"How does Calcium CT score relate to high cholesterol?\")\n",
    "\n",
    "def multiply(a:int, b:int) -> int:\n",
    "    return a * b\n",
    "\n",
    "llm_with_tools = llm.bind_tools([multiply])\n",
    "\n",
    "msg = llm_with_tools.invoke(\"What is 2 times 3?\")\n",
    "\n",
    "msg.tool_calls"
   ]
  },
  {
   "cell_type": "code",
   "execution_count": 31,
   "metadata": {},
   "outputs": [
    {
     "data": {
      "text/plain": [
       "'\"{\\\\\"search_query\\\\\":\\\\\"calcium score high cholesterol relationship\\\\\",\\\\\"justification\\\\\":\\\\\"To find the relationship between Calcium CT score and high cholesterol.\\\\\"}\"'"
      ]
     },
     "execution_count": 31,
     "metadata": {},
     "output_type": "execute_result"
    }
   ],
   "source": [
    "import json\n",
    "\n",
    "json.dumps(\n",
    "    output.model_dump_json(),\n",
    "    indent=2,\n",
    "    ensure_ascii=False\n",
    "    )"
   ]
  },
  {
   "cell_type": "code",
   "execution_count": 32,
   "metadata": {},
   "outputs": [],
   "source": [
    "from typing_extensions import TypedDict\n",
    "from langgraph.graph import StateGraph, START, END\n",
    "from IPython.display import Image, display\n",
    "\n",
    "# Graph state\n",
    "class State(TypedDict):\n",
    "    topic: str\n",
    "    joke: str\n",
    "    improved_joke: str\n",
    "    final_joke: str\n",
    "\n",
    "\n",
    "# Nodes\n",
    "def generate_joke(state: State):\n",
    "    \"\"\"First LLM call to generate initial joke\"\"\"\n",
    "\n",
    "    msg = llm.invoke(f\"Write a short joke about {state['topic']}\")\n",
    "    return {\"joke\": msg.content}\n",
    "\n",
    "\n",
    "def check_punchline(state: State):\n",
    "    \"\"\"Gate function to check if the joke has a punchline\"\"\"\n",
    "\n",
    "    # Simple check - does the joke contain \"?\" or \"!\"\n",
    "    if \"?\" in state[\"joke\"] or \"!\" in state[\"joke\"]:\n",
    "        return \"Fail\"\n",
    "    return \"Pass\"\n",
    "\n",
    "\n",
    "def improve_joke(state: State):\n",
    "    \"\"\"Second LLM call to improve the joke\"\"\"\n",
    "\n",
    "    msg = llm.invoke(f\"Make this joke funnier by adding wordplay: {state['joke']}\")\n",
    "    return {\"improved_joke\": msg.content}\n",
    "\n",
    "\n",
    "def polish_joke(state: State):\n",
    "    \"\"\"Third LLM call for final polish\"\"\"\n",
    "\n",
    "    msg = llm.invoke(f\"Add a surprising twist to this joke: {state['improved_joke']}\")\n",
    "    return {\"final_joke\": msg.content}\n",
    "\n",
    "\n",
    "workflow = StateGraph(State)\n",
    "\n",
    "workflow.add_node('generate_joke', generate_joke)\n",
    "workflow.add_node('improve_joke', improve_joke)\n",
    "workflow.add_node('polish_joke', polish_joke)\n",
    "\n",
    "workflow.add_edge(START, \"generate_joke\")\n",
    "workflow.add_conditional_edges(\n",
    "    \"generate_joke\",\n",
    "    check_punchline,\n",
    "    {\"Fail\" : \"improve_joke\", \"Pass\" : END}\n",
    ")\n",
    "workflow.add_edge('improve_joke', 'polish_joke')\n",
    "workflow.add_edge('polish_joke', END)\n",
    "\n",
    "chain = workflow.compile()"
   ]
  },
  {
   "cell_type": "code",
   "execution_count": 33,
   "metadata": {},
   "outputs": [
    {
     "data": {
      "image/png": "[encoded data removed]",
      "text/plain": [
       "<IPython.core.display.Image object>"
      ]
     },
     "execution_count": 33,
     "metadata": {},
     "output_type": "execute_result"
    }
   ],
   "source": [
    "Image(chain.get_graph().draw_mermaid_png())"
   ]
  },
  {
   "cell_type": "code",
   "execution_count": 34,
   "metadata": {},
   "outputs": [
    {
     "name": "stdout",
     "output_type": "stream",
     "text": [
      "Initial Joke:\n",
      "Why did the cat join the Red Cross? \n",
      "\n",
      "Because he wanted to be a first-aid kit! \n",
      "\n",
      "--- --- ---\n",
      "\n",
      "Improved Joke:\n",
      "Okay, here are a few options, playing with words related to cats, first aid, and the Red Cross:\n",
      "\n",
      "**Option 1 (Focus on cat puns):**\n",
      "\n",
      "Why did the cat join the Red Cross?\n",
      "\n",
      "Because he wanted to be a **purr-amedic** and **mend** some broken spirits! He heard they needed a **cat-alyst** for healing.\n",
      "\n",
      "**Option 2 (Focus on Red Cross and First Aid):**\n",
      "\n",
      "Why did the cat join the Red Cross?\n",
      "\n",
      "Because he wanted to be a first-aid **claw-set** organizer! He heard they were looking for someone to **paw-vide** emergency assistance! He wanted to be on the **front lines**... or at least on the **fur-ont lines**!\n",
      "\n",
      "**Option 3 (More general silly wordplay):**\n",
      "\n",
      "Why did the cat join the Red Cross?\n",
      "\n",
      "Because he wanted to learn how to **bandage** his reputation as a couch potato! He heard they gave out **paw-some** certificates.\n",
      "\n",
      "**Why these are funnier:**\n",
      "\n",
      "*   **Wordplay/Puns:**  The additions directly use words associated with cats (purr, mend, paw, claw, fur) and twist them to fit the context of first aid and the Red Cross.\n",
      "*   **Implied Situation:** The new punchlines create a slightly more elaborate (and absurd) scenario, making the cat's motivation more humorous.\n",
      "*   **Surprise:**  The combination of expected elements (cat, Red Cross) with unexpected wordplay increases the element of surprise, which is key to humor.\n",
      "\n",
      "I'd say Option 1 or Option 2 is strongest depending on if you want to lean more into cat puns or Red Cross puns. Good luck with your joke!\n",
      "\n",
      "--- --- ---\n",
      "\n",
      "Final Joke:\n",
      "Okay, I like the direction we're going! Let's add the surprising twist to Option 2, as I think it sets up the best expectation to subvert.\n",
      "\n",
      "**Option 2 (Focus on Red Cross and First Aid) with SURPRISE TWIST:**\n",
      "\n",
      "Why did the cat join the Red Cross?\n",
      "\n",
      "Because he wanted to be a first-aid **claw-set** organizer! He heard they were looking for someone to **paw-vide** emergency assistance! He wanted to be on the **front lines**... or at least on the **fur-ont lines**!\n",
      "\n",
      "...But really, he just kept hearing about all the free tuna sandwiches at the blood drives.\n",
      "\n",
      "**Why this twist works:**\n",
      "\n",
      "*   **Contrasting Expectations:** The build-up focuses on noble (albeit punny) reasons for joining the Red Cross. The twist reveals a much more self-serving and mundane motivation (free food).\n",
      "*   **Humor from the Absurd:**  The sudden shift in motivation is inherently funny. It's unexpected and plays on the stereotypical image of a cat motivated primarily by food.\n",
      "*   **Relatability:** While a cat joining the Red Cross is absurd, being motivated by free food is something many people can relate to, adding another layer to the humor.\n"
     ]
    }
   ],
   "source": [
    "state = chain.invoke({\n",
    "    'topic' : 'cats'\n",
    "})\n",
    "\n",
    "print('Initial Joke:')\n",
    "print(state['joke'])\n",
    "print('\\n--- --- ---\\n')\n",
    "if \"improved_joke\" in state:\n",
    "    print(\"Improved Joke:\")\n",
    "    print(state['improved_joke'])\n",
    "    print('\\n--- --- ---\\n')\n",
    "\n",
    "    print('Final Joke:')\n",
    "    print(state['final_joke'])\n",
    "\n",
    "else:\n",
    "    print('Joke failed quality gate - no punchline detected!')"
   ]
  },
  {
   "cell_type": "code",
   "execution_count": 35,
   "metadata": {},
   "outputs": [
    {
     "data": {
      "text/plain": [
       "{'topic': 'cats',\n",
       " 'joke': 'Why did the cat join the Red Cross? \\n\\nBecause he wanted to be a first-aid kit! ',\n",
       " 'improved_joke': \"Okay, here are a few options, playing with words related to cats, first aid, and the Red Cross:\\n\\n**Option 1 (Focus on cat puns):**\\n\\nWhy did the cat join the Red Cross?\\n\\nBecause he wanted to be a **purr-amedic** and **mend** some broken spirits! He heard they needed a **cat-alyst** for healing.\\n\\n**Option 2 (Focus on Red Cross and First Aid):**\\n\\nWhy did the cat join the Red Cross?\\n\\nBecause he wanted to be a first-aid **claw-set** organizer! He heard they were looking for someone to **paw-vide** emergency assistance! He wanted to be on the **front lines**... or at least on the **fur-ont lines**!\\n\\n**Option 3 (More general silly wordplay):**\\n\\nWhy did the cat join the Red Cross?\\n\\nBecause he wanted to learn how to **bandage** his reputation as a couch potato! He heard they gave out **paw-some** certificates.\\n\\n**Why these are funnier:**\\n\\n*   **Wordplay/Puns:**  The additions directly use words associated with cats (purr, mend, paw, claw, fur) and twist them to fit the context of first aid and the Red Cross.\\n*   **Implied Situation:** The new punchlines create a slightly more elaborate (and absurd) scenario, making the cat's motivation more humorous.\\n*   **Surprise:**  The combination of expected elements (cat, Red Cross) with unexpected wordplay increases the element of surprise, which is key to humor.\\n\\nI'd say Option 1 or Option 2 is strongest depending on if you want to lean more into cat puns or Red Cross puns. Good luck with your joke!\",\n",
       " 'final_joke': \"Okay, I like the direction we're going! Let's add the surprising twist to Option 2, as I think it sets up the best expectation to subvert.\\n\\n**Option 2 (Focus on Red Cross and First Aid) with SURPRISE TWIST:**\\n\\nWhy did the cat join the Red Cross?\\n\\nBecause he wanted to be a first-aid **claw-set** organizer! He heard they were looking for someone to **paw-vide** emergency assistance! He wanted to be on the **front lines**... or at least on the **fur-ont lines**!\\n\\n...But really, he just kept hearing about all the free tuna sandwiches at the blood drives.\\n\\n**Why this twist works:**\\n\\n*   **Contrasting Expectations:** The build-up focuses on noble (albeit punny) reasons for joining the Red Cross. The twist reveals a much more self-serving and mundane motivation (free food).\\n*   **Humor from the Absurd:**  The sudden shift in motivation is inherently funny. It's unexpected and plays on the stereotypical image of a cat motivated primarily by food.\\n*   **Relatability:** While a cat joining the Red Cross is absurd, being motivated by free food is something many people can relate to, adding another layer to the humor.\"}"
      ]
     },
     "execution_count": 35,
     "metadata": {},
     "output_type": "execute_result"
    }
   ],
   "source": [
    "state"
   ]
  },
  {
   "cell_type": "markdown",
   "metadata": {},
   "source": [
    "## Parallelization"
   ]
  },
  {
   "cell_type": "code",
   "execution_count": 38,
   "metadata": {},
   "outputs": [],
   "source": [
    "class State(TypedDict):\n",
    "    topic : str\n",
    "    joke : str \n",
    "    story : str \n",
    "    poem : str \n",
    "    combined_output : str\n",
    "\n",
    "def call_llm_1(state:State):\n",
    "    \"\"\"First LLM call to generate initial joke\"\"\"\n",
    "    msg = llm.invoke(f\"\"\"Write a joke about {state['topic']}\"\"\")\n",
    "    return {'joke' : msg.content}\n",
    "\n",
    "def call_llm_2(state:State):\n",
    "    \"\"\"Second LLM call to generate story\"\"\"\n",
    "\n",
    "    msg = llm.invoke(f\"Write a story about {state['topic']}\")\n",
    "    return {'story' : msg.content}\n",
    "\n",
    "def call_llm_3(state:State):\n",
    "    \"\"\"Third LLM call to generate poem\"\"\"\n",
    "\n",
    "    msg = llm.invoke(f\"Write a poem about {state['topic']}\")\n",
    "    return {'poem' : msg.content}\n",
    "\n",
    "\n",
    "def aggregator(state:State):\n",
    "    \"\"\"Combine the joke and story into a single output\"\"\"\n",
    "\n",
    "    combined = f\"Here's a story, joke and poem about {state['topic']}!\\n\\n\"\n",
    "    combined += f\"STORY:\\n{state['story']}\\n\\n\"\n",
    "    combined += f\"JOKE:\\n{state['joke']}\\n\\n\"\n",
    "    combined += f\"POEM:\\n{state['poem']}\"\n",
    "    return {'combined_output':combined}"
   ]
  },
  {
   "cell_type": "code",
   "execution_count": 39,
   "metadata": {},
   "outputs": [],
   "source": [
    "parallel_builder = StateGraph(State)\n",
    "\n",
    "parallel_builder.add_node(\"call_llm_1\", call_llm_1)\n",
    "parallel_builder.add_node(\"call_llm_2\", call_llm_2)\n",
    "parallel_builder.add_node(\"call_llm_3\", call_llm_3)\n",
    "parallel_builder.add_node(\"aggregator\", aggregator)\n",
    "\n",
    "parallel_builder.add_edge(START, 'call_llm_1')\n",
    "parallel_builder.add_edge(START, 'call_llm_2')\n",
    "parallel_builder.add_edge(START, 'call_llm_3')\n",
    "\n",
    "parallel_builder.add_edge('call_llm_1', \"aggregator\")\n",
    "parallel_builder.add_edge('call_llm_2', \"aggregator\")\n",
    "parallel_builder.add_edge('call_llm_3', \"aggregator\")\n",
    "parallel_builder.add_edge('aggregator', END)\n",
    "\n",
    "parallel_workflow = parallel_builder.compile()"
   ]
  },
  {
   "cell_type": "code",
   "execution_count": 40,
   "metadata": {},
   "outputs": [
    {
     "data": {
      "image/png": "[encoded data removed]",
      "text/plain": [
       "<IPython.core.display.Image object>"
      ]
     },
     "execution_count": 40,
     "metadata": {},
     "output_type": "execute_result"
    }
   ],
   "source": [
    "Image(parallel_workflow.get_graph().draw_mermaid_png())"
   ]
  },
  {
   "cell_type": "code",
   "execution_count": 41,
   "metadata": {},
   "outputs": [
    {
     "name": "stdout",
     "output_type": "stream",
     "text": [
      "Here's a story, joke and poem about cats!\n",
      "\n",
      "STORY:\n",
      "The alley was a symphony of shadows and scents, a place where the city exhaled its secrets. Here, in the labyrinth of overflowing bins and crumbling brick, lived a tribe of cats, each a unique brushstroke on the canvas of feral life.\n",
      "\n",
      "There was Marmalade, a ginger tomcat with one ear perpetually folded, the undisputed leader. He ruled with a gravelly meow and a surprisingly gentle paw, always ensuring the weakest got first dibs on the discarded scraps. Then there was Luna, a sleek black panther with eyes like molten gold. She was the hunter, the provider, disappearing into the night and returning with plump mice and the occasional unlucky pigeon.\n",
      "\n",
      "And then there was Jasper, a skinny, calico kitten with oversized ears and a perpetually worried expression. He was new to the alley, abandoned in a cardboard box that reeked of cleaner and despair. He trembled constantly, overwhelmed by the cacophony of yowls and the pungent aroma of rotting food.\n",
      "\n",
      "The other cats mostly ignored him. He was small, insignificant. But Luna, with her hunter's instinct, noticed him. She saw the fear in his wide eyes, the tremor in his tiny frame. She remembered the days when she too was a stray, lost and alone.\n",
      "\n",
      "One night, after a particularly successful hunt, Luna dragged a plump mouse back to the alley. Marmalade, already halfway through his own share of the leftovers, gave her a nod of respect. Luna, however, ignored him and padded over to Jasper, who was huddled beneath a leaky pipe.\n",
      "\n",
      "She nudged the mouse towards him. Jasper, startled, flinched away. He'd never seen anything like it before, a dead creature offered as a gift.\n",
      "\n",
      "Luna purred, a low rumble that vibrated through the damp air. She pushed the mouse closer, her golden eyes unwavering. Slowly, hesitantly, Jasper crept forward and sniffed it. He was starving.\n",
      "\n",
      "He took a tiny nibble. The taste was strange, unfamiliar. But it was food.\n",
      "\n",
      "Night after night, Luna brought him food. She taught him how to hunt, how to stalk a mouse, how to use his claws effectively. She showed him the hidden crevices where the warmest sunlight pooled, and the best routes to escape the neighborhood dogs.\n",
      "\n",
      "Marmalade, initially skeptical, watched with a grudging admiration. He saw the spark of life return to Jasper's eyes, the growing confidence in his stride. He saw Luna, usually aloof and independent, patiently grooming the kitten, sharing her knowledge and her warmth.\n",
      "\n",
      "Under Luna's tutelage, Jasper blossomed. He grew stronger, bolder, his calico fur taking on a sheen from the meager nutrients he now received. He even learned to hold his own in the occasional scuffle.\n",
      "\n",
      "One day, a sleek Siamese cat, obviously a pampered pet who had strayed from home, wandered into the alley. She was lost and frightened, her pristine fur already smudged with dirt. The other cats eyed her warily, their distrust palpable.\n",
      "\n",
      "It was Jasper who stepped forward. He remembered his own fear, his own isolation. He remembered Luna's kindness. He nudged the Siamese, offering her a piece of the leftover chicken he had scavenged.\n",
      "\n",
      "The Siamese looked at him, surprised. Then, she ate.\n",
      "\n",
      "And in that moment, Marmalade understood. Luna hadn't just saved Jasper. She had taught him compassion, resilience, and the power of a shared meal in a harsh world. He had learned to pay it forward.\n",
      "\n",
      "The alley remained a tough place, a constant battle for survival. But now, with Jasper beside them, and the memory of Luna's unwavering kindness, the tribe of cats knew that even in the darkest corners of the city, hope, like a single, tenacious weed, could always find a way to bloom. The alley, once just a place of survival, was becoming a home. And it all started with a skinny, calico kitten and a black panther with a heart of gold.\n",
      "\n",
      "JOKE:\n",
      "Why did the cat join the Red Cross?\n",
      "\n",
      "Because he wanted to be a first-aid kit!\n",
      "\n",
      "POEM:\n",
      "A velvet shadow, sleek and sly,\n",
      "With emerald glints within each eye.\n",
      "A purring rumble, soft and deep,\n",
      "While secrets ancient, they do keep.\n",
      "\n",
      "A sunbeam dancer, warm and bright,\n",
      "A flash of mischief in the light.\n",
      "A paw that taps, a playful swat,\n",
      "Then curls in slumber, just like that.\n",
      "\n",
      "A hunter born, a silent grace,\n",
      "Across the garden, leaves no trace.\n",
      "A feathered toy, a crumpled thread,\n",
      "Imaginary foes they dread.\n",
      "\n",
      "A regal bearing, proud and tall,\n",
      "Ignoring summons, heed no call.\n",
      "Unless it's kibble, rich and round,\n",
      "Then eager meows will surely sound.\n",
      "\n",
      "A furry comfort, soft and warm,\n",
      "Protecting you from every storm.\n",
      "A loyal presence, through the night,\n",
      "A purring star, a guiding light.\n",
      "\n",
      "So cherish well, this feline friend,\n",
      "Their love and whims, that know no end.\n",
      "For in their world, so strange and deep,\n",
      "A magic bond, they truly keep.\n"
     ]
    }
   ],
   "source": [
    "state = parallel_workflow.invoke({'topic':'cats'})\n",
    "print(state['combined_output'])"
   ]
  },
  {
   "cell_type": "code",
   "execution_count": null,
   "metadata": {},
   "outputs": [],
   "source": []
  }
 ],
 "metadata": {
  "kernelspec": {
   "display_name": "langgraph",
   "language": "python",
   "name": "python3"
  },
  "language_info": {
   "codemirror_mode": {
    "name": "ipython",
    "version": 3
   },
   "file_extension": ".py",
   "mimetype": "text/x-python",
   "name": "python",
   "nbconvert_exporter": "python",
   "pygments_lexer": "ipython3",
   "version": "3.12.4"
  }
 },
 "nbformat": 4,
 "nbformat_minor": 2
}
